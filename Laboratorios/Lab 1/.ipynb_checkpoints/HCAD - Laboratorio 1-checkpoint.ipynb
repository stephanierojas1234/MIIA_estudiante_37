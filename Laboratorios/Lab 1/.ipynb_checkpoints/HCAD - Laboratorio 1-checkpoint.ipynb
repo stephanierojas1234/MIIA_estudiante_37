{
 "cells": [
  {
   "cell_type": "markdown",
   "metadata": {},
   "source": [
    "<img src=\"Archivos/miia.jpg\" width=800x>\n",
    "\n",
    "# Laboratorio 1\n",
    "\n",
    "## Desarrollo de una herramienta analítica usando solo Python\n",
    "\n",
    "Este laboratorio busca evaluar las habilidades relacionadas con la primera parte del curso, correspondiente a las primeras tres semanas. Este enunciado estará disponible desde la semana 2 y deberá entregarse al final de la semana 4 en el enlace correspondiente. Su desarrollo corresponde al 30% de la calificación total del curso.\n",
    "\n",
    "Esta actividad responde directamente al segundo objetivo del curso:\n",
    "* Implementar una herramienta analítica que permita responder una pregunta de negocio para un problema sencillo de analítica de datos, utilizando únicamente algorítmica básica en Python.\n",
    "\n",
    "Al desarrollar este laboratorio pondrás a prueba tus habilidades para: \n",
    "1. Leer datos desde archivos.\n",
    "2. Almacenar datos en  estructuras de Python.\n",
    "3. Crear y llamar funciones correctamente.\n",
    "4. Implementar condicionales diferenciando *if*, *elif* y *else*\n",
    "5. Implementar ciclos diferenciando el propósito de *for* y *while*\n",
    "6. Importar paquetes y utilizar sus funciones.\n",
    "\n",
    "**NOTAS:**\n",
    "- Te recomendamos leer por completo el enunciado del laboratorio antes de comenzar, de forma que tengas claro el propósito completo de la actividad, y puedas desarrollar tu solución apuntando a él desde el comienzo.\n"
   ]
  },
  {
   "cell_type": "markdown",
   "metadata": {},
   "source": [
    "## Contexto: exploración del potencial para asignar becas Uniandes\n",
    "La Universidad de los Andes se ha caracterizado por su compromiso con la generación de impacto en la sociedad a través de diferentes programas de becas. Programas como Quiero Estudiar, o Ser Pilo Paga, entre otros, han sido revolucionarios, al permitir que estudiantes de bajos recursos puedan acceder a una de las universidades privadas más importantes del país.\n",
    "\n",
    "Actualmente, la Universidad quiere evaluar el potencial impacto que tendrían algunos programas de *acción afirmativa* para asignación de becas, con base en información demográfica que ha obtenido a través de encuestas. Se cuenta con información respecto a la edad, género, estado civil, estrato socio-económico, región de proveniencia, desempeño académico y nivel de escolaridad de las personas que han respondido encuestas. Los encargados de diseñar el programa saben que utilizar criterios basados en este tipo de variables es un tema sensible, pero es necesario si se quieren focalizar las oportunidades en poblaciones menos representadas.\n",
    "\n",
    "El objetivo de este laboratorio es crear una herramienta computacional que permita a un tomador de decisiones explorar qué efecto podría tener el uso de diferentes reglas para seleccionar la población que sería beneficiaria de las becas. Puntualmente, se espera que, dadas unas reglas de selección (ej.: pertenecer a cierta región, rango de edad, etc.), la herramienta ofrezca información sobre la población potencialmente beneficiada, de forma que exista un sustento al momento de definir las reglas de selección."
   ]
  },
  {
   "cell_type": "markdown",
   "metadata": {},
   "source": [
    "## 1. Obtención e inspección de archivos\n",
    "\n",
    "Los datos de encuestas fueron obtenidos como parte de un trabajo de campo, y por limitaciones tecnológicas, solo se cuenta con la información en archivos de texto plano. Cada archivo corresponde a una de las variables antes mencionadas y se puede garantizar que todos relacionan a las personas encuestadas en el mismo orden (i.e., la primera línea de todos los archivos corresponde a datos de la primera persona encuestada, la segunda línea a la segunda persona, etc.).\n",
    "\n",
    "Los archivos con los que se cuenta son:\n",
    "* *edades.txt*: un archivo ordenado con las edades de cada persona de la población encuestada \n",
    "* *género.txt*: un archivo ordenado con el género de cada persona de la población encuestada \n",
    "* *estado_civil.txt*: un archivo ordenado con el estado civil de cada persona de la población encuestada \n",
    "* *escolaridad.txt*: un archivo ordenado con el nivel de escolaridad de cada persona de la población encuestada \n",
    "* *estrato.txt*: un archivo ordenado con el estrato socio-económico de cada persona de la población encuestada\n",
    "* *region.txt*: un archivo ordenado con la región de proveniencia de cada persona de la población encuestada"
   ]
  },
  {
   "cell_type": "markdown",
   "metadata": {},
   "source": [
    "**Misión 1**\n",
    "\n",
    "Poner en variables de Python la información que está en los archivos listados arriba.\n",
    "\n",
    "* *Versión base*: escribe línea a línea el código necesario para poner en variables de Python la información de cada uno de los archivos.\n",
    "\n",
    "* *Milla extra*: escribe una función que sea capaz de hacer lo anterior para un archivo y úsala en un ciclo para automatizar la lectura de los diferentes archivos."
   ]
  },
  {
   "cell_type": "code",
   "execution_count": 117,
   "metadata": {},
   "outputs": [],
   "source": [
    "archivo='edad.txt'"
   ]
  },
  {
   "cell_type": "code",
   "execution_count": 118,
   "metadata": {},
   "outputs": [],
   "source": [
    "def archivo_a_lista(archivo):\n",
    "    with open(archivo, encoding = \"utf-8-sig\") as f:\n",
    "        lineas_directorio = f.readlines()\n",
    "    return lineas_directorio\n",
    "\n",
    "edades=archivo_a_lista(archivo)"
   ]
  },
  {
   "cell_type": "code",
   "execution_count": 120,
   "metadata": {},
   "outputs": [
    {
     "data": {
      "text/plain": [
       "[36,\n",
       " 66,\n",
       " 24,\n",
       " 55,\n",
       " 26,\n",
       " 69,\n",
       " 79,\n",
       " 54,\n",
       " 51,\n",
       " 80,\n",
       " 30,\n",
       " 64,\n",
       " 40,\n",
       " 53,\n",
       " 47,\n",
       " 24,\n",
       " 76,\n",
       " 65,\n",
       " 38,\n",
       " 37,\n",
       " 71,\n",
       " 51,\n",
       " 51,\n",
       " 33,\n",
       " 24,\n",
       " 71,\n",
       " 78,\n",
       " 75,\n",
       " 38,\n",
       " 49,\n",
       " 49,\n",
       " 53,\n",
       " 62,\n",
       " 26,\n",
       " 67,\n",
       " 68,\n",
       " 70,\n",
       " 57,\n",
       " 47,\n",
       " 30,\n",
       " 44,\n",
       " 22,\n",
       " 30,\n",
       " 64,\n",
       " 21,\n",
       " 54,\n",
       " 35,\n",
       " 52,\n",
       " 27,\n",
       " 20,\n",
       " 59,\n",
       " 40,\n",
       " 23,\n",
       " 58,\n",
       " 71,\n",
       " 77,\n",
       " 70,\n",
       " 31,\n",
       " 19,\n",
       " 31,\n",
       " 75,\n",
       " 63,\n",
       " 79,\n",
       " 67,\n",
       " 46,\n",
       " 79,\n",
       " 30,\n",
       " 19,\n",
       " 64,\n",
       " 52,\n",
       " 79,\n",
       " 35,\n",
       " 74,\n",
       " 18,\n",
       " 22,\n",
       " 58,\n",
       " 77,\n",
       " 22,\n",
       " 73,\n",
       " 59,\n",
       " 18,\n",
       " 46,\n",
       " 35,\n",
       " 38,\n",
       " 80,\n",
       " 65,\n",
       " 41,\n",
       " 46,\n",
       " 36,\n",
       " 46,\n",
       " 56,\n",
       " 37,\n",
       " 67,\n",
       " 20,\n",
       " 46,\n",
       " 62,\n",
       " 70,\n",
       " 31,\n",
       " 20,\n",
       " 64,\n",
       " 78,\n",
       " 66,\n",
       " 45,\n",
       " 43,\n",
       " 70,\n",
       " 43,\n",
       " 24,\n",
       " 58,\n",
       " 62,\n",
       " 60,\n",
       " 80,\n",
       " 73,\n",
       " 73,\n",
       " 57,\n",
       " 42,\n",
       " 51,\n",
       " 52,\n",
       " 58,\n",
       " 39,\n",
       " 43,\n",
       " 66,\n",
       " 32,\n",
       " 49,\n",
       " 44,\n",
       " 57,\n",
       " 39,\n",
       " 21,\n",
       " 27,\n",
       " 31,\n",
       " 28,\n",
       " 44,\n",
       " 80,\n",
       " 71,\n",
       " 33,\n",
       " 22,\n",
       " 78,\n",
       " 60,\n",
       " 70,\n",
       " 62,\n",
       " 45,\n",
       " 78,\n",
       " 78,\n",
       " 42,\n",
       " 21,\n",
       " 44,\n",
       " 38,\n",
       " 19,\n",
       " 31,\n",
       " 58,\n",
       " 69,\n",
       " 34,\n",
       " 69,\n",
       " 80,\n",
       " 20,\n",
       " 59,\n",
       " 29,\n",
       " 33,\n",
       " 29,\n",
       " 44,\n",
       " 55,\n",
       " 47,\n",
       " 26,\n",
       " 47,\n",
       " 20,\n",
       " 43,\n",
       " 27,\n",
       " 29,\n",
       " 21,\n",
       " 70,\n",
       " 69,\n",
       " 45,\n",
       " 69,\n",
       " 34,\n",
       " 28,\n",
       " 50,\n",
       " 79,\n",
       " 29,\n",
       " 53,\n",
       " 36,\n",
       " 39,\n",
       " 57,\n",
       " 62,\n",
       " 42,\n",
       " 51,\n",
       " 57,\n",
       " 67,\n",
       " 52,\n",
       " 58,\n",
       " 36,\n",
       " 27,\n",
       " 70,\n",
       " 21,\n",
       " 55,\n",
       " 50,\n",
       " 46,\n",
       " 75,\n",
       " 54,\n",
       " 80,\n",
       " 61,\n",
       " 78,\n",
       " 21,\n",
       " 76,\n",
       " 61,\n",
       " 67,\n",
       " 66,\n",
       " 27,\n",
       " 74,\n",
       " 21,\n",
       " 21,\n",
       " 55,\n",
       " 45,\n",
       " 21,\n",
       " 22,\n",
       " 30,\n",
       " 64,\n",
       " 78,\n",
       " 52,\n",
       " 61,\n",
       " 19,\n",
       " 53,\n",
       " 43,\n",
       " 66,\n",
       " 34,\n",
       " 43,\n",
       " 70,\n",
       " 27,\n",
       " 53,\n",
       " 40,\n",
       " 32,\n",
       " 33,\n",
       " 63,\n",
       " 69,\n",
       " 22,\n",
       " 58,\n",
       " 23,\n",
       " 44,\n",
       " 65,\n",
       " 20,\n",
       " 39,\n",
       " 54,\n",
       " 24,\n",
       " 54,\n",
       " 50,\n",
       " 59,\n",
       " 20,\n",
       " 19,\n",
       " 19,\n",
       " 36,\n",
       " 48,\n",
       " 59,\n",
       " 25,\n",
       " 74,\n",
       " 36,\n",
       " 57,\n",
       " 66,\n",
       " 60,\n",
       " 56,\n",
       " 48,\n",
       " 68,\n",
       " 60,\n",
       " 50,\n",
       " 30,\n",
       " 36,\n",
       " 78,\n",
       " 75,\n",
       " 36,\n",
       " 80,\n",
       " 48,\n",
       " 74,\n",
       " 47,\n",
       " 40,\n",
       " 71,\n",
       " 57,\n",
       " 46,\n",
       " 77,\n",
       " 29,\n",
       " 77,\n",
       " 65,\n",
       " 35,\n",
       " 29,\n",
       " 36,\n",
       " 53,\n",
       " 22,\n",
       " 28,\n",
       " 61,\n",
       " 40,\n",
       " 57,\n",
       " 20,\n",
       " 43,\n",
       " 54,\n",
       " 54,\n",
       " 18,\n",
       " 75,\n",
       " 45,\n",
       " 39,\n",
       " 41,\n",
       " 56,\n",
       " 71,\n",
       " 54,\n",
       " 58,\n",
       " 79,\n",
       " 30,\n",
       " 75,\n",
       " 45,\n",
       " 38,\n",
       " 55,\n",
       " 24,\n",
       " 68,\n",
       " 30,\n",
       " 24,\n",
       " 52,\n",
       " 29,\n",
       " 76,\n",
       " 25,\n",
       " 58,\n",
       " 65,\n",
       " 53,\n",
       " 64,\n",
       " 32,\n",
       " 74,\n",
       " 18,\n",
       " 52,\n",
       " 48,\n",
       " 65,\n",
       " 42,\n",
       " 77,\n",
       " 31,\n",
       " 63,\n",
       " 35,\n",
       " 48,\n",
       " 71,\n",
       " 48,\n",
       " 70,\n",
       " 57,\n",
       " 32,\n",
       " 45,\n",
       " 68,\n",
       " 23,\n",
       " 26,\n",
       " 37,\n",
       " 34,\n",
       " 27,\n",
       " 49,\n",
       " 57,\n",
       " 42,\n",
       " 67,\n",
       " 70,\n",
       " 59,\n",
       " 29,\n",
       " 20,\n",
       " 42,\n",
       " 18,\n",
       " 48,\n",
       " 41,\n",
       " 77,\n",
       " 68,\n",
       " 79,\n",
       " 49,\n",
       " 24,\n",
       " 24,\n",
       " 23,\n",
       " 73,\n",
       " 27,\n",
       " 32,\n",
       " 80,\n",
       " 39,\n",
       " 74,\n",
       " 47,\n",
       " 44,\n",
       " 54,\n",
       " 46,\n",
       " 77,\n",
       " 55,\n",
       " 34,\n",
       " 74,\n",
       " 21,\n",
       " 69,\n",
       " 69,\n",
       " 62,\n",
       " 35,\n",
       " 21,\n",
       " 24,\n",
       " 75,\n",
       " 67,\n",
       " 71,\n",
       " 49,\n",
       " 28,\n",
       " 56,\n",
       " 58,\n",
       " 68,\n",
       " 42,\n",
       " 60,\n",
       " 44,\n",
       " 37,\n",
       " 69,\n",
       " 75,\n",
       " 27,\n",
       " 57,\n",
       " 52,\n",
       " 22,\n",
       " 76,\n",
       " 48,\n",
       " 78,\n",
       " 79,\n",
       " 28,\n",
       " 50,\n",
       " 35,\n",
       " 66,\n",
       " 66,\n",
       " 58,\n",
       " 22,\n",
       " 23,\n",
       " 74,\n",
       " 38,\n",
       " 31,\n",
       " 39,\n",
       " 55,\n",
       " 18,\n",
       " 66,\n",
       " 30,\n",
       " 57,\n",
       " 28,\n",
       " 50,\n",
       " 24,\n",
       " 76,\n",
       " 18,\n",
       " 44,\n",
       " 80,\n",
       " 54,\n",
       " 43,\n",
       " 50,\n",
       " 79,\n",
       " 67,\n",
       " 63,\n",
       " 53,\n",
       " 71,\n",
       " 19,\n",
       " 38,\n",
       " 53,\n",
       " 65,\n",
       " 20,\n",
       " 45,\n",
       " 25,\n",
       " 75,\n",
       " 66,\n",
       " 25,\n",
       " 24,\n",
       " 33,\n",
       " 43,\n",
       " 66,\n",
       " 33,\n",
       " 46,\n",
       " 53,\n",
       " 36,\n",
       " 50,\n",
       " 76,\n",
       " 80,\n",
       " 74,\n",
       " 64,\n",
       " 22,\n",
       " 41,\n",
       " 20,\n",
       " 75,\n",
       " 54,\n",
       " 72,\n",
       " 38,\n",
       " 24,\n",
       " 67,\n",
       " 32,\n",
       " 50,\n",
       " 35,\n",
       " 21,\n",
       " 54,\n",
       " 64,\n",
       " 29,\n",
       " 29,\n",
       " 38,\n",
       " 47,\n",
       " 27,\n",
       " 73,\n",
       " 26,\n",
       " 69,\n",
       " 35,\n",
       " 70,\n",
       " 25,\n",
       " 19,\n",
       " 80,\n",
       " 60,\n",
       " 39,\n",
       " 76,\n",
       " 34,\n",
       " 59,\n",
       " 49,\n",
       " 23,\n",
       " 34,\n",
       " 23,\n",
       " 24,\n",
       " 50,\n",
       " 54,\n",
       " 66]"
      ]
     },
     "execution_count": 120,
     "metadata": {},
     "output_type": "execute_result"
    }
   ],
   "source": [
    "edades_num = [ int(x) for x in edades]\n",
    "edades_num"
   ]
  },
  {
   "cell_type": "code",
   "execution_count": 34,
   "metadata": {
    "scrolled": false
   },
   "outputs": [],
   "source": [
    "archivo2='genero.txt'\n",
    "def archivo_a_lista(archivo2):\n",
    "    with open(archivo2, encoding = \"utf-8-sig\") as f:\n",
    "        lineas_directorio = f.readlines()\n",
    "    return lineas_directorio\n",
    "\n",
    "genero=archivo_a_lista(archivo2)\n",
    "\n"
   ]
  },
  {
   "cell_type": "code",
   "execution_count": 44,
   "metadata": {},
   "outputs": [],
   "source": [
    "archivo3='estado_civil.txt'\n",
    "def archivo_a_lista(archivo3):\n",
    "    with open(archivo3, encoding = \"utf-8-sig\") as f:\n",
    "        lineas_directorio = f.readlines()\n",
    "    return lineas_directorio\n",
    "\n",
    "estado_civil=archivo_a_lista(archivo3)\n"
   ]
  },
  {
   "cell_type": "code",
   "execution_count": 48,
   "metadata": {},
   "outputs": [],
   "source": [
    "archivo4='escolaridad.txt'\n",
    "def archivo_a_lista(archivo4):\n",
    "    with open(archivo4, encoding = \"utf-8-sig\") as f:\n",
    "        lineas_directorio = f.readlines()\n",
    "    return lineas_directorio\n",
    "\n",
    "escolaridad=archivo_a_lista(archivo4)"
   ]
  },
  {
   "cell_type": "code",
   "execution_count": 54,
   "metadata": {},
   "outputs": [],
   "source": [
    "archivo5='estrato.txt'\n",
    "def archivo_a_lista(archivo5):\n",
    "    with open(archivo5, encoding = \"utf-8-sig\") as f:\n",
    "        lineas_directorio = f.readlines()\n",
    "    return lineas_directorio\n",
    "\n",
    "estrato=archivo_a_lista(archivo5)\n"
   ]
  },
  {
   "cell_type": "code",
   "execution_count": 58,
   "metadata": {},
   "outputs": [],
   "source": [
    "archivo6='region.txt'\n",
    "def archivo_a_lista(archivo6):\n",
    "    with open(archivo6, encoding = \"utf-8-sig\") as f:\n",
    "        lineas_directorio = f.readlines()\n",
    "    return lineas_directorio\n",
    "\n",
    "region=archivo_a_lista(archivo6)"
   ]
  },
  {
   "cell_type": "markdown",
   "metadata": {},
   "source": [
    "**Misión 2**\n",
    "\n",
    "Reportar las principales características en los datos.\n",
    "* *Versión base*: utilizar métricas básicas como conteos o promedios por categorías en los datos.\n",
    "* *Milla extra*: utilizar visualizaciones simples como diagramas de barras, de pastel u otros."
   ]
  },
  {
   "cell_type": "markdown",
   "metadata": {},
   "source": [
    "### Edad"
   ]
  },
  {
   "cell_type": "code",
   "execution_count": 25,
   "metadata": {},
   "outputs": [
    {
     "data": {
      "text/plain": [
       "48.748"
      ]
     },
     "execution_count": 25,
     "metadata": {},
     "output_type": "execute_result"
    }
   ],
   "source": [
    "suma=0\n",
    "i=0\n",
    "for elemento in edades_num:\n",
    "    suma +=elemento\n",
    "    i += 1\n",
    "promedio= suma / i\n",
    "promedio"
   ]
  },
  {
   "cell_type": "code",
   "execution_count": 29,
   "metadata": {
    "scrolled": true
   },
   "outputs": [
    {
     "data": {
      "text/plain": [
       "{'whiskers': [<matplotlib.lines.Line2D at 0x2a33e2d05e0>,\n",
       "  <matplotlib.lines.Line2D at 0x2a33e2d0940>],\n",
       " 'caps': [<matplotlib.lines.Line2D at 0x2a33e2d0ca0>,\n",
       "  <matplotlib.lines.Line2D at 0x2a33e2de040>],\n",
       " 'boxes': [<matplotlib.lines.Line2D at 0x2a33e2d0280>],\n",
       " 'medians': [<matplotlib.lines.Line2D at 0x2a33e2de3a0>],\n",
       " 'fliers': [<matplotlib.lines.Line2D at 0x2a33e2de700>],\n",
       " 'means': []}"
      ]
     },
     "execution_count": 29,
     "metadata": {},
     "output_type": "execute_result"
    },
    {
     "data": {
      "image/png": "[encoded data removed]",
      "text/plain": [
       "<Figure size 432x288 with 1 Axes>"
      ]
     },
     "metadata": {
      "needs_background": "light"
     },
     "output_type": "display_data"
    }
   ],
   "source": [
    "import matplotlib.pyplot as plt\n",
    "plt.boxplot(edades_num)"
   ]
  },
  {
   "cell_type": "markdown",
   "metadata": {},
   "source": [
    "### Genero"
   ]
  },
  {
   "cell_type": "code",
   "execution_count": 40,
   "metadata": {
    "scrolled": true
   },
   "outputs": [
    {
     "data": {
      "text/plain": [
       "[['masculino\\n', 204],\n",
       " ['femenino\\n', 251],\n",
       " ['otro\\n', 6],\n",
       " ['no binario\\n', 39]]"
      ]
     },
     "execution_count": 40,
     "metadata": {},
     "output_type": "execute_result"
    }
   ],
   "source": [
    "[[x,genero.count(x)] for x in set(genero)]"
   ]
  },
  {
   "cell_type": "code",
   "execution_count": 41,
   "metadata": {
    "scrolled": true
   },
   "outputs": [
    {
     "data": {
      "image/png": "[encoded data removed]",
      "text/plain": [
       "<Figure size 432x288 with 1 Axes>"
      ]
     },
     "metadata": {},
     "output_type": "display_data"
    }
   ],
   "source": [
    "conteos=[204,251,39,6]\n",
    "nombres=[\"masculino\",\"femenino\",\"no binario\",\"otro\"]\n",
    "plt.pie(conteos, labels=nombres)\n",
    "plt.show()"
   ]
  },
  {
   "cell_type": "markdown",
   "metadata": {},
   "source": [
    "### Estado civil"
   ]
  },
  {
   "cell_type": "code",
   "execution_count": 45,
   "metadata": {},
   "outputs": [
    {
     "data": {
      "text/plain": [
       "[['divorciada\\n', 137], ['soltera\\n', 148], ['viuda\\n', 16], ['casada\\n', 199]]"
      ]
     },
     "execution_count": 45,
     "metadata": {},
     "output_type": "execute_result"
    }
   ],
   "source": [
    "[[x,estado_civil.count(x)] for x in set(estado_civil)]"
   ]
  },
  {
   "cell_type": "code",
   "execution_count": 47,
   "metadata": {
    "scrolled": true
   },
   "outputs": [
    {
     "data": {
      "image/png": "[encoded data removed]",
      "text/plain": [
       "<Figure size 432x288 with 1 Axes>"
      ]
     },
     "metadata": {},
     "output_type": "display_data"
    }
   ],
   "source": [
    "conteos=[199,148,137,16]\n",
    "nombres=[\"casada\",\"soltera\",\"divorciada\",\"viuda\"]\n",
    "plt.pie(conteos, labels=nombres)\n",
    "plt.show()"
   ]
  },
  {
   "cell_type": "markdown",
   "metadata": {},
   "source": [
    "### Escolaridad"
   ]
  },
  {
   "cell_type": "code",
   "execution_count": 49,
   "metadata": {},
   "outputs": [
    {
     "data": {
      "text/plain": [
       "[['Profesional\\n', 117],\n",
       " ['Maestria\\n', 15],\n",
       " ['Secundaria\\n', 343],\n",
       " ['Primaria\\n', 25]]"
      ]
     },
     "execution_count": 49,
     "metadata": {},
     "output_type": "execute_result"
    }
   ],
   "source": [
    "[[x,escolaridad.count(x)] for x in set(escolaridad)]"
   ]
  },
  {
   "cell_type": "code",
   "execution_count": 50,
   "metadata": {
    "scrolled": true
   },
   "outputs": [
    {
     "data": {
      "image/png": "[encoded data removed]",
      "text/plain": [
       "<Figure size 432x288 with 1 Axes>"
      ]
     },
     "metadata": {
      "needs_background": "light"
     },
     "output_type": "display_data"
    }
   ],
   "source": [
    "# Declaramos valores para el eje x\n",
    "eje_x = ['Secundaria', 'Profesional', 'Primaria', 'Maestria']\n",
    " \n",
    "## Declaramos valores para el eje y\n",
    "eje_y = [343,117,25,15]\n",
    " \n",
    "## Creamos Gráfica\n",
    "plt.bar(eje_x, eje_y)\n",
    " \n",
    "## Legenda en el eje x\n",
    "plt.xlabel('Escolaridad')\n",
    " \n",
    "## Mostramos Gráfica\n",
    "plt.show()"
   ]
  },
  {
   "cell_type": "markdown",
   "metadata": {},
   "source": [
    "### Estrato"
   ]
  },
  {
   "cell_type": "code",
   "execution_count": 55,
   "metadata": {},
   "outputs": [
    {
     "data": {
      "text/plain": [
       "[['5\\n', 13], ['4\\n', 35], ['2\\n', 185], ['1\\n', 111], ['3\\n', 156]]"
      ]
     },
     "execution_count": 55,
     "metadata": {},
     "output_type": "execute_result"
    }
   ],
   "source": [
    "[[x,estrato.count(x)] for x in set(estrato)]"
   ]
  },
  {
   "cell_type": "code",
   "execution_count": 56,
   "metadata": {
    "scrolled": true
   },
   "outputs": [
    {
     "data": {
      "image/png": "[encoded data removed]",
      "text/plain": [
       "<Figure size 432x288 with 1 Axes>"
      ]
     },
     "metadata": {
      "needs_background": "light"
     },
     "output_type": "display_data"
    }
   ],
   "source": [
    "# Declaramos valores para el eje x\n",
    "eje_x = ['1', '2', '3', '4','5']\n",
    " \n",
    "## Declaramos valores para el eje y\n",
    "eje_y = [111,185,156,35,13]\n",
    " \n",
    "## Creamos Gráfica\n",
    "plt.bar(eje_x, eje_y)\n",
    " \n",
    "## Legenda en el eje x\n",
    "plt.xlabel('estrato')\n",
    " \n",
    "## Mostramos Gráfica\n",
    "plt.show()"
   ]
  },
  {
   "cell_type": "markdown",
   "metadata": {},
   "source": [
    "### Region"
   ]
  },
  {
   "cell_type": "code",
   "execution_count": 59,
   "metadata": {},
   "outputs": [
    {
     "data": {
      "text/plain": [
       "[['Orinoquia\\n', 33],\n",
       " ['Andina\\n', 142],\n",
       " ['Pacifica\\n', 117],\n",
       " ['Amazonia\\n', 15],\n",
       " ['Caribe\\n', 193]]"
      ]
     },
     "execution_count": 59,
     "metadata": {},
     "output_type": "execute_result"
    }
   ],
   "source": [
    "[[x,region.count(x)] for x in set(region)]"
   ]
  },
  {
   "cell_type": "code",
   "execution_count": 60,
   "metadata": {},
   "outputs": [
    {
     "data": {
      "image/png": "[encoded data removed]",
      "text/plain": [
       "<Figure size 432x288 with 1 Axes>"
      ]
     },
     "metadata": {},
     "output_type": "display_data"
    }
   ],
   "source": [
    "conteos=[33,142,117,15,193]\n",
    "nombres=[\"Orinoquia\",\"Andina\",\"Pacifica\",\"Amazonia\",\"Caribe\"]\n",
    "plt.pie(conteos, labels=nombres)\n",
    "plt.show()"
   ]
  },
  {
   "cell_type": "markdown",
   "metadata": {},
   "source": [
    "## 2. Abordaje de la pregunta de negocio\n",
    "\n",
    "El comité encargado de diseñar el programa de becas ha tenido dificultades para llegar a acuerdos. Algunos piensan que el criterio principal de selección debería ser respecto a lo económico y académico, sin importar otras características personales, mientras que otros piensan que considerar estas características es, de hecho, parte del espíritu del programa.\n",
    "\n",
    "* El primer grupo sugiere que se deben tomar en orden ascendente los estratos y elegir, en cada uno de ellos, al 2% de personas con promedio académico superior en esa sub-población, hasta que se agoten las becas disponibles. En caso de quedar becas disponibles al final del proceso, se repite el mismo esquema, considerando que ya no se tienen en cuenta las personas que hayan sido elegidas en rondas anteriores.\n",
    "\n",
    "* El segundo grupo sugiere que los recibidores de becas deben estar igualmente distribuidos entre las diferentes regiones y generos, considerando, por supuesto, que para cada una de esas sub-poblaciones, las personas elegidas sean las de mejores promedios académicos.\n",
    "\n",
    "Dado que las diferencias entre estos grupos obedecen a su entendimiento particular del problema, el presidente del comité propone utilizar los datos disponibles de las encuestas, sugiriendo que se analice qué características tendría la población de elegidos bajo cada uno de los dos criterios expuestos."
   ]
  },
  {
   "cell_type": "markdown",
   "metadata": {},
   "source": [
    "**Misión 3**\n",
    "\n",
    "Defina la pregunta de negocio y la pregunta de *analytics* para esta situación."
   ]
  },
  {
   "cell_type": "code",
   "execution_count": null,
   "metadata": {},
   "outputs": [],
   "source": [
    "# respuesta en texto (solo leeremos los primeros 300 caracteres de la respuesta)\n",
    "\n",
    "pregunta_negocio = ''\n",
    "\n",
    "pregunta_analytics = ''"
   ]
  },
  {
   "cell_type": "markdown",
   "metadata": {},
   "source": [
    "**Misión 4**\n",
    "\n",
    "Desarrollar un algoritmo que permita conocer la población que sería becada según los criterios propuestos por el *primer grupo* mencionado arriba."
   ]
  },
  {
   "cell_type": "code",
   "execution_count": 2,
   "metadata": {},
   "outputs": [],
   "source": [
    "import numpy as np\n",
    "import itertools\n",
    "estratos=r'C:\\Users\\STEPHANIE\\Desktop\\Talleres Herramientas\\Lab 1\\estrato.txt'\n",
    "promedios=r'C:\\Users\\STEPHANIE\\Desktop\\Talleres Herramientas\\Lab 1\\promedio.txt'"
   ]
  },
  {
   "cell_type": "code",
   "execution_count": 5,
   "metadata": {},
   "outputs": [],
   "source": [
    "with open(estratos, 'r') as est:\n",
    "    data_estratos = est.read()\n",
    "\n",
    "with open(promedios, 'r') as prom:\n",
    "    data_promedios = prom.read()"
   ]
  },
  {
   "cell_type": "code",
   "execution_count": 69,
   "metadata": {},
   "outputs": [
    {
     "data": {
      "text/plain": [
       "['5', '1', '3', '3', '2']"
      ]
     },
     "execution_count": 69,
     "metadata": {},
     "output_type": "execute_result"
    }
   ],
   "source": [
    "lista_estratos = data_estratos.split('\\n')\n",
    "lista_estratos[:5]"
   ]
  },
  {
   "cell_type": "code",
   "execution_count": 70,
   "metadata": {},
   "outputs": [
    {
     "data": {
      "text/plain": [
       "['2.4', '0.9', '3.2', '2.1', '2.1']"
      ]
     },
     "execution_count": 70,
     "metadata": {},
     "output_type": "execute_result"
    }
   ],
   "source": [
    "lista_promedios = data_promedios.split('\\n')\n",
    "lista_promedios[:5]"
   ]
  },
  {
   "cell_type": "code",
   "execution_count": 71,
   "metadata": {},
   "outputs": [
    {
     "data": {
      "text/plain": [
       "array([['5', '2.4'],\n",
       "       ['1', '0.9'],\n",
       "       ['3', '3.2'],\n",
       "       ...,\n",
       "       ['2', '2.7'],\n",
       "       ['2', '3.0'],\n",
       "       ['', '']], dtype='<U3')"
      ]
     },
     "execution_count": 71,
     "metadata": {},
     "output_type": "execute_result"
    }
   ],
   "source": [
    "data = np.array([lista_estratos, lista_promedios]).T\n",
    "data"
   ]
  },
  {
   "cell_type": "code",
   "execution_count": 72,
   "metadata": {},
   "outputs": [],
   "source": [
    "def calcula(arreglo, estrato):\n",
    "    estr_x = [(x[0], float(x[1])) for x in arreglo if x[0]==str(estrato)]\n",
    "    p98 = np.quantile([x[1] for x in estr_x], 0.98)\n",
    "    return [x for x in estr_x if x[1]>=p98]"
   ]
  },
  {
   "cell_type": "code",
   "execution_count": 73,
   "metadata": {},
   "outputs": [],
   "source": [
    "dict_res = {}\n",
    "for estrato in [1,2,3,4,5]:\n",
    "    dict_res[f\"Estrato {estrato}\"] = calcula(data, estrato)\n"
   ]
  },
  {
   "cell_type": "code",
   "execution_count": 74,
   "metadata": {},
   "outputs": [
    {
     "data": {
      "text/plain": [
       "{'Estrato 1': [('1', 4.9), ('1', 4.9), ('1', 5.0)],\n",
       " 'Estrato 2': [('2', 4.9), ('2', 4.9), ('2', 5.0), ('2', 4.9)],\n",
       " 'Estrato 3': [('3', 4.9), ('3', 4.7), ('3', 4.6), ('3', 4.9)],\n",
       " 'Estrato 4': [('4', 4.8)],\n",
       " 'Estrato 5': [('5', 4.8)]}"
      ]
     },
     "execution_count": 74,
     "metadata": {},
     "output_type": "execute_result"
    }
   ],
   "source": [
    "dict_res"
   ]
  },
  {
   "cell_type": "markdown",
   "metadata": {},
   "source": [
    "**Misión 5**\n",
    "\n",
    "Desarrollar un algoritmo que permita conocer la población que sería becada según los criterios propuestos por el *segundo grupo* mencionado arriba."
   ]
  },
  {
   "cell_type": "code",
   "execution_count": 3,
   "metadata": {},
   "outputs": [],
   "source": [
    "region = r'C:\\Users\\STEPHANIE\\Desktop\\Talleres Herramientas\\Lab 1\\region.txt'\n",
    "genero = r'C:\\Users\\STEPHANIE\\Desktop\\Talleres Herramientas\\Lab 1\\genero.txt'\n",
    "with open(promedios, 'r') as prom:\n",
    "    data_promedios = prom.read()\n",
    "\n",
    "with open(region, 'r') as reg:\n",
    "    data_region = reg.read()\n",
    "\n",
    "with open(genero, 'r') as gen:\n",
    "    data_genero = gen.read()\n",
    "\n",
    "lista_promedios = data_promedios.split('\\n')\n",
    "lista_regiones = data_region.split('\\n')\n",
    "lista_generos = data_genero.split('\\n')"
   ]
  },
  {
   "cell_type": "code",
   "execution_count": 77,
   "metadata": {},
   "outputs": [
    {
     "name": "stdout",
     "output_type": "stream",
     "text": [
      "(501, 3)\n"
     ]
    },
    {
     "data": {
      "text/plain": [
       "array([['Andina', 'masculino', '2.4'],\n",
       "       ['Andina', 'masculino', '0.9'],\n",
       "       ['Pacifica', 'femenino', '3.2'],\n",
       "       ...,\n",
       "       ['Andina', 'femenino', '2.7'],\n",
       "       ['Pacifica', 'femenino', '3.0'],\n",
       "       ['', '', '']], dtype='<U10')"
      ]
     },
     "execution_count": 77,
     "metadata": {},
     "output_type": "execute_result"
    }
   ],
   "source": [
    "data = np.array([lista_regiones, lista_generos, lista_promedios]).T\n",
    "print(data.shape)\n",
    "data"
   ]
  },
  {
   "cell_type": "code",
   "execution_count": 78,
   "metadata": {},
   "outputs": [],
   "source": [
    "def calcula2(arreglo, region, genero, top):\n",
    "    data_x = [(float(x[2])) for x in arreglo if x[0]==region and x[1]==genero]\n",
    "    data_x.sort(reverse=True)\n",
    "    return data_x[:top]"
   ]
  },
  {
   "cell_type": "code",
   "execution_count": 79,
   "metadata": {},
   "outputs": [
    {
     "data": {
      "text/plain": [
       "[5.0, 4.9, 4.7, 4.4, 4.0]"
      ]
     },
     "execution_count": 79,
     "metadata": {},
     "output_type": "execute_result"
    }
   ],
   "source": [
    "calcula2(data, 'Pacifica', 'masculino', 5)"
   ]
  },
  {
   "cell_type": "code",
   "execution_count": 80,
   "metadata": {},
   "outputs": [],
   "source": [
    "regiones_unicas = list(set(lista_regiones))\n",
    "regiones_unicas.remove('')\n",
    "\n",
    "generos_unicos = list(set(lista_generos))\n",
    "generos_unicos.remove('')"
   ]
  },
  {
   "cell_type": "code",
   "execution_count": 81,
   "metadata": {},
   "outputs": [
    {
     "data": {
      "text/plain": [
       "[('Pacifica', 'femenino'), ('Amazonia', 'femenino'), ('Orinoquia', 'femenino')]"
      ]
     },
     "execution_count": 81,
     "metadata": {},
     "output_type": "execute_result"
    }
   ],
   "source": [
    "combinaciones = [x for x in [[(reg, gen) for reg in regiones_unicas] for gen in generos_unicos]]\n",
    "combinaciones = list(itertools.chain(*combinaciones)).copy()\n",
    "combinaciones[:3]"
   ]
  },
  {
   "cell_type": "code",
   "execution_count": 82,
   "metadata": {},
   "outputs": [
    {
     "data": {
      "text/plain": [
       "{'Pacifica, femenino': [4.9],\n",
       " 'Amazonia, femenino': [4.6],\n",
       " 'Orinoquia, femenino': [3.9],\n",
       " 'Caribe, femenino': [5.0],\n",
       " 'Andina, femenino': [4.9],\n",
       " 'Pacifica, otro': [],\n",
       " 'Amazonia, otro': [3.1],\n",
       " 'Orinoquia, otro': [2.1],\n",
       " 'Caribe, otro': [3.6],\n",
       " 'Andina, otro': [2.4],\n",
       " 'Pacifica, no binario': [4.0],\n",
       " 'Amazonia, no binario': [1.5],\n",
       " 'Orinoquia, no binario': [],\n",
       " 'Caribe, no binario': [4.3],\n",
       " 'Andina, no binario': [4.8],\n",
       " 'Pacifica, masculino': [5.0],\n",
       " 'Amazonia, masculino': [4.5],\n",
       " 'Orinoquia, masculino': [4.2],\n",
       " 'Caribe, masculino': [4.9],\n",
       " 'Andina, masculino': [4.9]}"
      ]
     },
     "execution_count": 82,
     "metadata": {},
     "output_type": "execute_result"
    }
   ],
   "source": [
    "top = 1\n",
    "dict_reg_gen = {}\n",
    "for region, genero in combinaciones:\n",
    "    dict_reg_gen[f\"{region}, {genero}\"] = calcula2(data, region, genero, top)\n",
    "\n",
    "dict_reg_gen"
   ]
  },
  {
   "cell_type": "markdown",
   "metadata": {},
   "source": [
    "**Misión 6**\n",
    "\n",
    "Desarrollar un algoritmo, a partir de lo anterior, cuyo resultado permita al comité comparar fácilmente las características de las dos poblaciones hipotéticas que recibirían becas.\n",
    "\n",
    "*Ayuda*: considera utilizar tus implementaciones de la *Misión 2* para facilitar esta misión."
   ]
  },
  {
   "cell_type": "code",
   "execution_count": null,
   "metadata": {},
   "outputs": [],
   "source": [
    "# código\n",
    "#Graficar seleccionados para cada metodos"
   ]
  },
  {
   "cell_type": "markdown",
   "metadata": {},
   "source": [
    "## 3. Desarrollo de una solución analítica\n",
    "\n",
    "Reconociendo la complejidad de este problema (que no permite reducirlo a una dicotomía) y viendo el potencial del análisis de datos para enriquecer la discusión y los insumos para tomar decisiones, el comité ha solicitado una herramienta analítica que les permita . Sus requerimientos son:\n",
    "\n",
    "* La herramienta debe permitir ingresar una política de selección de becados.\n",
    "    * Se debe poder elegir el rango de edad de los aspirantes.\n",
    "    * Se debe poder elegir qué proporción de las becas se asigna a cada género, a cada estrato, o a cada región (pero sólo debe elegirse uno de estos criterios).\n",
    "* La herramienta debe generar un resultado que permita al comité analizar las características de la población potencialmente elegida si se usara la política ingresada.\n",
    "\n",
    "**Misión 7**\n",
    "\n",
    "Desarrollar, a partir de lo construido hasta el momento, un algoritmo que permita cumplir con los requerimientos del comité."
   ]
  },
  {
   "cell_type": "code",
   "execution_count": 148,
   "metadata": {},
   "outputs": [
    {
     "ename": "ValueError",
     "evalue": "could not convert string to float: ''",
     "output_type": "error",
     "traceback": [
      "\u001b[1;31m---------------------------------------------------------------------------\u001b[0m",
      "\u001b[1;31mValueError\u001b[0m                                Traceback (most recent call last)",
      "\u001b[1;32m<ipython-input-148-4ff14735e66a>\u001b[0m in \u001b[0;36m<module>\u001b[1;34m\u001b[0m\n\u001b[0;32m      4\u001b[0m \u001b[0mlista_edades\u001b[0m \u001b[1;33m=\u001b[0m \u001b[0mdata_edades\u001b[0m\u001b[1;33m.\u001b[0m\u001b[0msplit\u001b[0m\u001b[1;33m(\u001b[0m\u001b[1;34m'\\n'\u001b[0m\u001b[1;33m)\u001b[0m\u001b[1;33m\u001b[0m\u001b[1;33m\u001b[0m\u001b[0m\n\u001b[0;32m      5\u001b[0m \u001b[1;33m\u001b[0m\u001b[0m\n\u001b[1;32m----> 6\u001b[1;33m \u001b[0mres\u001b[0m \u001b[1;33m=\u001b[0m \u001b[1;33m[\u001b[0m\u001b[0mfloat\u001b[0m\u001b[1;33m(\u001b[0m\u001b[0mx\u001b[0m\u001b[1;33m)\u001b[0m \u001b[1;32mfor\u001b[0m \u001b[0mx\u001b[0m \u001b[1;32min\u001b[0m \u001b[0mlista_edades\u001b[0m\u001b[1;33m]\u001b[0m\u001b[1;33m\u001b[0m\u001b[1;33m\u001b[0m\u001b[0m\n\u001b[0m\u001b[0;32m      7\u001b[0m \u001b[1;31m#def stringToFloat(l):\u001b[0m\u001b[1;33m\u001b[0m\u001b[1;33m\u001b[0m\u001b[1;33m\u001b[0m\u001b[0m\n\u001b[0;32m      8\u001b[0m     \u001b[1;31m#return list(map(float, l))\u001b[0m\u001b[1;33m\u001b[0m\u001b[1;33m\u001b[0m\u001b[1;33m\u001b[0m\u001b[0m\n",
      "\u001b[1;32m<ipython-input-148-4ff14735e66a>\u001b[0m in \u001b[0;36m<listcomp>\u001b[1;34m(.0)\u001b[0m\n\u001b[0;32m      4\u001b[0m \u001b[0mlista_edades\u001b[0m \u001b[1;33m=\u001b[0m \u001b[0mdata_edades\u001b[0m\u001b[1;33m.\u001b[0m\u001b[0msplit\u001b[0m\u001b[1;33m(\u001b[0m\u001b[1;34m'\\n'\u001b[0m\u001b[1;33m)\u001b[0m\u001b[1;33m\u001b[0m\u001b[1;33m\u001b[0m\u001b[0m\n\u001b[0;32m      5\u001b[0m \u001b[1;33m\u001b[0m\u001b[0m\n\u001b[1;32m----> 6\u001b[1;33m \u001b[0mres\u001b[0m \u001b[1;33m=\u001b[0m \u001b[1;33m[\u001b[0m\u001b[0mfloat\u001b[0m\u001b[1;33m(\u001b[0m\u001b[0mx\u001b[0m\u001b[1;33m)\u001b[0m \u001b[1;32mfor\u001b[0m \u001b[0mx\u001b[0m \u001b[1;32min\u001b[0m \u001b[0mlista_edades\u001b[0m\u001b[1;33m]\u001b[0m\u001b[1;33m\u001b[0m\u001b[1;33m\u001b[0m\u001b[0m\n\u001b[0m\u001b[0;32m      7\u001b[0m \u001b[1;31m#def stringToFloat(l):\u001b[0m\u001b[1;33m\u001b[0m\u001b[1;33m\u001b[0m\u001b[1;33m\u001b[0m\u001b[0m\n\u001b[0;32m      8\u001b[0m     \u001b[1;31m#return list(map(float, l))\u001b[0m\u001b[1;33m\u001b[0m\u001b[1;33m\u001b[0m\u001b[1;33m\u001b[0m\u001b[0m\n",
      "\u001b[1;31mValueError\u001b[0m: could not convert string to float: ''"
     ]
    }
   ],
   "source": [
    "edades= r'C:\\Users\\STEPHANIE\\Desktop\\Talleres Herramientas\\Lab 1\\edad.txt'\n",
    "with open(edades, 'r') as prom:\n",
    "    data_edades = prom.read()\n",
    "lista_edades = data_edades.split('\\n')\n",
    "\n",
    "res = [float(x) for x in lista_edades]\n",
    "#def stringToFloat(l):\n",
    "    #return list(map(float, l))\n",
    "\n",
    "#stringToFloat(lista_edades)"
   ]
  },
  {
   "cell_type": "code",
   "execution_count": 132,
   "metadata": {},
   "outputs": [],
   "source": [
    "# código\n",
    "edad_minima=18\n",
    "edad_maxima=35\n",
    "\n",
    "    \n",
    "    "
   ]
  },
  {
   "cell_type": "code",
   "execution_count": 94,
   "metadata": {},
   "outputs": [],
   "source": [
    "parametro=region\n",
    "#parametro= genero\n",
    "#parametro=estratos"
   ]
  },
  {
   "cell_type": "code",
   "execution_count": 95,
   "metadata": {},
   "outputs": [],
   "source": [
    "lista_estratos = data_estratos.split('\\n')\n",
    "lista_promedios = data_promedios.split('\\n')\n",
    "lista_regiones = data_region.split('\\n')\n",
    "lista_generos = data_genero.split('\\n')"
   ]
  },
  {
   "cell_type": "code",
   "execution_count": 96,
   "metadata": {},
   "outputs": [],
   "source": [
    "#caracteristica=lista_generos\n",
    "#caracteristica=lista_estratos\n",
    "caracteristica=lista_regiones"
   ]
  },
  {
   "cell_type": "code",
   "execution_count": 142,
   "metadata": {
    "scrolled": true
   },
   "outputs": [
    {
     "name": "stdout",
     "output_type": "stream",
     "text": [
      "(501, 3)\n"
     ]
    },
    {
     "data": {
      "text/plain": [
       "array([['Andina', '36', '2.4'],\n",
       "       ['Andina', '66', '0.9'],\n",
       "       ['Pacifica', '24', '3.2'],\n",
       "       ...,\n",
       "       ['Andina', '54', '2.7'],\n",
       "       ['Pacifica', '66', '3.0'],\n",
       "       ['', '', '']], dtype='<U9')"
      ]
     },
     "execution_count": 142,
     "metadata": {},
     "output_type": "execute_result"
    }
   ],
   "source": [
    "data = np.array([caracteristica,lista_edades,lista_promedios]).T\n",
    "print(data.shape)\n",
    "data"
   ]
  },
  {
   "cell_type": "code",
   "execution_count": 140,
   "metadata": {},
   "outputs": [
    {
     "ename": "TypeError",
     "evalue": "'>' not supported between instances of 'list' and 'int'",
     "output_type": "error",
     "traceback": [
      "\u001b[1;31m---------------------------------------------------------------------------\u001b[0m",
      "\u001b[1;31mTypeError\u001b[0m                                 Traceback (most recent call last)",
      "\u001b[1;32m<ipython-input-140-a1cad3eaab77>\u001b[0m in \u001b[0;36m<module>\u001b[1;34m\u001b[0m\n\u001b[0;32m      1\u001b[0m \u001b[0mlista\u001b[0m \u001b[1;33m=\u001b[0m\u001b[1;33m[\u001b[0m\u001b[1;33m]\u001b[0m\u001b[1;33m\u001b[0m\u001b[1;33m\u001b[0m\u001b[0m\n\u001b[0;32m      2\u001b[0m \u001b[1;32mfor\u001b[0m \u001b[0mi\u001b[0m \u001b[1;32min\u001b[0m \u001b[0mdata\u001b[0m\u001b[1;33m:\u001b[0m\u001b[1;33m\u001b[0m\u001b[1;33m\u001b[0m\u001b[0m\n\u001b[1;32m----> 3\u001b[1;33m     \u001b[0mlista\u001b[0m\u001b[1;33m.\u001b[0m\u001b[0mappend\u001b[0m\u001b[1;33m(\u001b[0m\u001b[0mlista_edades\u001b[0m\u001b[1;33m>\u001b[0m\u001b[1;36m18\u001b[0m\u001b[1;33m)\u001b[0m\u001b[1;33m\u001b[0m\u001b[1;33m\u001b[0m\u001b[0m\n\u001b[0m\u001b[0;32m      4\u001b[0m \u001b[0marray\u001b[0m\u001b[1;33m(\u001b[0m\u001b[0mlista\u001b[0m\u001b[1;33m)\u001b[0m\u001b[1;33m\u001b[0m\u001b[1;33m\u001b[0m\u001b[0m\n",
      "\u001b[1;31mTypeError\u001b[0m: '>' not supported between instances of 'list' and 'int'"
     ]
    }
   ],
   "source": [
    "lista =[]\n",
    "for i in data:\n",
    "    lista.append(lista_edades>18)\n",
    "array(lista)"
   ]
  },
  {
   "cell_type": "code",
   "execution_count": 128,
   "metadata": {},
   "outputs": [],
   "source": [
    "def calcula2(arreglo, parametro, top):\n",
    "     data_x = [(float(x[2])) for x in arreglo if x[0]==parametro ]\n",
    "    return data_x[:top]"
   ]
  },
  {
   "cell_type": "code",
   "execution_count": 138,
   "metadata": {},
   "outputs": [],
   "source": [
    "def calcula2(arreglo, parametro, edad, top):\n",
    "    data_x = [(float(x[2])) for x in arreglo if x[0]==parametro and float(x[1])==edad]\n",
    "    data_x.sort(reverse=True)\n",
    "    return [x for x in data_x  if x[1]>=edad_minima and x[1]< edad_maxima]"
   ]
  },
  {
   "cell_type": "code",
   "execution_count": 136,
   "metadata": {},
   "outputs": [
    {
     "data": {
      "text/plain": [
       "['Orinoquia', 'Pacifica', 'Caribe', 'Andina', 'Amazonia']"
      ]
     },
     "execution_count": 136,
     "metadata": {},
     "output_type": "execute_result"
    }
   ],
   "source": [
    "caracteristicas_unicas = list(set(caracteristica))\n",
    "caracteristicas_unicas.remove('')\n",
    "caracteristicas_unicas"
   ]
  },
  {
   "cell_type": "code",
   "execution_count": 82,
   "metadata": {},
   "outputs": [
    {
     "name": "stdout",
     "output_type": "stream",
     "text": [
      "Ingrese el número de becas por parametro a otorgar: 10\n"
     ]
    },
    {
     "data": {
      "text/plain": [
       "{'Orinoquia': [('Orinoquia', 4.2),\n",
       "  ('Orinoquia', 4.0),\n",
       "  ('Orinoquia', 3.9),\n",
       "  ('Orinoquia', 3.8),\n",
       "  ('Orinoquia', 3.4),\n",
       "  ('Orinoquia', 3.2),\n",
       "  ('Orinoquia', 3.0),\n",
       "  ('Orinoquia', 2.9),\n",
       "  ('Orinoquia', 2.8),\n",
       "  ('Orinoquia', 2.8)],\n",
       " 'Pacifica': [('Pacifica', 5.0),\n",
       "  ('Pacifica', 4.9),\n",
       "  ('Pacifica', 4.9),\n",
       "  ('Pacifica', 4.7),\n",
       "  ('Pacifica', 4.7),\n",
       "  ('Pacifica', 4.4),\n",
       "  ('Pacifica', 4.4),\n",
       "  ('Pacifica', 4.3),\n",
       "  ('Pacifica', 4.2),\n",
       "  ('Pacifica', 4.0)],\n",
       " 'Caribe': [('Caribe', 5.0),\n",
       "  ('Caribe', 4.9),\n",
       "  ('Caribe', 4.9),\n",
       "  ('Caribe', 4.6),\n",
       "  ('Caribe', 4.4),\n",
       "  ('Caribe', 4.3),\n",
       "  ('Caribe', 4.3),\n",
       "  ('Caribe', 4.2),\n",
       "  ('Caribe', 4.2),\n",
       "  ('Caribe', 4.1)],\n",
       " 'Andina': [('Andina', 4.9),\n",
       "  ('Andina', 4.9),\n",
       "  ('Andina', 4.9),\n",
       "  ('Andina', 4.8),\n",
       "  ('Andina', 4.8),\n",
       "  ('Andina', 4.8),\n",
       "  ('Andina', 4.8),\n",
       "  ('Andina', 4.5),\n",
       "  ('Andina', 4.5),\n",
       "  ('Andina', 4.5)],\n",
       " 'Amazonia': [('Amazonia', 4.6),\n",
       "  ('Amazonia', 4.5),\n",
       "  ('Amazonia', 3.3),\n",
       "  ('Amazonia', 3.1),\n",
       "  ('Amazonia', 3.1),\n",
       "  ('Amazonia', 3.0),\n",
       "  ('Amazonia', 2.9),\n",
       "  ('Amazonia', 2.7),\n",
       "  ('Amazonia', 1.9),\n",
       "  ('Amazonia', 1.5)]}"
      ]
     },
     "execution_count": 82,
     "metadata": {},
     "output_type": "execute_result"
    }
   ],
   "source": [
    "top = int(input(\"Ingrese el número de becas por parametro a otorgar: \"))\n",
    "dict_caracteristica = {}\n",
    "for x in caracteristicas_unicas :\n",
    "    dict_caracteristica[f\"{x}\"] = calcula2(data, x, top)\n",
    "\n",
    "dict_caracteristica"
   ]
  },
  {
   "cell_type": "markdown",
   "metadata": {},
   "source": [
    "**Misión 8**\n",
    "\n",
    "Proponer, con base en tu propio uso de la herramienta, una política de ingreso que consideres apropiada dado el contexto proporcionado. Si lo crees adecuado, explica, máximo 500 caracteres, las virtudes de tu propuesta (esto puede estar soportado en los datos, o no)."
   ]
  },
  {
   "cell_type": "code",
   "execution_count": null,
   "metadata": {},
   "outputs": [],
   "source": [
    "# respuesta en texto (solo leeremos los primeros 300 caracteres de la respuesta)\n",
    "\n",
    "respuesta = ''"
   ]
  },
  {
   "cell_type": "markdown",
   "metadata": {},
   "source": [
    "**Misión 9**\n",
    "\n",
    "Ejecutar el algoritmo desarrollado en la *Misión 7* sobre la política que sugieres proponer al comité. Explicar claramente tus conlusiones con el soporte de los resultados de la herramienta."
   ]
  },
  {
   "cell_type": "code",
   "execution_count": null,
   "metadata": {},
   "outputs": [],
   "source": [
    "# código\n",
    "\n",
    "conclusion = ''"
   ]
  },
  {
   "cell_type": "markdown",
   "metadata": {},
   "source": [
    "## Referencias\n",
    "* Discriminación Positiva<br> \n",
    "https://es.wikipedia.org/wiki/Discriminaci%C3%B3n_positiva\n",
    "* Análisis de formulación del programa “Ser Pilo Paga”<br>\n",
    "https://repository.urosario.edu.co/handle/10336/12526\n",
    "* La acción afirmativa en la Universidad de los Andes: El caso del programa \"Oportunidades para talentos nacionales\"<br> http://www.scielo.org.co/scielo.php?script=sci_arttext&pid=S0123-885X2004000300005\n",
    "* Acción afirmativa y equidad: un análisis desde la propuesta de Thomas Nagel<br>\n",
    "http://www.scielo.org.mx/scielo.php?script=sci_arttext&pid=S2007-24062016000200049"
   ]
  },
  {
   "cell_type": "markdown",
   "metadata": {},
   "source": [
    "## Créditos"
   ]
  },
  {
   "cell_type": "markdown",
   "metadata": {},
   "source": [
    "Camilo Gómez - 11/06/21<br>\n",
    "*Revisado*: 25/08/21"
   ]
  },
  {
   "cell_type": "code",
   "execution_count": null,
   "metadata": {},
   "outputs": [],
   "source": []
  }
 ],
 "metadata": {
  "kernelspec": {
   "display_name": "Python 3",
   "language": "python",
   "name": "python3"
  },
  "language_info": {
   "codemirror_mode": {
    "name": "ipython",
    "version": 3
   },
   "file_extension": ".py",
   "mimetype": "text/x-python",
   "name": "python",
   "nbconvert_exporter": "python",
   "pygments_lexer": "ipython3",
   "version": "3.8.8"
  }
 },
 "nbformat": 4,
 "nbformat_minor": 1
}
