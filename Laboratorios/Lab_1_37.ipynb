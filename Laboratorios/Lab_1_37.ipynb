{
 "cells": [
  {
   "cell_type": "markdown",
   "metadata": {},
   "source": [
    "<img src=\"Archivos/miia.jpg\" width=800x>\n",
    "\n",
    "# Laboratorio 1\n",
    "\n",
    "## Desarrollo de una herramienta analítica usando solo Python\n",
    "\n",
    "Este laboratorio busca evaluar las habilidades relacionadas con la primera parte del curso, correspondiente a las primeras tres semanas. Este enunciado estará disponible desde la semana 2 y deberá entregarse al final de la semana 4 en el enlace correspondiente. Su desarrollo corresponde al 30% de la calificación total del curso.\n",
    "\n",
    "Esta actividad responde directamente al segundo objetivo del curso:\n",
    "* Implementar una herramienta analítica que permita responder una pregunta de negocio para un problema sencillo de analítica de datos, utilizando únicamente algorítmica básica en Python.\n",
    "\n",
    "Al desarrollar este laboratorio pondrás a prueba tus habilidades para: \n",
    "1. Leer datos desde archivos.\n",
    "2. Almacenar datos en  estructuras de Python.\n",
    "3. Crear y llamar funciones correctamente.\n",
    "4. Implementar condicionales diferenciando *if*, *elif* y *else*\n",
    "5. Implementar ciclos diferenciando el propósito de *for* y *while*\n",
    "6. Importar paquetes y utilizar sus funciones.\n",
    "\n",
    "**NOTAS:**\n",
    "- Te recomendamos leer por completo el enunciado del laboratorio antes de comenzar, de forma que tengas claro el propósito completo de la actividad, y puedas desarrollar tu solución apuntando a él desde el comienzo.\n"
   ]
  },
  {
   "cell_type": "markdown",
   "metadata": {},
   "source": [
    "## Contexto: exploración del potencial para asignar becas Uniandes\n",
    "La Universidad de los Andes se ha caracterizado por su compromiso con la generación de impacto en la sociedad a través de diferentes programas de becas. Programas como Quiero Estudiar, o Ser Pilo Paga, entre otros, han sido revolucionarios, al permitir que estudiantes de bajos recursos puedan acceder a una de las universidades privadas más importantes del país.\n",
    "\n",
    "Actualmente, la Universidad quiere evaluar el potencial impacto que tendrían algunos programas de *acción afirmativa* para asignación de becas, con base en información demográfica que ha obtenido a través de encuestas. Se cuenta con información respecto a la edad, género, estado civil, estrato socio-económico, región de proveniencia, desempeño académico y nivel de escolaridad de las personas que han respondido encuestas. Los encargados de diseñar el programa saben que utilizar criterios basados en este tipo de variables es un tema sensible, pero es necesario si se quieren focalizar las oportunidades en poblaciones menos representadas.\n",
    "\n",
    "El objetivo de este laboratorio es crear una herramienta computacional que permita a un tomador de decisiones explorar qué efecto podría tener el uso de diferentes reglas para seleccionar la población que sería beneficiaria de las becas. Puntualmente, se espera que, dadas unas reglas de selección (ej.: pertenecer a cierta región, rango de edad, etc.), la herramienta ofrezca información sobre la población potencialmente beneficiada, de forma que exista un sustento al momento de definir las reglas de selección."
   ]
  },
  {
   "cell_type": "markdown",
   "metadata": {},
   "source": [
    "## 1. Obtención e inspección de archivos\n",
    "\n",
    "Los datos de encuestas fueron obtenidos como parte de un trabajo de campo, y por limitaciones tecnológicas, solo se cuenta con la información en archivos de texto plano. Cada archivo corresponde a una de las variables antes mencionadas y se puede garantizar que todos relacionan a las personas encuestadas en el mismo orden (i.e., la primera línea de todos los archivos corresponde a datos de la primera persona encuestada, la segunda línea a la segunda persona, etc.).\n",
    "\n",
    "Los archivos con los que se cuenta son:\n",
    "* *edades.txt*: un archivo ordenado con las edades de cada persona de la población encuestada \n",
    "* *género.txt*: un archivo ordenado con el género de cada persona de la población encuestada \n",
    "* *estado_civil.txt*: un archivo ordenado con el estado civil de cada persona de la población encuestada \n",
    "* *escolaridad.txt*: un archivo ordenado con el nivel de escolaridad de cada persona de la población encuestada \n",
    "* *estrato.txt*: un archivo ordenado con el estrato socio-económico de cada persona de la población encuestada\n",
    "* *region.txt*: un archivo ordenado con la región de proveniencia de cada persona de la población encuestada"
   ]
  },
  {
   "cell_type": "markdown",
   "metadata": {},
   "source": [
    "**Misión 1**\n",
    "\n",
    "Poner en variables de Python la información que está en los archivos listados arriba.\n",
    "\n",
    "* *Versión base*: escribe línea a línea el código necesario para poner en variables de Python la información de cada uno de los archivos.\n",
    "\n",
    "* *Milla extra*: escribe una función que sea capaz de hacer lo anterior para un archivo y úsala en un ciclo para automatizar la lectura de los diferentes archivos."
   ]
  },
  {
   "cell_type": "code",
   "execution_count": 162,
   "metadata": {},
   "outputs": [],
   "source": [
    "edades= \"./edad.txt\"\n",
    "with open(edades, 'r') as prom:\n",
    "    data_edades = prom.read()\n",
    "lista_edades = data_edades.split('\\n')"
   ]
  },
  {
   "cell_type": "code",
   "execution_count": 164,
   "metadata": {
    "jupyter": {
     "outputs_hidden": true
    },
    "tags": []
   },
   "outputs": [
    {
     "data": {
      "text/plain": [
       "[36.0, 66.0, 24.0, 55.0, 26.0, 69.0, 79.0, 54.0, 51.0, 80.0]"
      ]
     },
     "execution_count": 164,
     "metadata": {},
     "output_type": "execute_result"
    }
   ],
   "source": [
    "edades_num =  [float(x) if len(x)>0 else 0 for x in lista_edades]\n",
    "edades_num[:10]"
   ]
  },
  {
   "cell_type": "code",
   "execution_count": 165,
   "metadata": {},
   "outputs": [],
   "source": [
    "genero = \"./genero.txt\"\n",
    "with open(genero, 'r') as gen:\n",
    "    data_genero = gen.read()\n",
    "lista_generos = data_genero.split('\\n')"
   ]
  },
  {
   "cell_type": "code",
   "execution_count": 170,
   "metadata": {},
   "outputs": [],
   "source": [
    "estado_civil=\"./estado_civil.txt\"\n",
    "with open(estado_civil, 'r') as est:\n",
    "    data_estado_civil = est.read()\n",
    "lista_estado_civil = data_estado_civil.split('\\n')\n"
   ]
  },
  {
   "cell_type": "code",
   "execution_count": 169,
   "metadata": {},
   "outputs": [],
   "source": [
    "escolaridad=\"./escolaridad.txt\"\n",
    "with open(escolaridad, 'r') as est:\n",
    "    data_escolaridad = est.read()\n",
    "lista_escolaridad = data_escolaridad.split('\\n')"
   ]
  },
  {
   "cell_type": "code",
   "execution_count": 167,
   "metadata": {},
   "outputs": [],
   "source": [
    "estratos=\"./estrato.txt\"\n",
    "with open(estratos, 'r') as est:\n",
    "    data_estratos = est.read()\n",
    "lista_estratos = data_estratos.split('\\n')\n"
   ]
  },
  {
   "cell_type": "code",
   "execution_count": 168,
   "metadata": {},
   "outputs": [],
   "source": [
    "region = \"./region.txt\"\n",
    "with open(region, 'r') as reg:\n",
    "    data_region = reg.read()\n",
    "lista_regiones = data_region.split('\\n')\n"
   ]
  },
  {
   "cell_type": "markdown",
   "metadata": {},
   "source": [
    "**Misión 2**\n",
    "\n",
    "Reportar las principales características en los datos.\n",
    "* *Versión base*: utilizar métricas básicas como conteos o promedios por categorías en los datos.\n",
    "* *Milla extra*: utilizar visualizaciones simples como diagramas de barras, de pastel u otros."
   ]
  },
  {
   "cell_type": "markdown",
   "metadata": {},
   "source": [
    "### Edad"
   ]
  },
  {
   "cell_type": "code",
   "execution_count": 171,
   "metadata": {},
   "outputs": [
    {
     "data": {
      "text/plain": [
       "48.650698602794414"
      ]
     },
     "execution_count": 171,
     "metadata": {},
     "output_type": "execute_result"
    }
   ],
   "source": [
    "suma=0\n",
    "i=0\n",
    "for elemento in edades_num:\n",
    "    suma +=elemento\n",
    "    i += 1\n",
    "promedio= suma / i\n",
    "promedio"
   ]
  },
  {
   "cell_type": "code",
   "execution_count": 172,
   "metadata": {
    "scrolled": true
   },
   "outputs": [
    {
     "data": {
      "text/plain": [
       "{'whiskers': [<matplotlib.lines.Line2D at 0x19b564470d0>,\n",
       "  <matplotlib.lines.Line2D at 0x19b56447430>],\n",
       " 'caps': [<matplotlib.lines.Line2D at 0x19b56447790>,\n",
       "  <matplotlib.lines.Line2D at 0x19b56447af0>],\n",
       " 'boxes': [<matplotlib.lines.Line2D at 0x19b5642ed30>],\n",
       " 'medians': [<matplotlib.lines.Line2D at 0x19b56447e50>],\n",
       " 'fliers': [<matplotlib.lines.Line2D at 0x19b564551f0>],\n",
       " 'means': []}"
      ]
     },
     "execution_count": 172,
     "metadata": {},
     "output_type": "execute_result"
    },
    {
     "data": {
      "image/png": "[encoded data removed]",
      "text/plain": [
       "<Figure size 432x288 with 1 Axes>"
      ]
     },
     "metadata": {
      "needs_background": "light"
     },
     "output_type": "display_data"
    }
   ],
   "source": [
    "import matplotlib.pyplot as plt\n",
    "plt.boxplot(edades_num)"
   ]
  },
  {
   "cell_type": "markdown",
   "metadata": {},
   "source": [
    "### Genero"
   ]
  },
  {
   "cell_type": "code",
   "execution_count": 174,
   "metadata": {
    "scrolled": true
   },
   "outputs": [
    {
     "data": {
      "text/plain": [
       "[['', 1],\n",
       " ['femenino', 251],\n",
       " ['masculino', 204],\n",
       " ['otro', 6],\n",
       " ['no binario', 39]]"
      ]
     },
     "execution_count": 174,
     "metadata": {},
     "output_type": "execute_result"
    }
   ],
   "source": [
    "[[x,lista_generos.count(x)] for x in set(lista_generos)]"
   ]
  },
  {
   "cell_type": "code",
   "execution_count": 175,
   "metadata": {
    "scrolled": true
   },
   "outputs": [
    {
     "data": {
      "image/png": "[encoded data removed]",
      "text/plain": [
       "<Figure size 432x288 with 1 Axes>"
      ]
     },
     "metadata": {},
     "output_type": "display_data"
    }
   ],
   "source": [
    "conteos=[204,251,39,6]\n",
    "nombres=[\"masculino\",\"femenino\",\"no binario\",\"otro\"]\n",
    "plt.pie(conteos, labels=nombres)\n",
    "plt.show()"
   ]
  },
  {
   "cell_type": "markdown",
   "metadata": {},
   "source": [
    "### Estado civil"
   ]
  },
  {
   "cell_type": "code",
   "execution_count": 176,
   "metadata": {},
   "outputs": [
    {
     "data": {
      "text/plain": [
       "[['', 1],\n",
       " ['viuda', 16],\n",
       " ['casada', 199],\n",
       " ['soltera', 148],\n",
       " ['divorciada', 137]]"
      ]
     },
     "execution_count": 176,
     "metadata": {},
     "output_type": "execute_result"
    }
   ],
   "source": [
    "[[x,lista_estado_civil.count(x)] for x in set(lista_estado_civil)]"
   ]
  },
  {
   "cell_type": "code",
   "execution_count": 177,
   "metadata": {
    "scrolled": true
   },
   "outputs": [
    {
     "data": {
      "image/png": "[encoded data removed]",
      "text/plain": [
       "<Figure size 432x288 with 1 Axes>"
      ]
     },
     "metadata": {},
     "output_type": "display_data"
    }
   ],
   "source": [
    "conteos=[199,148,137,16]\n",
    "nombres=[\"casada\",\"soltera\",\"divorciada\",\"viuda\"]\n",
    "plt.pie(conteos, labels=nombres)\n",
    "plt.show()"
   ]
  },
  {
   "cell_type": "markdown",
   "metadata": {},
   "source": [
    "### Escolaridad"
   ]
  },
  {
   "cell_type": "code",
   "execution_count": 178,
   "metadata": {},
   "outputs": [
    {
     "data": {
      "text/plain": [
       "[['', 1],\n",
       " ['Secundaria', 343],\n",
       " ['Primaria', 25],\n",
       " ['Profesional', 117],\n",
       " ['Maestria', 15]]"
      ]
     },
     "execution_count": 178,
     "metadata": {},
     "output_type": "execute_result"
    }
   ],
   "source": [
    "[[x,lista_escolaridad.count(x)] for x in set(lista_escolaridad)]"
   ]
  },
  {
   "cell_type": "code",
   "execution_count": 208,
   "metadata": {
    "scrolled": true
   },
   "outputs": [
    {
     "data": {
      "image/png": "[encoded data removed]",
      "text/plain": [
       "<Figure size 432x288 with 1 Axes>"
      ]
     },
     "metadata": {
      "needs_background": "light"
     },
     "output_type": "display_data"
    }
   ],
   "source": [
    "# Declaramos valores para el eje x\n",
    "eje_x = ['Secundaria', 'Profesional', 'Primaria', 'Maestria']\n",
    " \n",
    "## Declaramos valores para el eje y\n",
    "eje_y = [343,117,25,15]\n",
    " \n",
    "## Creamos Gráfica\n",
    "plt.bar(eje_x, eje_y,color=['purple', 'pink', 'darkblue', 'blue', 'cyan'])\n",
    " \n",
    "## Legenda en el eje x\n",
    "plt.xlabel('Escolaridad')\n",
    " \n",
    "## Mostramos Gráfica\n",
    "plt.show()"
   ]
  },
  {
   "cell_type": "markdown",
   "metadata": {},
   "source": [
    "### Estrato"
   ]
  },
  {
   "cell_type": "code",
   "execution_count": 180,
   "metadata": {},
   "outputs": [
    {
     "data": {
      "text/plain": [
       "[['', 1], ['1', 111], ['4', 35], ['2', 185], ['3', 156], ['5', 13]]"
      ]
     },
     "execution_count": 180,
     "metadata": {},
     "output_type": "execute_result"
    }
   ],
   "source": [
    "[[x,lista_estratos .count(x)] for x in set(lista_estratos )]"
   ]
  },
  {
   "cell_type": "code",
   "execution_count": 207,
   "metadata": {
    "scrolled": true
   },
   "outputs": [
    {
     "data": {
      "image/png": "[encoded data removed]",
      "text/plain": [
       "<Figure size 432x288 with 1 Axes>"
      ]
     },
     "metadata": {
      "needs_background": "light"
     },
     "output_type": "display_data"
    }
   ],
   "source": [
    "# Declaramos valores para el eje x\n",
    "eje_x = ['1', '2', '3', '4','5']\n",
    " \n",
    "## Declaramos valores para el eje y\n",
    "eje_y = [111,185,156,35,13]\n",
    " \n",
    "## Creamos Gráfica\n",
    "plt.bar(eje_x, eje_y,color=['purple', 'pink', 'darkblue', 'blue', 'cyan'])\n",
    " \n",
    "## Legenda en el eje x\n",
    "plt.xlabel('estrato')\n",
    " \n",
    "## Mostramos Gráfica\n",
    "plt.show()"
   ]
  },
  {
   "cell_type": "markdown",
   "metadata": {},
   "source": [
    "### Region"
   ]
  },
  {
   "cell_type": "code",
   "execution_count": 183,
   "metadata": {},
   "outputs": [
    {
     "data": {
      "text/plain": [
       "[['', 1],\n",
       " ['Orinoquia', 33],\n",
       " ['Pacifica', 117],\n",
       " ['Caribe', 193],\n",
       " ['Andina', 142],\n",
       " ['Amazonia', 15]]"
      ]
     },
     "execution_count": 183,
     "metadata": {},
     "output_type": "execute_result"
    }
   ],
   "source": [
    "[[x,lista_regiones.count(x)] for x in set(lista_regiones)]"
   ]
  },
  {
   "cell_type": "code",
   "execution_count": 184,
   "metadata": {},
   "outputs": [
    {
     "data": {
      "image/png": "[encoded data removed]",
      "text/plain": [
       "<Figure size 432x288 with 1 Axes>"
      ]
     },
     "metadata": {},
     "output_type": "display_data"
    }
   ],
   "source": [
    "conteos=[33,142,117,15,193]\n",
    "nombres=[\"Orinoquia\",\"Andina\",\"Pacifica\",\"Amazonia\",\"Caribe\"]\n",
    "plt.pie(conteos, labels=nombres)\n",
    "plt.show()"
   ]
  },
  {
   "cell_type": "markdown",
   "metadata": {},
   "source": [
    "## 2. Abordaje de la pregunta de negocio\n",
    "\n",
    "El comité encargado de diseñar el programa de becas ha tenido dificultades para llegar a acuerdos. Algunos piensan que el criterio principal de selección debería ser respecto a lo económico y académico, sin importar otras características personales, mientras que otros piensan que considerar estas características es, de hecho, parte del espíritu del programa.\n",
    "\n",
    "* El primer grupo sugiere que se deben tomar en orden ascendente los estratos y elegir, en cada uno de ellos, al 2% de personas con promedio académico superior en esa sub-población, hasta que se agoten las becas disponibles. En caso de quedar becas disponibles al final del proceso, se repite el mismo esquema, considerando que ya no se tienen en cuenta las personas que hayan sido elegidas en rondas anteriores.\n",
    "\n",
    "* El segundo grupo sugiere que los recibidores de becas deben estar igualmente distribuidos entre las diferentes regiones y generos, considerando, por supuesto, que para cada una de esas sub-poblaciones, las personas elegidas sean las de mejores promedios académicos.\n",
    "\n",
    "Dado que las diferencias entre estos grupos obedecen a su entendimiento particular del problema, el presidente del comité propone utilizar los datos disponibles de las encuestas, sugiriendo que se analice qué características tendría la población de elegidos bajo cada uno de los dos criterios expuestos."
   ]
  },
  {
   "cell_type": "markdown",
   "metadata": {},
   "source": [
    "**Misión 3**\n",
    "\n",
    "Defina la pregunta de negocio y la pregunta de *analytics* para esta situación."
   ]
  },
  {
   "cell_type": "code",
   "execution_count": null,
   "metadata": {},
   "outputs": [],
   "source": [
    "# respuesta en texto (solo leeremos los primeros 300 caracteres de la respuesta)\n",
    "\n",
    "pregunta_negocio = '¿Cuales son las personas merecedoras de la beca y cual es su perfil ?'\n",
    "\n",
    "pregunta_analytics = '¿Cual es el algortimo correcto para seleccionar los becados y cual es la distribucion que pondera de manera correcta los perfilamientos?'"
   ]
  },
  {
   "cell_type": "markdown",
   "metadata": {},
   "source": [
    "**Misión 4**\n",
    "\n",
    "Desarrollar un algoritmo que permita conocer la población que sería becada según los criterios propuestos por el *primer grupo* mencionado arriba."
   ]
  },
  {
   "cell_type": "code",
   "execution_count": 185,
   "metadata": {},
   "outputs": [],
   "source": [
    "import numpy as np\n",
    "import itertools\n",
    "estratos=\"./estrato.txt\"\n",
    "promedios=\"./promedio.txt\""
   ]
  },
  {
   "cell_type": "code",
   "execution_count": 186,
   "metadata": {},
   "outputs": [],
   "source": [
    "with open(estratos, 'r') as est:\n",
    "    data_estratos = est.read()\n",
    "\n",
    "with open(promedios, 'r') as prom:\n",
    "    data_promedios = prom.read()"
   ]
  },
  {
   "cell_type": "code",
   "execution_count": 187,
   "metadata": {},
   "outputs": [
    {
     "data": {
      "text/plain": [
       "['5', '1', '3', '3', '2']"
      ]
     },
     "execution_count": 187,
     "metadata": {},
     "output_type": "execute_result"
    }
   ],
   "source": [
    "lista_estratos = data_estratos.split('\\n')\n",
    "lista_estratos[:5]"
   ]
  },
  {
   "cell_type": "code",
   "execution_count": 188,
   "metadata": {},
   "outputs": [
    {
     "data": {
      "text/plain": [
       "['2.4', '0.9', '3.2', '2.1', '2.1']"
      ]
     },
     "execution_count": 188,
     "metadata": {},
     "output_type": "execute_result"
    }
   ],
   "source": [
    "lista_promedios = data_promedios.split('\\n')\n",
    "lista_promedios[:5]"
   ]
  },
  {
   "cell_type": "code",
   "execution_count": 192,
   "metadata": {},
   "outputs": [
    {
     "data": {
      "text/plain": [
       "array([['5', '2.4'],\n",
       "       ['1', '0.9'],\n",
       "       ['3', '3.2'],\n",
       "       ...,\n",
       "       ['2', '2.7'],\n",
       "       ['2', '3.0'],\n",
       "       ['', '']], dtype='<U3')"
      ]
     },
     "execution_count": 192,
     "metadata": {},
     "output_type": "execute_result"
    }
   ],
   "source": [
    "data = np.array([lista_estratos, lista_promedios]).T\n",
    "data"
   ]
  },
  {
   "cell_type": "code",
   "execution_count": 193,
   "metadata": {},
   "outputs": [],
   "source": [
    "def calcula(arreglo, estrato):\n",
    "    estr_x = [(x[0], float(x[1])) for x in arreglo if x[0]==str(estrato)]\n",
    "    p98 = np.quantile([x[1] for x in estr_x], 0.98)\n",
    "    return [x for x in estr_x if x[1]>=p98]"
   ]
  },
  {
   "cell_type": "code",
   "execution_count": 194,
   "metadata": {},
   "outputs": [],
   "source": [
    "dict_res = {}\n",
    "for estrato in [1,2,3,4,5]:\n",
    "    dict_res[f\"Estrato {estrato}\"] = calcula(data, estrato)\n"
   ]
  },
  {
   "cell_type": "code",
   "execution_count": 195,
   "metadata": {},
   "outputs": [
    {
     "data": {
      "text/plain": [
       "{'Estrato 1': [('1', 4.9), ('1', 4.9), ('1', 5.0)],\n",
       " 'Estrato 2': [('2', 4.9), ('2', 4.9), ('2', 5.0), ('2', 4.9)],\n",
       " 'Estrato 3': [('3', 4.9), ('3', 4.7), ('3', 4.6), ('3', 4.9)],\n",
       " 'Estrato 4': [('4', 4.8)],\n",
       " 'Estrato 5': [('5', 4.8)]}"
      ]
     },
     "execution_count": 195,
     "metadata": {},
     "output_type": "execute_result"
    }
   ],
   "source": [
    "dict_res"
   ]
  },
  {
   "cell_type": "markdown",
   "metadata": {},
   "source": [
    "**Misión 5**\n",
    "\n",
    "Desarrollar un algoritmo que permita conocer la población que sería becada según los criterios propuestos por el *segundo grupo* mencionado arriba."
   ]
  },
  {
   "cell_type": "code",
   "execution_count": 157,
   "metadata": {},
   "outputs": [],
   "source": [
    "region = \"./region.txt\"\n",
    "genero = \"./genero.txt\"\n",
    "with open(promedios, 'r') as prom:\n",
    "    data_promedios = prom.read()\n",
    "\n",
    "with open(region, 'r') as reg:\n",
    "    data_region = reg.read()\n",
    "\n",
    "with open(genero, 'r') as gen:\n",
    "    data_genero = gen.read()\n",
    "\n",
    "lista_promedios = data_promedios.split('\\n')\n",
    "lista_regiones = data_region.split('\\n')\n",
    "lista_generos = data_genero.split('\\n')"
   ]
  },
  {
   "cell_type": "code",
   "execution_count": 12,
   "metadata": {},
   "outputs": [
    {
     "name": "stdout",
     "output_type": "stream",
     "text": [
      "(501, 3)\n"
     ]
    },
    {
     "data": {
      "text/plain": [
       "array([['Andina', 'masculino', '2.4'],\n",
       "       ['Andina', 'masculino', '0.9'],\n",
       "       ['Pacifica', 'femenino', '3.2'],\n",
       "       ...,\n",
       "       ['Andina', 'femenino', '2.7'],\n",
       "       ['Pacifica', 'femenino', '3.0'],\n",
       "       ['', '', '']], dtype='<U10')"
      ]
     },
     "execution_count": 12,
     "metadata": {},
     "output_type": "execute_result"
    }
   ],
   "source": [
    "data = np.array([lista_regiones, lista_generos, lista_promedios]).T\n",
    "print(data.shape)\n",
    "data"
   ]
  },
  {
   "cell_type": "code",
   "execution_count": 13,
   "metadata": {},
   "outputs": [],
   "source": [
    "def calcula2(arreglo, region, genero, top):\n",
    "    data_x = [(float(x[2])) for x in arreglo if x[0]==region and x[1]==genero]\n",
    "    data_x.sort(reverse=True)\n",
    "    return data_x[:top]"
   ]
  },
  {
   "cell_type": "code",
   "execution_count": 14,
   "metadata": {},
   "outputs": [
    {
     "data": {
      "text/plain": [
       "[5.0, 4.9, 4.7, 4.4, 4.0]"
      ]
     },
     "execution_count": 14,
     "metadata": {},
     "output_type": "execute_result"
    }
   ],
   "source": [
    "calcula2(data, 'Pacifica', 'masculino', 5)"
   ]
  },
  {
   "cell_type": "code",
   "execution_count": 15,
   "metadata": {},
   "outputs": [],
   "source": [
    "regiones_unicas = list(set(lista_regiones))\n",
    "regiones_unicas.remove('')\n",
    "\n",
    "generos_unicos = list(set(lista_generos))\n",
    "generos_unicos.remove('')"
   ]
  },
  {
   "cell_type": "code",
   "execution_count": 16,
   "metadata": {},
   "outputs": [
    {
     "data": {
      "text/plain": [
       "[('Andina', 'no binario'),\n",
       " ('Pacifica', 'no binario'),\n",
       " ('Amazonia', 'no binario')]"
      ]
     },
     "execution_count": 16,
     "metadata": {},
     "output_type": "execute_result"
    }
   ],
   "source": [
    "combinaciones = [x for x in [[(reg, gen) for reg in regiones_unicas] for gen in generos_unicos]]\n",
    "combinaciones = list(itertools.chain(*combinaciones)).copy()\n",
    "combinaciones[:3]"
   ]
  },
  {
   "cell_type": "code",
   "execution_count": 17,
   "metadata": {},
   "outputs": [
    {
     "data": {
      "text/plain": [
       "{'Andina, no binario': [4.8],\n",
       " 'Pacifica, no binario': [4.0],\n",
       " 'Amazonia, no binario': [1.5],\n",
       " 'Caribe, no binario': [4.3],\n",
       " 'Orinoquia, no binario': [],\n",
       " 'Andina, otro': [2.4],\n",
       " 'Pacifica, otro': [],\n",
       " 'Amazonia, otro': [3.1],\n",
       " 'Caribe, otro': [3.6],\n",
       " 'Orinoquia, otro': [2.1],\n",
       " 'Andina, femenino': [4.9],\n",
       " 'Pacifica, femenino': [4.9],\n",
       " 'Amazonia, femenino': [4.6],\n",
       " 'Caribe, femenino': [5.0],\n",
       " 'Orinoquia, femenino': [3.9],\n",
       " 'Andina, masculino': [4.9],\n",
       " 'Pacifica, masculino': [5.0],\n",
       " 'Amazonia, masculino': [4.5],\n",
       " 'Caribe, masculino': [4.9],\n",
       " 'Orinoquia, masculino': [4.2]}"
      ]
     },
     "execution_count": 17,
     "metadata": {},
     "output_type": "execute_result"
    }
   ],
   "source": [
    "top = 1\n",
    "dict_reg_gen = {}\n",
    "for region, genero in combinaciones:\n",
    "    dict_reg_gen[f\"{region}, {genero}\"] = calcula2(data, region, genero, top)\n",
    "\n",
    "dict_reg_gen"
   ]
  },
  {
   "cell_type": "markdown",
   "metadata": {},
   "source": [
    "**Misión 6**\n",
    "\n",
    "Desarrollar un algoritmo, a partir de lo anterior, cuyo resultado permita al comité comparar fácilmente las características de las dos poblaciones hipotéticas que recibirían becas.\n",
    "\n",
    "*Ayuda*: considera utilizar tus implementaciones de la *Misión 2* para facilitar esta misión."
   ]
  },
  {
   "cell_type": "code",
   "execution_count": 206,
   "metadata": {},
   "outputs": [
    {
     "data": {
      "image/png": "[encoded data removed]",
      "text/plain": [
       "<Figure size 432x288 with 1 Axes>"
      ]
     },
     "metadata": {
      "needs_background": "light"
     },
     "output_type": "display_data"
    }
   ],
   "source": [
    "# código\n",
    "#Metodo1\n",
    "\n",
    "# Declaramos valores para el eje x\n",
    "eje_x = ['1', '2', '3', '4','5']\n",
    " \n",
    "## Declaramos valores para el eje y\n",
    "eje_y = [3,4,4,1,1]\n",
    " \n",
    "## Creamos Gráfica\n",
    "plt.bar(eje_x, eje_y,color=['purple', 'pink', 'darkblue', 'blue', 'cyan'])\n",
    " \n",
    "## Legenda en el eje x\n",
    "plt.xlabel('Distribucion becas por estrato')\n",
    " \n",
    "## Mostramos Gráfica\n",
    "plt.show()"
   ]
  },
  {
   "cell_type": "code",
   "execution_count": 205,
   "metadata": {},
   "outputs": [
    {
     "data": {
      "image/png": "[encoded data removed]",
      "text/plain": [
       "<Figure size 432x288 with 1 Axes>"
      ]
     },
     "metadata": {
      "needs_background": "light"
     },
     "output_type": "display_data"
    }
   ],
   "source": [
    "#Metodo 2\n",
    "import matplotlib.pyplot as plt\n",
    "# Declaramos valores para el eje x\n",
    "eje_x = [\"Orinoquia\",\"Andina\",\"Pacifica\",\"Amazonia\",\"Caribe\"]\n",
    " \n",
    "## Declaramos valores para el eje y\n",
    "eje_y = [3,4,3,4,4]\n",
    " \n",
    "## Creamos Gráfica\n",
    "plt.bar(eje_x, eje_y,color=['purple', 'pink', 'darkblue', 'blue', 'cyan'])\n",
    " \n",
    "## Legenda en el eje x\n",
    "plt.xlabel('Distribucion becas por region')\n",
    " \n",
    "## Mostramos Gráfica\n",
    "plt.show()"
   ]
  },
  {
   "cell_type": "code",
   "execution_count": 209,
   "metadata": {},
   "outputs": [
    {
     "data": {
      "image/png": "[encoded data removed]",
      "text/plain": [
       "<Figure size 432x288 with 1 Axes>"
      ]
     },
     "metadata": {},
     "output_type": "display_data"
    }
   ],
   "source": [
    "conteos=[5,5,4,4]\n",
    "nombres=[\"masculino\",\"femenino\",\"no binario\",\"otro\"]\n",
    "plt.pie(conteos, labels=nombres)\n",
    "plt.show()"
   ]
  },
  {
   "cell_type": "markdown",
   "metadata": {},
   "source": [
    "## 3. Desarrollo de una solución analítica\n",
    "\n",
    "Reconociendo la complejidad de este problema (que no permite reducirlo a una dicotomía) y viendo el potencial del análisis de datos para enriquecer la discusión y los insumos para tomar decisiones, el comité ha solicitado una herramienta analítica que les permita . Sus requerimientos son:\n",
    "\n",
    "* La herramienta debe permitir ingresar una política de selección de becados.\n",
    "    * Se debe poder elegir el rango de edad de los aspirantes.\n",
    "    * Se debe poder elegir qué proporción de las becas se asigna a cada género, a cada estrato, o a cada región (pero sólo debe elegirse uno de estos criterios).\n",
    "* La herramienta debe generar un resultado que permita al comité analizar las características de la población potencialmente elegida si se usara la política ingresada.\n",
    "\n",
    "**Misión 7**\n",
    "\n",
    "Desarrollar, a partir de lo construido hasta el momento, un algoritmo que permita cumplir con los requerimientos del comité."
   ]
  },
  {
   "cell_type": "code",
   "execution_count": 158,
   "metadata": {},
   "outputs": [],
   "source": [
    "edades= \"./edad.txt\"\n",
    "with open(edades, 'r') as prom:\n",
    "    data_edades = prom.read()\n",
    "lista_edades = data_edades.split('\\n')"
   ]
  },
  {
   "cell_type": "code",
   "execution_count": 159,
   "metadata": {},
   "outputs": [
    {
     "name": "stdout",
     "output_type": "stream",
     "text": [
      "(501, 5)\n"
     ]
    },
    {
     "data": {
      "text/plain": [
       "array([['36', 'masculino', '5', 'Andina', '2.4'],\n",
       "       ['66', 'masculino', '1', 'Andina', '0.9'],\n",
       "       ['24', 'femenino', '3', 'Pacifica', '3.2'],\n",
       "       ...,\n",
       "       ['54', 'femenino', '2', 'Andina', '2.7'],\n",
       "       ['66', 'femenino', '2', 'Pacifica', '3.0'],\n",
       "       ['', '', '', '', '0']], dtype='<U32')"
      ]
     },
     "execution_count": 159,
     "metadata": {},
     "output_type": "execute_result"
    }
   ],
   "source": [
    "data = np.array([lista_edades, lista_generos, lista_estratos, lista_regiones, [float(x) if len(x)>0 else 0 for x in lista_promedios]]).T\n",
    "print(data.shape)\n",
    "data"
   ]
  },
  {
   "cell_type": "code",
   "execution_count": 111,
   "metadata": {},
   "outputs": [],
   "source": [
    "import math\n",
    "def procesa(data, nroBecas):\n",
    "    edad_minima = int(input(\"Ingrese la edad mínima en valor entero: \"))\n",
    "    edad_maxima = int(input(\"Ingrese la edad máxima en valor entero: \"))\n",
    "\n",
    "    if edad_maxima <= edad_minima:\n",
    "        return(\"Error, la edad máxima no puede superar o ser igual a la edad mínima\")\n",
    "    \n",
    "    pregunta = input(\"\"\"\\nSeleccione por cual variable desea distribuir:\n",
    "    (1): Género\n",
    "    (2): Estrato\n",
    "    (3): Región\n",
    "    \n",
    "    \\rEscriba solo el número de la opción que requiera: \"\"\")\n",
    "    \n",
    "    if pregunta not in [\"1\", \"2\", \"3\"]:\n",
    "        return(\"Error, Seleccione la variable correcta (1, 2 o 3)\")\n",
    "    \n",
    "    data_filtrada1 = [list(x) for x in data if len(x[0])>0 and int(x[0])>=edad_minima and int(x[0])<edad_maxima]\n",
    "    \n",
    "    if pregunta==\"1\":\n",
    "        # Distribución para genero\n",
    "        distr = {}\n",
    "        lgen = [x for x in list(set(lista_generos)) if len(x)>0]\n",
    "        print(lgen)\n",
    "        for gen in lgen:\n",
    "            distr[gen] = math.floor(int(input(f\"Agregue el porcentaje de becas a asignar a {gen}\"))/100 * nroBecas)\n",
    "    \n",
    "    elif pregunta==\"2\":\n",
    "        # Distribución para genero\n",
    "        distr = {}\n",
    "        lest = [x for x in list(set(lista_estratos)) if len(x)>0]\n",
    "        print(lest)\n",
    "        for est in lest:\n",
    "            distr[est] = math.floor(int(input(f\"Agregue el porcentaje de becas a asignar a {est}\"))/100 * nroBecas)\n",
    "    \n",
    "    elif pregunta==\"3\":\n",
    "        # Distribución para región\n",
    "        distr = {}\n",
    "        lreg = [x for x in list(set(lista_regiones)) if len(x)>0]\n",
    "        print(lreg)\n",
    "        for reg in lreg:\n",
    "            distr[reg] = math.floor(int(input(f\"Agregue el porcentaje de becas a asignar a {reg}\"))/100 * nroBecas)\n",
    "    \n",
    "    else:\n",
    "        print(\"Error\")\n",
    "    \n",
    "    data_filtrada1 = np.array(data_filtrada1)\n",
    "    data_filtrada1 = data_filtrada1[data_filtrada1[:, -1].argsort()[::-1]]\n",
    "    \n",
    "    lista_arreglos = []\n",
    "    if pregunta==\"1\":\n",
    "        for gen in distr.keys():\n",
    "            lista_arreglos.append(data_filtrada1[data_filtrada1[:,1]==gen][:distr[gen]])\n",
    "    elif pregunta==\"2\":\n",
    "        for est in distr.keys():\n",
    "            lista_arreglos.append(data_filtrada1[data_filtrada1[:,2]==est][:distr[est]])\n",
    "    elif pregunta==\"3\":\n",
    "        for reg in distr.keys():\n",
    "            lista_arreglos.append(data_filtrada1[data_filtrada1[:,3]==reg][:distr[reg]])\n",
    "    else:\n",
    "        \"continue\"\n",
    "    \n",
    "    \n",
    "    return lista_arreglos"
   ]
  },
  {
   "cell_type": "code",
   "execution_count": 112,
   "metadata": {},
   "outputs": [
    {
     "name": "stdin",
     "output_type": "stream",
     "text": [
      "Ingrese la edad mínima en valor entero:  20\n",
      "Ingrese la edad máxima en valor entero:  50\n",
      "\n",
      "Seleccione por cual variable desea distribuir:\n",
      "    (1): Género\n",
      "    (2): Estrato\n",
      "    (3): Región\n",
      "    \n",
      "Escriba solo el número de la opción que requiera:  3\n"
     ]
    },
    {
     "name": "stdout",
     "output_type": "stream",
     "text": [
      "['Andina', 'Pacifica', 'Amazonia', 'Caribe', 'Orinoquia']\n"
     ]
    },
    {
     "name": "stdin",
     "output_type": "stream",
     "text": [
      "Agregue el porcentaje de becas a asignar a Andina 10\n",
      "Agregue el porcentaje de becas a asignar a Pacifica 10\n",
      "Agregue el porcentaje de becas a asignar a Amazonia 10\n",
      "Agregue el porcentaje de becas a asignar a Caribe 10\n",
      "Agregue el porcentaje de becas a asignar a Orinoquia 60\n"
     ]
    },
    {
     "data": {
      "text/plain": [
       "[array([['47', 'masculino', '1', 'Andina', '4.9'],\n",
       "        ['21', 'femenino', '2', 'Andina', '4.9'],\n",
       "        ['28', 'no binario', '1', 'Andina', '4.8'],\n",
       "        ['34', 'masculino', '2', 'Andina', '4.4'],\n",
       "        ['22', 'femenino', '3', 'Andina', '4.2']], dtype='<U10'),\n",
       " array([['32', 'femenino', '1', 'Pacifica', '4.9'],\n",
       "        ['21', 'masculino', '3', 'Pacifica', '4.9'],\n",
       "        ['49', 'masculino', '1', 'Pacifica', '4.7'],\n",
       "        ['26', 'masculino', '3', 'Pacifica', '4.4'],\n",
       "        ['20', 'femenino', '1', 'Pacifica', '4.3']], dtype='<U10'),\n",
       " array([['27', 'femenino', '2', 'Amazonia', '4.6'],\n",
       "        ['20', 'masculino', '3', 'Amazonia', '4.5'],\n",
       "        ['39', 'masculino', '3', 'Amazonia', '3.3'],\n",
       "        ['45', 'masculino', '1', 'Amazonia', '3.1'],\n",
       "        ['43', 'femenino', '4', 'Amazonia', '2.9']], dtype='<U10'),\n",
       " array([['30', 'femenino', '2', 'Caribe', '4.4'],\n",
       "        ['36', 'femenino', '3', 'Caribe', '4.2'],\n",
       "        ['30', 'femenino', '1', 'Caribe', '4.1'],\n",
       "        ['38', 'femenino', '3', 'Caribe', '4.0'],\n",
       "        ['40', 'femenino', '2', 'Caribe', '3.8']], dtype='<U10'),\n",
       " array([['46', 'masculino', '2', 'Orinoquia', '3.8'],\n",
       "        ['32', 'femenino', '3', 'Orinoquia', '3.0'],\n",
       "        ['20', 'femenino', '4', 'Orinoquia', '2.9'],\n",
       "        ['27', 'femenino', '2', 'Orinoquia', '2.8'],\n",
       "        ['45', 'femenino', '2', 'Orinoquia', '2.7'],\n",
       "        ['30', 'femenino', '2', 'Orinoquia', '2.5'],\n",
       "        ['26', 'otro', '2', 'Orinoquia', '2.1'],\n",
       "        ['30', 'masculino', '1', 'Orinoquia', '2.1'],\n",
       "        ['27', 'masculino', '3', 'Orinoquia', '2.1'],\n",
       "        ['22', 'masculino', '2', 'Orinoquia', '2.0'],\n",
       "        ['49', 'femenino', '2', 'Orinoquia', '1.9'],\n",
       "        ['20', 'masculino', '2', 'Orinoquia', '1.8'],\n",
       "        ['21', 'femenino', '2', 'Orinoquia', '1.5'],\n",
       "        ['21', 'masculino', '3', 'Orinoquia', '1.3'],\n",
       "        ['28', 'masculino', '4', 'Orinoquia', '1.3'],\n",
       "        ['48', 'femenino', '2', 'Orinoquia', '1.3'],\n",
       "        ['24', 'femenino', '3', 'Orinoquia', '1.0']], dtype='<U10')]"
      ]
     },
     "execution_count": 112,
     "metadata": {},
     "output_type": "execute_result"
    }
   ],
   "source": [
    "dataFinal = procesa(data, 50)\n",
    "dataFinal"
   ]
  },
  {
   "cell_type": "markdown",
   "metadata": {},
   "source": [
    "**Misión 8**\n",
    "\n",
    "Proponer, con base en tu propio uso de la herramienta, una política de ingreso que consideres apropiada dado el contexto proporcionado. Si lo crees adecuado, explica, máximo 500 caracteres, las virtudes de tu propuesta (esto puede estar soportado en los datos, o no)."
   ]
  },
  {
   "cell_type": "code",
   "execution_count": null,
   "metadata": {},
   "outputs": [],
   "source": [
    "# respuesta en texto (solo leeremos los primeros 300 caracteres de la respuesta)\n",
    "\n",
    "respuesta = 'El criterio de las becas deberia estar sustentado bajo el estrato, ya que es la caracteristica '\n",
    "'que define la economia de la persona y sus facilidades para acceder a una beca, por lo cual de estratos 1-3 '\n",
    "'debe estar el 80% de becas. respecto a la edad creo que las edades tempranas pueden tener mas necesidades\n",
    "'con menos porbabilidad de tener un trabajo , asi que dejaria edades de 16-30 anos'"
   ]
  },
  {
   "cell_type": "markdown",
   "metadata": {},
   "source": [
    "**Misión 9**\n",
    "\n",
    "Ejecutar el algoritmo desarrollado en la *Misión 7* sobre la política que sugieres proponer al comité. Explicar claramente tus conlusiones con el soporte de los resultados de la herramienta."
   ]
  },
  {
   "cell_type": "code",
   "execution_count": 160,
   "metadata": {},
   "outputs": [],
   "source": [
    "import math\n",
    "def procesa(data, nroBecas):\n",
    "    edad_minima = int(input(\"Ingrese la edad mínima en valor entero: \"))\n",
    "    edad_maxima = int(input(\"Ingrese la edad máxima en valor entero: \"))\n",
    "\n",
    "    if edad_maxima <= edad_minima:\n",
    "        return(\"Error, la edad máxima no puede superar o ser igual a la edad mínima\")\n",
    "    \n",
    "    pregunta = input(\"\"\"\\nSeleccione por cual variable desea distribuir:\n",
    "    (1): Género\n",
    "    (2): Estrato\n",
    "    (3): Región\n",
    "    \n",
    "    \\rEscriba solo el número de la opción que requiera: \"\"\")\n",
    "    \n",
    "    if pregunta not in [\"1\", \"2\", \"3\"]:\n",
    "        return(\"Error, Seleccione la variable correcta (1, 2 o 3)\")\n",
    "    \n",
    "    data_filtrada1 = [list(x) for x in data if len(x[0])>0 and int(x[0])>=edad_minima and int(x[0])<edad_maxima]\n",
    "    \n",
    "    if pregunta==\"1\":\n",
    "        # Distribución para genero\n",
    "        distr = {}\n",
    "        lgen = [x for x in list(set(lista_generos)) if len(x)>0]\n",
    "        print(lgen)\n",
    "        for gen in lgen:\n",
    "            distr[gen] = math.floor(int(input(f\"Agregue el porcentaje de becas a asignar a {gen}\"))/100 * nroBecas)\n",
    "    \n",
    "    elif pregunta==\"2\":\n",
    "        # Distribución para genero\n",
    "        distr = {}\n",
    "        lest = [x for x in list(set(lista_estratos)) if len(x)>0]\n",
    "        print(lest)\n",
    "        for est in lest:\n",
    "            distr[est] = math.floor(int(input(f\"Agregue el porcentaje de becas a asignar a {est}\"))/100 * nroBecas)\n",
    "    \n",
    "    elif pregunta==\"3\":\n",
    "        # Distribución para región\n",
    "        distr = {}\n",
    "        lreg = [x for x in list(set(lista_regiones)) if len(x)>0]\n",
    "        print(lreg)\n",
    "        for reg in lreg:\n",
    "            distr[reg] = math.floor(int(input(f\"Agregue el porcentaje de becas a asignar a {reg}\"))/100 * nroBecas)\n",
    "    \n",
    "    else:\n",
    "        print(\"Error\")\n",
    "    \n",
    "    data_filtrada1 = np.array(data_filtrada1)\n",
    "    data_filtrada1 = data_filtrada1[data_filtrada1[:, -1].argsort()[::-1]]\n",
    "    \n",
    "    lista_arreglos = []\n",
    "    if pregunta==\"1\":\n",
    "        for gen in distr.keys():\n",
    "            lista_arreglos.append(data_filtrada1[data_filtrada1[:,1]==gen][:distr[gen]])\n",
    "    elif pregunta==\"2\":\n",
    "        for est in distr.keys():\n",
    "            lista_arreglos.append(data_filtrada1[data_filtrada1[:,2]==est][:distr[est]])\n",
    "    elif pregunta==\"3\":\n",
    "        for reg in distr.keys():\n",
    "            lista_arreglos.append(data_filtrada1[data_filtrada1[:,3]==reg][:distr[reg]])\n",
    "    else:\n",
    "        \"continue\"\n",
    "    \n",
    "    \n",
    "    return lista_arreglos"
   ]
  },
  {
   "cell_type": "code",
   "execution_count": 161,
   "metadata": {},
   "outputs": [
    {
     "name": "stdout",
     "output_type": "stream",
     "text": [
      "Ingrese la edad mínima en valor entero: 16\n",
      "Ingrese la edad máxima en valor entero: 30\n",
      "\n",
      "Seleccione por cual variable desea distribuir:\n",
      "    (1): Género\n",
      "    (2): Estrato\n",
      "    (3): Región\n",
      "    \n",
      "    \n",
      "Escriba solo el número de la opción que requiera: 2\n",
      "['1', '4', '2', '3', '5']\n",
      "Agregue el porcentaje de becas a asignar a 127\n",
      "Agregue el porcentaje de becas a asignar a 410\n",
      "Agregue el porcentaje de becas a asignar a 227\n",
      "Agregue el porcentaje de becas a asignar a 327\n",
      "Agregue el porcentaje de becas a asignar a 510\n"
     ]
    },
    {
     "data": {
      "text/plain": [
       "[array([['28', 'no binario', '1', 'Andina', '4.8'],\n",
       "        ['20', 'femenino', '1', 'Pacifica', '4.3'],\n",
       "        ['25', 'femenino', '1', 'Pacifica', '4.0'],\n",
       "        ['24', 'femenino', '1', 'Caribe', '3.7'],\n",
       "        ['20', 'masculino', '1', 'Andina', '3.7'],\n",
       "        ['23', 'femenino', '1', 'Pacifica', '3.3'],\n",
       "        ['27', 'femenino', '1', 'Pacifica', '3.0'],\n",
       "        ['24', 'femenino', '1', 'Andina', '2.9'],\n",
       "        ['28', 'masculino', '1', 'Andina', '2.9'],\n",
       "        ['19', 'masculino', '1', 'Orinoquia', '2.6'],\n",
       "        ['29', 'femenino', '1', 'Caribe', '2.3'],\n",
       "        ['24', 'masculino', '1', 'Pacifica', '2.2'],\n",
       "        ['25', 'no binario', '1', 'Pacifica', '2.2']], dtype='<U10'),\n",
       " array([['20', 'femenino', '4', 'Orinoquia', '2.9'],\n",
       "        ['18', 'masculino', '4', 'Orinoquia', '2.3'],\n",
       "        ['18', 'femenino', '4', 'Caribe', '2.3'],\n",
       "        ['28', 'femenino', '4', 'Andina', '2.2'],\n",
       "        ['22', 'femenino', '4', 'Andina', '1.9']], dtype='<U10'),\n",
       " array([['21', 'femenino', '2', 'Andina', '4.9'],\n",
       "        ['27', 'femenino', '2', 'Amazonia', '4.6'],\n",
       "        ['23', 'femenino', '2', 'Pacifica', '4.0'],\n",
       "        ['26', 'masculino', '2', 'Andina', '3.9'],\n",
       "        ['24', 'masculino', '2', 'Pacifica', '3.8'],\n",
       "        ['28', 'femenino', '2', 'Pacifica', '3.6'],\n",
       "        ['26', 'masculino', '2', 'Andina', '3.6'],\n",
       "        ['27', 'masculino', '2', 'Caribe', '3.6'],\n",
       "        ['19', 'femenino', '2', 'Andina', '3.5'],\n",
       "        ['29', 'masculino', '2', 'Caribe', '3.2'],\n",
       "        ['22', 'masculino', '2', 'Andina', '3.0'],\n",
       "        ['21', 'femenino', '2', 'Pacifica', '3.0'],\n",
       "        ['29', 'masculino', '2', 'Pacifica', '3.0']], dtype='<U10'),\n",
       " array([['21', 'masculino', '3', 'Pacifica', '4.9'],\n",
       "        ['20', 'masculino', '3', 'Amazonia', '4.5'],\n",
       "        ['26', 'masculino', '3', 'Pacifica', '4.4'],\n",
       "        ['22', 'femenino', '3', 'Andina', '4.2'],\n",
       "        ['22', 'femenino', '3', 'Andina', '4.0'],\n",
       "        ['18', 'masculino', '3', 'Caribe', '3.7'],\n",
       "        ['25', 'femenino', '3', 'Caribe', '3.6'],\n",
       "        ['29', 'masculino', '3', 'Andina', '3.6'],\n",
       "        ['28', 'femenino', '3', 'Pacifica', '3.4'],\n",
       "        ['23', 'masculino', '3', 'Pacifica', '3.3'],\n",
       "        ['24', 'masculino', '3', 'Andina', '3.2'],\n",
       "        ['24', 'femenino', '3', 'Pacifica', '3.2'],\n",
       "        ['27', 'masculino', '3', 'Caribe', '2.9']], dtype='<U10'),\n",
       " array([['18', 'masculino', '5', 'Caribe', '2.9'],\n",
       "        ['23', 'femenino', '5', 'Pacifica', '2.2'],\n",
       "        ['23', 'femenino', '5', 'Caribe', '2.1'],\n",
       "        ['20', 'femenino', '5', 'Caribe', '2.0']], dtype='<U10')]"
      ]
     },
     "execution_count": 161,
     "metadata": {},
     "output_type": "execute_result"
    }
   ],
   "source": [
    "dataFinal = procesa(data, 50)\n",
    "dataFinal"
   ]
  },
  {
   "cell_type": "code",
   "execution_count": null,
   "metadata": {},
   "outputs": [],
   "source": [
    "# código\n",
    "\n",
    "conclusion = 'Teniendo en cuenta el criterio de estrato y edad temprana , se ve que en estratos bajos \n",
    "'hay mejores promedios por lo cual parece ser un buen indicador de escogencia , sin discrimar por genero \n",
    "'o por region, podria ser interesante incluir una ponderacion por tamano en region , ya que puede que en \n",
    "'las regiones mas grandes se necesiten un mayor numero de becas.'"
   ]
  },
  {
   "cell_type": "markdown",
   "metadata": {},
   "source": [
    "## Referencias\n",
    "* Discriminación Positiva<br> \n",
    "https://es.wikipedia.org/wiki/Discriminaci%C3%B3n_positiva\n",
    "* Análisis de formulación del programa “Ser Pilo Paga”<br>\n",
    "https://repository.urosario.edu.co/handle/10336/12526\n",
    "* La acción afirmativa en la Universidad de los Andes: El caso del programa \"Oportunidades para talentos nacionales\"<br> http://www.scielo.org.co/scielo.php?script=sci_arttext&pid=S0123-885X2004000300005\n",
    "* Acción afirmativa y equidad: un análisis desde la propuesta de Thomas Nagel<br>\n",
    "http://www.scielo.org.mx/scielo.php?script=sci_arttext&pid=S2007-24062016000200049"
   ]
  },
  {
   "cell_type": "markdown",
   "metadata": {},
   "source": [
    "## Créditos"
   ]
  },
  {
   "cell_type": "markdown",
   "metadata": {},
   "source": [
    "Camilo Gómez - 11/06/21<br>\n",
    "*Revisado*: 25/08/21"
   ]
  },
  {
   "cell_type": "code",
   "execution_count": null,
   "metadata": {},
   "outputs": [],
   "source": []
  }
 ],
 "metadata": {
  "kernelspec": {
   "display_name": "Python 3",
   "language": "python",
   "name": "python3"
  },
  "language_info": {
   "codemirror_mode": {
    "name": "ipython",
    "version": 3
   },
   "file_extension": ".py",
   "mimetype": "text/x-python",
   "name": "python",
   "nbconvert_exporter": "python",
   "pygments_lexer": "ipython3",
   "version": "3.8.8"
  }
 },
 "nbformat": 4,
 "nbformat_minor": 4
}
