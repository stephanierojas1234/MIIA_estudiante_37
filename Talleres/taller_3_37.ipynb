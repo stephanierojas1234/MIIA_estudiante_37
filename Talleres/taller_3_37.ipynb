{
 "cells": [
  {
   "cell_type": "markdown",
   "metadata": {
    "deletable": false,
    "editable": false,
    "nbgrader": {
     "cell_type": "markdown",
     "checksum": "3f42cd07626a60829ec743ad7e66a777",
     "grade": false,
     "grade_id": "header",
     "locked": true,
     "schema_version": 3,
     "solution": false,
     "task": false
    }
   },
   "source": [
    "<img src=\"Archivos/miad4.png\" width=800x>\n",
    "\n",
    "# Funciones\n",
    "\n",
    "En este taller usarás funciones y funciones anónimas para resolver diversos problemas.\n",
    "\n",
    "## Habilidades en práctica\n",
    "Al desarrollar este taller podrás verificar tu progreso para:\n",
    "\n",
    "**1.** Implementar funciones e integrarlas con condicionales y ciclos. <br>\n",
    "**2.** Implementar funciones anónimas e integrarlas con condicionales.\n",
    "\n",
    "## Instrucciones\n",
    "En cada uno de los siguientes ejercicios deberás escribir el código solicitado estrictamente en las celdas indicadas para ello, teniendo en cuenta las siguientes recomendaciones:\n",
    "\n",
    "* No crear, eliminar o modificar celdas de este Notebook (salvo lo que se te indique), pues puede verse afectado el proceso de calificación automática.\n",
    "* La calificación se realiza de manera automática con datos diferentes a los proporcionados en este taller. Por consiguiente, tu código debe funcionar para diferentes instancias de cada uno de los ejercicios; una instancia hace referencia al valor de los parámetros.\n",
    "* La calificación de cada ejercicio depende del valor que retorne la función especificada en su enunciado. Por lo tanto, aunque implementes funciones adicionales, es escencial que utilices los nombres propuestos en los enunciados de los ejercicios para implementar la función definitiva.\n",
    "\n",
    "Esta es una actividad calificada y, por lo tanto, debe ser resuelta individualmente.\n",
    "\n",
    "A continuación puedes ver un ejemplo de los ejercicios que encontrarás en este taller."
   ]
  },
  {
   "cell_type": "markdown",
   "metadata": {
    "deletable": false,
    "editable": false,
    "nbgrader": {
     "cell_type": "markdown",
     "checksum": "88e4945c8c579ebeae90bde1e09595ed",
     "grade": false,
     "grade_id": "eje-enun-task",
     "locked": true,
     "schema_version": 3,
     "solution": false,
     "task": false
    }
   },
   "source": [
    "### Ejemplo\n",
    "\n",
    "Implementa una función llamada `multiplicacion` que reciba dos números ingresados por parámetro y retorne la multiplicación de estos dos.\n",
    "\n",
    "*Esta función debería retornar un número*"
   ]
  },
  {
   "cell_type": "code",
   "execution_count": 1,
   "metadata": {
    "deletable": false,
    "editable": false,
    "nbgrader": {
     "cell_type": "code",
     "checksum": "78275bae3fd1e10d03c847ea1a819f41",
     "grade": false,
     "grade_id": "eje-sol",
     "locked": true,
     "schema_version": 3,
     "solution": false,
     "task": false
    }
   },
   "outputs": [],
   "source": [
    "# Implementa tu respuesta en esta celda\n",
    "\n",
    "def multiplicacion(num1, num2):\n",
    "    \n",
    "    respuesta = num1 * num2\n",
    "    \n",
    "    return respuesta"
   ]
  },
  {
   "cell_type": "markdown",
   "metadata": {
    "deletable": false,
    "editable": false,
    "nbgrader": {
     "cell_type": "markdown",
     "checksum": "dbdd0b56db885934cbd8e20690c7e0de",
     "grade": false,
     "grade_id": "ej1-enun",
     "locked": true,
     "schema_version": 3,
     "solution": false,
     "task": false
    }
   },
   "source": [
    "### Ejercicio 1\n",
    "\n",
    "A continuación, encuentras declarada una lista de números."
   ]
  },
  {
   "cell_type": "code",
   "execution_count": 2,
   "metadata": {
    "deletable": false,
    "editable": false,
    "nbgrader": {
     "cell_type": "code",
     "checksum": "b127642b5e9464befce08443250d13eb",
     "grade": false,
     "grade_id": "ej1-data",
     "locked": true,
     "schema_version": 3,
     "solution": false,
     "task": false
    }
   },
   "outputs": [],
   "source": [
    "# No modifiques esta celda\n",
    "\n",
    "lista = [20, 12, 21.3, 34]"
   ]
  },
  {
   "cell_type": "markdown",
   "metadata": {
    "deletable": false,
    "editable": false,
    "nbgrader": {
     "cell_type": "markdown",
     "checksum": "9546415bbd6424d3d591c04b1bed7279",
     "grade": false,
     "grade_id": "ej1-task",
     "locked": true,
     "schema_version": 3,
     "solution": false,
     "task": false
    }
   },
   "source": [
    "Implementa una función llamada `suma_lista` que reciba por parámetro una lista de números (por ejemplo, la variable `lista`) y retorne la suma de todos sus elementos.\n",
    "\n",
    "*Esta función debe retornar un número*."
   ]
  },
  {
   "cell_type": "code",
   "execution_count": 5,
   "metadata": {
    "deletable": false,
    "nbgrader": {
     "cell_type": "code",
     "checksum": "36077906e0c130d2845e25e45c280f50",
     "grade": false,
     "grade_id": "ej1-sol",
     "locked": false,
     "schema_version": 3,
     "solution": true,
     "task": false
    }
   },
   "outputs": [
    {
     "data": {
      "text/plain": [
       "87.3"
      ]
     },
     "execution_count": 5,
     "metadata": {},
     "output_type": "execute_result"
    }
   ],
   "source": [
    "# YOUR CODE HERE\n",
    "\n",
    "def suma_lista(lista):\n",
    "    respuesta=sum(lista)\n",
    "    return respuesta\n",
    "\n",
    "suma_lista(lista)\n"
   ]
  },
  {
   "cell_type": "code",
   "execution_count": 6,
   "metadata": {
    "deletable": false,
    "editable": false,
    "nbgrader": {
     "cell_type": "code",
     "checksum": "eac97127c2341129e32bde2ecdb35a38",
     "grade": true,
     "grade_id": "ej1-test",
     "locked": true,
     "points": 1,
     "schema_version": 3,
     "solution": false,
     "task": false
    }
   },
   "outputs": [
    {
     "name": "stdout",
     "output_type": "stream",
     "text": [
      "Felicidades, realizaste este ejercicio correctamente.\n"
     ]
    }
   ],
   "source": [
    "## AUTO-CALIFICADOR\n",
    "\n",
    "# Base variables\n",
    "lista = [20, 12, 21.3, 34]\n",
    "lista_prueba = [23.7, 15.1, 22.2, 21, 16.1, 24, 15.9]\n",
    "\n",
    "# Caso 1: no existe la función.\n",
    "try:\n",
    "    suma_lista\n",
    "    assert type(suma_lista) == type(lambda:None)\n",
    "except:\n",
    "    raise NotImplementedError(\"No existe una función llamada suma_lista.\",)\n",
    "    \n",
    "# Caso 2: la función es interrumpida por errores durante su ejecución.\n",
    "try:\n",
    "    suma_lista(lista)\n",
    "    suma_lista(lista_prueba)\n",
    "except:\n",
    "    raise RuntimeError(\"Tu función produce un error al ejecutarse.\")\n",
    "\n",
    "# Caso 3: no retorna un número\n",
    "assert type(suma_lista(lista_prueba)) == float, f\"Tu función debe retornar un valor de tipo {float.__name__}.\"\n",
    "\n",
    "# Caso 4: respuesta explicita\n",
    "assert suma_lista(lista_prueba) != 87.3, \"Tu respuesta es incorrecta para una instancia diferente. Utiliza el parámetro.\"\n",
    "\n",
    "# Caso 5: suma elemento por elemento\n",
    "assert suma_lista(lista_prueba) >= 138.0, \"Tu función puede no estar sumando todos los elementos de la lista.\"\n",
    "\n",
    "# Caso 6: retorna un numero distinto del esperado\n",
    "assert suma_lista(lista_prueba) == 138.0, \"Tu función no retorna el valor correcto.\"\n",
    "assert suma_lista(lista) == 87.3, \"Tu función no retorna el valor correcto.\"\n",
    "\n",
    "# Mensaje de felicitaciones\n",
    "print(\"Felicidades, realizaste este ejercicio correctamente.\")"
   ]
  },
  {
   "cell_type": "markdown",
   "metadata": {
    "deletable": false,
    "editable": false,
    "nbgrader": {
     "cell_type": "markdown",
     "checksum": "b151cb8e802c2b6f7df6c2e58fb618d5",
     "grade": false,
     "grade_id": "ej2-enun",
     "locked": true,
     "schema_version": 3,
     "solution": false,
     "task": false
    }
   },
   "source": [
    "### Ejercicio 2\n",
    "\n",
    "A continuación, encuentras declarada una lista que contiene letras y números."
   ]
  },
  {
   "cell_type": "code",
   "execution_count": 7,
   "metadata": {
    "deletable": false,
    "editable": false,
    "nbgrader": {
     "cell_type": "code",
     "checksum": "516b1beb476b2107049ce154847347ab",
     "grade": false,
     "grade_id": "el2-data",
     "locked": true,
     "schema_version": 3,
     "solution": false,
     "task": false
    }
   },
   "outputs": [],
   "source": [
    "lista = [23, \"2\", 46 , \"l\", 8.3, \"m\"]"
   ]
  },
  {
   "cell_type": "markdown",
   "metadata": {
    "deletable": false,
    "editable": false,
    "nbgrader": {
     "cell_type": "markdown",
     "checksum": "cc357317b0a0448dc6cb905375d68ac8",
     "grade": false,
     "grade_id": "ej2-task",
     "locked": true,
     "schema_version": 3,
     "solution": false,
     "task": false
    }
   },
   "source": [
    "Implementa una función llamada `primera_letra` que reciba una lista de números y letras por parámetro (por ejemplo, la variable `lista`), y retorne el primer elemento que sea una letra. La función debe retornar una cadena de texto vacía (`\"\"`) si no encuentra una letra.\n",
    "\n",
    "*Esta función debe retornar una letra*."
   ]
  },
  {
   "cell_type": "code",
   "execution_count": 8,
   "metadata": {
    "deletable": false,
    "nbgrader": {
     "cell_type": "code",
     "checksum": "289eed4fea8e3d3881a1d30d07b70bbb",
     "grade": false,
     "grade_id": "ej2-sol",
     "locked": false,
     "schema_version": 3,
     "solution": true,
     "task": false
    }
   },
   "outputs": [
    {
     "name": "stdout",
     "output_type": "stream",
     "text": [
      "l\n"
     ]
    }
   ],
   "source": [
    "# YOUR CODE HERE\n",
    "def primera(lista):\n",
    "    letra=[]\n",
    "    letra.append(\"\")\n",
    "    for i in lista:\n",
    "        if type(i)==str:\n",
    "            if i.isalpha():\n",
    "                letra.append(i)\n",
    "                    \n",
    "    return letra\n",
    "    \n",
    "def primera_letra(lista):\n",
    "    lista_aux=primera(lista)\n",
    "    if len(lista_aux)>1:\n",
    "        j=1\n",
    "    else:\n",
    "        j=0\n",
    "    return lista_aux[j]\n",
    "\n",
    "print(primera_letra(lista))\n"
   ]
  },
  {
   "cell_type": "code",
   "execution_count": 21,
   "metadata": {
    "deletable": false,
    "editable": false,
    "nbgrader": {
     "cell_type": "code",
     "checksum": "9c6d58f3c8f54be423a7927e6c801358",
     "grade": true,
     "grade_id": "ej2-test",
     "locked": true,
     "points": 1,
     "schema_version": 3,
     "solution": false,
     "task": false
    }
   },
   "outputs": [
    {
     "name": "stdout",
     "output_type": "stream",
     "text": [
      "Felicidades, realizaste este ejercicio correctamente.\n"
     ]
    }
   ],
   "source": [
    "## AUTO-CALIFICADOR\n",
    "\n",
    "# Base variables\n",
    "lista = [23, \"2\", 46 , \"l\", 8.3, \"m\"]\n",
    "lista_prueba = [23.7, \"15\", \"22.2\", 21, 48, \"x\", 24, 15.9, \"f\"]\n",
    "lista_prueba_2 = [23.7, \"15\", \"22.2\", 21, \"x\", 24, 15.9, \"f\"]\n",
    "lista_prueba_3 = [23.7, \"15\", \"22.2\", 21, 24, 15.9]\n",
    "\n",
    "# Caso 1: no existe la función.\n",
    "try:\n",
    "    primera_letra\n",
    "    assert type(primera_letra) == type(lambda:None)\n",
    "except:\n",
    "    raise NotImplementedError(\"No existe una función llamada primera_letra.\",)\n",
    "    \n",
    "# Caso 2: la función es interrumpida por errores durante su ejecución.\n",
    "try:\n",
    "    primera_letra(lista)\n",
    "    primera_letra(lista_prueba)\n",
    "    primera_letra(lista_prueba_2)\n",
    "    primera_letra(lista_prueba_3)\n",
    "except:\n",
    "    raise RuntimeError(\"Tu función produce un error al ejecutarse.\")\n",
    "    \n",
    "# Caso 3: no retorna una letra\n",
    "assert type(primera_letra(lista_prueba)) == str, f\"Tu función debe retornar un valor de tipo {str.__name__}.\"\n",
    "\n",
    "# Caso 4: respuesta explicita\n",
    "assert primera_letra(lista_prueba) != \"l\", \"Tu respuesta es incorrecta para para una instancia diferente. Utiliza el parámetro.\"\n",
    "\n",
    "# Caso 5: la función retorna vacio\n",
    "assert primera_letra(lista_prueba_3) == \"\", \"Tu función debe retornar una cadena de texto vacía cuando no hay una letra en la lista.\"\n",
    "\n",
    "# Caso 6: no encuentra letras.\n",
    "assert primera_letra(lista_prueba) != \"\", \"Tu función no encuentra una letra en la lista. Puede no estar explorando todos sus elementos.\"\n",
    "\n",
    "# Caso 7: retorna una letra distinta de la esperada\n",
    "assert primera_letra(lista_prueba) == \"x\", \"Tu función no retorna la letra correcta.\"\n",
    "assert primera_letra(lista) == \"l\", \"Tu función no retorna la letra correcta.\"\n",
    "\n",
    "# Mensaje de felicitaciones\n",
    "print(\"Felicidades, realizaste este ejercicio correctamente.\")"
   ]
  },
  {
   "cell_type": "markdown",
   "metadata": {
    "deletable": false,
    "editable": false,
    "nbgrader": {
     "cell_type": "markdown",
     "checksum": "82839d08a58e8da3feb260228b5c5524",
     "grade": false,
     "grade_id": "ej3-enun",
     "locked": true,
     "schema_version": 3,
     "solution": false,
     "task": false
    }
   },
   "source": [
    "### Ejercicio 3\n",
    "\n",
    "A continuación, encuentras declarada una lista que contiene letras y números."
   ]
  },
  {
   "cell_type": "code",
   "execution_count": 26,
   "metadata": {
    "deletable": false,
    "editable": false,
    "nbgrader": {
     "cell_type": "code",
     "checksum": "1b96bbc1cb031853504fc77854f9b70b",
     "grade": false,
     "grade_id": "ej3-data",
     "locked": true,
     "schema_version": 3,
     "solution": false,
     "task": false
    }
   },
   "outputs": [],
   "source": [
    "lista = [4, 3, 8, 5, 6, 2, 7, 5]"
   ]
  },
  {
   "cell_type": "markdown",
   "metadata": {
    "deletable": false,
    "editable": false,
    "nbgrader": {
     "cell_type": "markdown",
     "checksum": "519fe4dca4b3b55137f9a5ade1015397",
     "grade": false,
     "grade_id": "ej3-task",
     "locked": true,
     "schema_version": 3,
     "solution": false,
     "task": false
    }
   },
   "source": [
    "Implementa una función llamada `separar_pares_impares` que reciba una lista de números enteros por parámetro (por ejemplo, la variable `lista`) y retorne una tupla que contenga dos listas, cada una ordenada ascendentemente:\n",
    "\n",
    "* La primera lista debe contener los números pares.\n",
    "* La segunda lista debe contener los números impares.\n",
    "\n",
    "*Esta función debe retornar una tupla de listas*."
   ]
  },
  {
   "cell_type": "code",
   "execution_count": 39,
   "metadata": {
    "deletable": false,
    "nbgrader": {
     "cell_type": "code",
     "checksum": "e32e96e55bd4d8d3b7612a3b109d0ad9",
     "grade": false,
     "grade_id": "ej3-sol",
     "locked": false,
     "schema_version": 3,
     "solution": true,
     "task": false
    }
   },
   "outputs": [
    {
     "name": "stdout",
     "output_type": "stream",
     "text": [
      "([2, 4, 6, 8], [3, 5, 5, 7])\n"
     ]
    }
   ],
   "source": [
    "# YOUR CODE HERE\n",
    "def separar_pares_impares(lista:list):\n",
    "    lista_pares=[]\n",
    "    lista_impares=[]\n",
    "    for i in range(len(lista)):\n",
    "        if lista[i]%2==0:\n",
    "            lista_pares.append(lista[i])\n",
    "        else:\n",
    "            lista_impares.append(lista[i])\n",
    "    lista_pares.sort()\n",
    "    lista_impares.sort()\n",
    "    tupla=(lista_pares,lista_impares)\n",
    "    return tupla\n",
    "\n",
    "print(separar_pares_impares(lista))\n",
    "#raise NotImplementedError()"
   ]
  },
  {
   "cell_type": "code",
   "execution_count": 40,
   "metadata": {
    "deletable": false,
    "editable": false,
    "nbgrader": {
     "cell_type": "code",
     "checksum": "8bea83de53ba372d8e1829cf84d18a13",
     "grade": true,
     "grade_id": "ej3-test",
     "locked": true,
     "points": 1,
     "schema_version": 3,
     "solution": false,
     "task": false
    }
   },
   "outputs": [
    {
     "name": "stdout",
     "output_type": "stream",
     "text": [
      "Felicidades, realizaste este ejercicio correctamente.\n"
     ]
    }
   ],
   "source": [
    "\n",
    "\n",
    "# Base variables\n",
    "lista = [4, 3, 8, 5, 6, 2, 7, 5]\n",
    "lista_prueba = [3, 1, 2, 8, 6, 6, 7, 10, 9, 8]\n",
    "\n",
    "# Caso 1: no existe la función.\n",
    "try:\n",
    "    separar_pares_impares\n",
    "    assert type(separar_pares_impares) == type(lambda:None)\n",
    "except:\n",
    "    raise NotImplementedError(\"No existe una función llamada separar_pares_impares.\")\n",
    "\n",
    "# Caso 2: la función es interrumpida por errores durante su ejecución.\n",
    "try:\n",
    "    separar_pares_impares(lista)\n",
    "    separar_pares_impares(lista_prueba)\n",
    "except:\n",
    "    raise RuntimeError(\"Tu función produce un error al ejecutarse.\")\n",
    "\n",
    "# Caso 3: no retorna una tupla de listas\n",
    "assert type(separar_pares_impares(lista_prueba)) == tuple, f\"Tu función debe retornar un valor de tipo {tuple.__name__}.\"\n",
    "assert type(separar_pares_impares(lista_prueba)[0]) == list and type(separar_pares_impares(lista_prueba)[1]) == list, \"La tupla que retorna tu función debe contener una lista en su primera y segunda posicion.\"\n",
    "\n",
    "# Case 4: len(tupla) != 2\n",
    "assert len(separar_pares_impares(lista_prueba)) == len(([],[])), \"Tu función retorna una tupla de tamaño incorrecto.\"\n",
    "\n",
    "# Caso 5: respuesta explicita\n",
    "assert separar_pares_impares(lista_prueba) == ([2, 6, 6, 8, 8, 10], [1, 3, 7, 9]), \"Tu respuesta es incorrecta para para una instancia diferente. Utiliza el parámetro.\"\n",
    "\n",
    "# Caso 6: la lista de impares está ubicada antes que la lista de pares.\n",
    "assert sum([i % 2 for i in separar_pares_impares(lista_prueba)[0]]) == 0, \"La primera lista de la tupla debe contener únicamente pares.\"\n",
    "assert sum([(i + 1) % 2 for i in separar_pares_impares(lista_prueba)[1]]) == 0, \"La segunda lista de la tupla debe contener únicamente impares.\"\n",
    "\n",
    "# Caso 7: la lista de pares y la lista de impares es cada una de longitud incorrecta\n",
    "assert len(separar_pares_impares(lista_prueba)[0]) == len([2, 6, 6, 8, 8, 10]), \"La primera lista de la tupla que retorna tu función no tiene la longitud correcta.\"\n",
    "assert len(separar_pares_impares(lista_prueba)[1]) == len([1, 3, 7, 9]), \"La segunda lista de la tupla que retorna tu función no tiene la longitud correcta.\"\n",
    "\n",
    "# Caso 8: las listas son correctas, independiente de su orden\n",
    "assert set(separar_pares_impares(lista_prueba)[0]) == {2, 6, 6, 8, 8, 10}, \"La primera lista de la tupla que retorna tu función no contiene los elementos esperados, independiente de su orden.\"\n",
    "assert set(separar_pares_impares(lista_prueba)[1]) == {1, 3, 7, 9}, \"La segunda lista de la tupla que retorna tu función no contiene los elementos esperados, independiente de su orden.\"\n",
    "\n",
    "# Caso 9: las listas no están ordenadas ascendentemente\n",
    "assert separar_pares_impares(lista_prueba)[0] == [2, 6, 6, 8, 8, 10], \"La primera lista de la tupla que retorna tu función no está ordenada ascendentemente.\"\n",
    "assert separar_pares_impares(lista_prueba)[1] == [1, 3, 7, 9], \"La segunda lista de la tupla que retorna tu función no está ordenada ascendentemente.\"\n",
    "\n",
    "assert separar_pares_impares(lista)[0] == [2, 4, 6 ,8], \"La primera lista de la tupla que retorna tu función no está ordenada ascendentemente.\"\n",
    "assert separar_pares_impares(lista)[1] == [3, 5, 5, 7], \"La segunda lista de la tupla que retorna tu función no está ordenada ascendentemente.\"\n",
    "\n",
    "# Mensaje de felicitaciones\n",
    "print(\"Felicidades, realizaste este ejercicio correctamente.\")"
   ]
  },
  {
   "cell_type": "markdown",
   "metadata": {
    "deletable": false,
    "editable": false,
    "nbgrader": {
     "cell_type": "markdown",
     "checksum": "6d0ff01e8b5e3999bfc8f2a702d01699",
     "grade": false,
     "grade_id": "ej4-enun",
     "locked": true,
     "schema_version": 3,
     "solution": false,
     "task": false
    }
   },
   "source": [
    "### Ejercicio 4\n",
    "\n",
    "A continuación, encuentras declarados algunos números enteros."
   ]
  },
  {
   "cell_type": "code",
   "execution_count": 45,
   "metadata": {
    "deletable": false,
    "editable": false,
    "nbgrader": {
     "cell_type": "code",
     "checksum": "0180b548e3b0ae489637752962409202",
     "grade": false,
     "grade_id": "ej4-data",
     "locked": true,
     "schema_version": 3,
     "solution": false,
     "task": false
    }
   },
   "outputs": [],
   "source": [
    "treinta = 30\n",
    "cuarenta_y_cinco = 45\n",
    "cincuenta = 50\n",
    "sesenta_y_tres = 63"
   ]
  },
  {
   "cell_type": "markdown",
   "metadata": {
    "deletable": false,
    "editable": false,
    "nbgrader": {
     "cell_type": "markdown",
     "checksum": "ca1f6520d63ac9b7eaad7e1a661c2c39",
     "grade": false,
     "grade_id": "ej4-task",
     "locked": true,
     "schema_version": 3,
     "solution": false,
     "task": false
    }
   },
   "source": [
    "Implementa una función anónima que reciba un número entero por parámetro (por ejemplo, la variable `trinta`) y retorne `True` si el número es mayor a 50. Guarda la función (sin ejecutar) en una variable llamada `mayor_a_cincuenta`.\n",
    "\n",
    "*Esta función debe retornar un valor booleano* (`True` o `False`)."
   ]
  },
  {
   "cell_type": "code",
   "execution_count": 46,
   "metadata": {
    "deletable": false,
    "nbgrader": {
     "cell_type": "code",
     "checksum": "ab1b934e5066adf602438708d3c79811",
     "grade": false,
     "grade_id": "ej4-sol",
     "locked": false,
     "schema_version": 3,
     "solution": true,
     "task": false
    }
   },
   "outputs": [
    {
     "data": {
      "text/plain": [
       "True"
      ]
     },
     "execution_count": 46,
     "metadata": {},
     "output_type": "execute_result"
    }
   ],
   "source": [
    "# YOUR CODE HERE\n",
    "mayor_a_cincuenta= lambda numero:numero >50 \n",
    "\n",
    "mayor_a_cincuenta(sesenta_y_tres)\n",
    "#raise NotImplementedError()"
   ]
  },
  {
   "cell_type": "code",
   "execution_count": 47,
   "metadata": {
    "deletable": false,
    "editable": false,
    "nbgrader": {
     "cell_type": "code",
     "checksum": "1f814a3514f2759d11d56912380ccb56",
     "grade": true,
     "grade_id": "ej4-test",
     "locked": true,
     "points": 1,
     "schema_version": 3,
     "solution": false,
     "task": false
    }
   },
   "outputs": [
    {
     "name": "stdout",
     "output_type": "stream",
     "text": [
      "Felicidades, realizaste este ejercicio correctamente.\n"
     ]
    }
   ],
   "source": [
    "## AUTO-CALIFICADOR\n",
    "\n",
    "# Base variables\n",
    "treinta = 30\n",
    "cuarenta_y_cinco = 45\n",
    "cincuenta = 50\n",
    "sesenta_y_tres = 63\n",
    "    \n",
    "# Caso 1: no existe la función.\n",
    "try:\n",
    "    mayor_a_cincuenta\n",
    "    assert type(mayor_a_cincuenta) == type(lambda:None)\n",
    "except:\n",
    "    raise NotImplementedError(\"No existe una función llamada mayor_a_cincuenta.\")\n",
    "\n",
    "# Caso 2: la función es interrumpida por errores durante su ejecución.\n",
    "try:\n",
    "    mayor_a_cincuenta(treinta)\n",
    "    mayor_a_cincuenta(cuarenta_y_cinco)\n",
    "    mayor_a_cincuenta(cincuenta)\n",
    "    mayor_a_cincuenta(sesenta_y_tres)\n",
    "except:\n",
    "    raise RuntimeError(\"Tu función produce un error al ejecutarse.\")\n",
    "    \n",
    "# Caso 3: la función no es de tipo lambda\n",
    "assert str(mayor_a_cincuenta).find(\"lambda\") > -1, \"Tu función no es anónima o de tipo lambda.\"\n",
    "\n",
    "# Caso 4: la función retorna un valor no booleano\n",
    "assert type(mayor_a_cincuenta(sesenta_y_tres)) == bool, f\"Tu función debe retornar un valor de tipo {bool.__name__}.\"\n",
    "\n",
    "# Caso 5: condición contraria (num < 50)\n",
    "assert mayor_a_cincuenta(sesenta_y_tres) and not mayor_a_cincuenta(treinta), \"La condición de tu función es incorrecta. Es probable que tengas que utilizar un símbolo de desigualdad contrario.\"\n",
    "\n",
    "# Caso 6: usa mayor o igual\n",
    "assert not mayor_a_cincuenta(cincuenta), \"50 no es mayor a 50.\"\n",
    "\n",
    "# Caso 7: diversos casos\n",
    "try:\n",
    "    assert not mayor_a_cincuenta(treinta)\n",
    "    assert not mayor_a_cincuenta(cuarenta_y_cinco)\n",
    "    assert not mayor_a_cincuenta(cincuenta)\n",
    "    assert mayor_a_cincuenta(sesenta_y_tres)\n",
    "except AssertionError as e:\n",
    "    e.args += (\"Tu función no retorna el booleano correcto.\",)\n",
    "    raise e\n",
    "    \n",
    "# Mensaje de felicitaciones\n",
    "print(\"Felicidades, realizaste este ejercicio correctamente.\")"
   ]
  },
  {
   "cell_type": "markdown",
   "metadata": {
    "deletable": false,
    "editable": false,
    "nbgrader": {
     "cell_type": "markdown",
     "checksum": "c45a5ad0b9a64621778d885b2f07fb46",
     "grade": false,
     "grade_id": "ej5-enun",
     "locked": true,
     "schema_version": 3,
     "solution": false,
     "task": false
    }
   },
   "source": [
    "### Ejercicio 5\n",
    "\n",
    "A continuación, encuentras declarada una lista de números enteros."
   ]
  },
  {
   "cell_type": "code",
   "execution_count": 13,
   "metadata": {
    "deletable": false,
    "editable": false,
    "nbgrader": {
     "cell_type": "code",
     "checksum": "ff9acbf3d1385fbf72db9d53249aae76",
     "grade": false,
     "grade_id": "ej5-data",
     "locked": true,
     "schema_version": 3,
     "solution": false,
     "task": false
    }
   },
   "outputs": [],
   "source": [
    "lista = [3, 4, 2, 5, 5, 6, 3]"
   ]
  },
  {
   "cell_type": "markdown",
   "metadata": {
    "deletable": false,
    "editable": false,
    "nbgrader": {
     "cell_type": "markdown",
     "checksum": "3afce00a8fe4195b992c309c33eba5c4",
     "grade": false,
     "grade_id": "ej5-task",
     "locked": true,
     "schema_version": 3,
     "solution": false,
     "task": false
    }
   },
   "source": [
    "Implementa una función llamada `modulo_del_minimo` que reciba una lista de números enteros por parámetro (por ejemplo, la variable `lista`), encuentre el valor más pequeño que se repita en la lista (`min_val_rep`) y retorne una función anónima. Esta función anónima debe recibir un número entero mayor a cero (`entero`) por parámetro y retornar el residuo de la división entre `min_val_rep` y `entero` (recomendamos usar el operador de residuo `%`).\n",
    "\n",
    "*Esta función debe retornar una función anónima*.\n",
    "\n",
    "##### Ejemplo\n",
    "```python\n",
    "    anon = modulo_del_minimo([3, 4, 2, 5, 5, 6, 3])\n",
    "    \n",
    "    anon(2) == 1\n",
    "```\n",
    "Una vez implementada la función `modulo_del_minimo`, ejectar el código anterior en una celda de Jupyter debe generar el *output* `True`."
   ]
  },
  {
   "cell_type": "code",
   "execution_count": 14,
   "metadata": {
    "deletable": false,
    "nbgrader": {
     "cell_type": "code",
     "checksum": "b43106e57f785bab57014974dcebd285",
     "grade": false,
     "grade_id": "ej5-sol",
     "locked": false,
     "schema_version": 3,
     "solution": true,
     "task": false
    }
   },
   "outputs": [
    {
     "name": "stdout",
     "output_type": "stream",
     "text": [
      "3\n"
     ]
    }
   ],
   "source": [
    "def modulo_del_minimo(lista):\n",
    "    repit=[]\n",
    "    for i in lista:\n",
    "        if lista.count(i)>1:\n",
    "            repit.append(i)\n",
    "            \n",
    "    num_min= min(repit)\n",
    "    return lambda entero: num_min%entero\n",
    "\n",
    "min_val_rep=modulo_del_minimo(lista)\n",
    "print(min_val_rep(5))"
   ]
  },
  {
   "cell_type": "code",
   "execution_count": 15,
   "metadata": {
    "deletable": false,
    "editable": false,
    "nbgrader": {
     "cell_type": "code",
     "checksum": "784b4bf42f760f8f200b76e8c589894d",
     "grade": true,
     "grade_id": "ej5-test",
     "locked": true,
     "points": 1,
     "schema_version": 3,
     "solution": false,
     "task": false
    }
   },
   "outputs": [
    {
     "name": "stdout",
     "output_type": "stream",
     "text": [
      "Felicidades, realizaste este ejercicio correctamente.\n"
     ]
    }
   ],
   "source": [
    "## AUTO-CALIFICADOR\n",
    "\n",
    "# Base variables:\n",
    "lista = [3, 4, 2, 5, 5, 6, 3]\n",
    "lista_prueba = [6, 7, 4, 5, 8, 12, 15, 15, 8]\n",
    "\n",
    "# Caso 1: no existe la función.\n",
    "try:\n",
    "    modulo_del_minimo\n",
    "    assert type(modulo_del_minimo) == type(lambda:None)\n",
    "except:\n",
    "    raise NotImplementedError(\"No existe una función llamada modulo_del_minimo.\")\n",
    "\n",
    "# Caso 2: la función es interrumpida por errores durante su ejecución.\n",
    "try:\n",
    "    modulo_del_minimo(lista)\n",
    "    modulo_del_minimo(lista_prueba)\n",
    "except:\n",
    "    raise RuntimeError(\"Tu función produce un error al ejecutarse.\")\n",
    "    \n",
    "# Caso 3: la función no retorna una función anónima\n",
    "try:\n",
    "    assert type(modulo_del_minimo(lista_prueba)) == type(lambda:None)\n",
    "    assert str(modulo_del_minimo(lista_prueba)).find(\"lambda\") > -1\n",
    "except:\n",
    "    raise TypeError(\"Tu función debe retornar una función anónima (de tipo lambda).\")\n",
    "    \n",
    "# Caso 4: la función anónima retornada es interrumpida por errores durante su ejecución.\n",
    "try:\n",
    "    for i in range(100):\n",
    "        modulo_del_minimo(lista)(i + 1)\n",
    "        modulo_del_minimo(lista_prueba)(i + 1)\n",
    "except:\n",
    "    raise RuntimeError(\"Se produce un error al ejecutar la función anónima que retorna tu función.\")\n",
    "    \n",
    "# Caso 5: la función anónima retornada retorna algo distinto de un entero.\n",
    "assert type(modulo_del_minimo(lista_prueba)(7)) == int, f\"La función anónima que retorna tu función debería retornar un valor de tipo {type(0)}.\"\n",
    "    \n",
    "# Caso 6: el sentido del cálculo del residuo es incorrecto.\n",
    "try:\n",
    "    assert modulo_del_minimo(lista_prueba)(0) != 0\n",
    "except AssertionError as e:\n",
    "    raise ArithmeticError(\"La función anónima que retorna tu función calcula el residuo de la división de manera incorrecta. Prueba cambiar el orden de los elementos alrededor del operador '%'\",)\n",
    "except ZeroDivisionError as e:\n",
    "    pass\n",
    "    \n",
    "# Caso 7: no identifica el menor elemento que se repite correctamente.\n",
    "try:\n",
    "    assert modulo_del_minimo(lista)(float(\"inf\")) == 3\n",
    "    assert modulo_del_minimo(lista_prueba)(float(\"inf\")) == 8\n",
    "except AssertionError as e:\n",
    "    e.args += (\"La función anónima que retorna tu función utiliza un valor inesperado en lugar del mínimo valor repetido en la lista.\",)\n",
    "    raise e\n",
    "    \n",
    "# Caso 8: diversos casos\n",
    "try:\n",
    "    assert modulo_del_minimo(lista_prueba)(4) == 0\n",
    "    assert modulo_del_minimo(lista_prueba)(5) == 3\n",
    "    assert modulo_del_minimo(lista_prueba)(8) == 0\n",
    "    assert modulo_del_minimo(lista_prueba)(15) == 8\n",
    "    assert modulo_del_minimo(lista)(3) == 0\n",
    "    assert modulo_del_minimo(lista)(5) == 3\n",
    "except AssertionError as e:\n",
    "    e.args += (\"Tu función retorna una función anónima incorrecta.\",)\n",
    "    raise e\n",
    "    \n",
    "# Mensaje de felicitaciones\n",
    "print(\"Felicidades, realizaste este ejercicio correctamente.\")"
   ]
  },
  {
   "cell_type": "markdown",
   "metadata": {
    "deletable": false,
    "editable": false,
    "nbgrader": {
     "cell_type": "markdown",
     "checksum": "d41bcdcae80274aa200a4182960f61e1",
     "grade": false,
     "grade_id": "creds",
     "locked": true,
     "schema_version": 3,
     "solution": false,
     "task": false
    }
   },
   "source": [
    "## Créditos\n",
    "\n",
    "__Autor(es)__: Camilo Falla Moreno, Alejandro Mantilla Redondo, Juan David Reyes, Diego Alejandro Cely Gómez\n",
    " \n",
    " __Fecha última actualización__: 06/08/2021"
   ]
  }
 ],
 "metadata": {
  "kernelspec": {
   "display_name": "Python 3",
   "language": "python",
   "name": "python3"
  },
  "language_info": {
   "codemirror_mode": {
    "name": "ipython",
    "version": 3
   },
   "file_extension": ".py",
   "mimetype": "text/x-python",
   "name": "python",
   "nbconvert_exporter": "python",
   "pygments_lexer": "ipython3",
   "version": "3.8.8"
  }
 },
 "nbformat": 4,
 "nbformat_minor": 2
}
