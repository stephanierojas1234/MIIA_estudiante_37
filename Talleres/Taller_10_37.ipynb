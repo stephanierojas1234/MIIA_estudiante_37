{
 "cells": [
  {
   "cell_type": "markdown",
   "metadata": {
    "deletable": false,
    "editable": false,
    "nbgrader": {
     "cell_type": "markdown",
     "checksum": "21774bcaf81fbfb952233abff8f38662",
     "grade": false,
     "grade_id": "header",
     "locked": true,
     "schema_version": 3,
     "solution": false,
     "task": false
    }
   },
   "source": [
    "<img src=\"Archivos/miad4.png\" width=800x>\n",
    "\n",
    "# Herramientas para análisis estadístico\n",
    "\n",
    "En este taller implementarás modelos de *machine learning* para resolver diversos problemas.\n",
    "\n",
    "## Habilidades en práctica\n",
    "Al desarrollar este taller podrás verificar tu progreso para:\n",
    "\n",
    "**1.** Diferenciar los tipos de modelos de *machine learning* que ofrece Scikit Learn y sus casos de uso comunes.<br>\n",
    "**2.** Construir, entrenar y analizar los resultados de modelos básicos de *machine learning* en Scikit Learn.\n",
    "\n",
    "## Instrucciones\n",
    "En cada uno de los siguientes ejercicios deberás escribir el código solicitado estrictamente en las celdas indicadas para ello, teniendo en cuenta las siguientes recomendaciones:\n",
    "\n",
    "* No crear, eliminar o modificar celdas de este Notebook (salvo lo que se te indique), pues puede verse afectado el proceso de calificación automática.\n",
    "* La calificación se realiza de manera automática con datos diferentes a los proporcionados en este taller. Por consiguiente, tu código debe funcionar para diferentes instancias de cada uno de los ejercicios; una instancia hace referencia al valor de los parámetros.\n",
    "* La calificación de cada ejercicio depende del valor que retorne la función especificada en su enunciado. Por lo tanto, aunque implementes funciones adicionales, es escencial que utilices los nombres propuestos en los enunciados de los ejercicios para implementar la función definitiva.\n",
    "\n",
    "Esta es una actividad calificada y, por lo tanto, debe ser resuelta individualmente."
   ]
  },
  {
   "cell_type": "markdown",
   "metadata": {
    "deletable": false,
    "editable": false,
    "nbgrader": {
     "cell_type": "markdown",
     "checksum": "5c56eb46fe40c57e4c2a257789b638a9",
     "grade": false,
     "grade_id": "bloque-ejer",
     "locked": true,
     "schema_version": 3,
     "solution": false,
     "task": false
    }
   },
   "source": [
    "## Ejercicios\n",
    "\n",
    "Importa todos los paquetes que consideres necesarios para el desarollo de este taller en la siguiente celda."
   ]
  },
  {
   "cell_type": "code",
   "execution_count": 1,
   "metadata": {
    "deletable": false,
    "editable": false,
    "nbgrader": {
     "cell_type": "code",
     "checksum": "160244c339641140c0b7014d6b28829f",
     "grade": false,
     "grade_id": "import",
     "locked": true,
     "schema_version": 3,
     "solution": false,
     "task": false
    }
   },
   "outputs": [],
   "source": [
    "# Esta celda no es modificable\n",
    "\n",
    "import numpy as np\n",
    "import pandas as pd\n",
    "from sklearn.model_selection import train_test_split\n",
    "from sklearn.linear_model import LinearRegression"
   ]
  },
  {
   "cell_type": "markdown",
   "metadata": {
    "deletable": false,
    "editable": false,
    "nbgrader": {
     "cell_type": "markdown",
     "checksum": "b9f74c35e760245e42d3611d6e0e6472",
     "grade": false,
     "grade_id": "ej1-enun-task",
     "locked": true,
     "schema_version": 3,
     "solution": false,
     "task": false
    }
   },
   "source": [
    "### Ejercicio 1\n",
    "\n",
    "A continuación, encuentras un archivo de Excel con el cual podrás probar tu solución."
   ]
  },
  {
   "cell_type": "code",
   "execution_count": 2,
   "metadata": {
    "deletable": false,
    "editable": false,
    "nbgrader": {
     "cell_type": "code",
     "checksum": "e04a481522d5da3c3e3072b131bec176",
     "grade": false,
     "grade_id": "ej1-data",
     "locked": true,
     "schema_version": 3,
     "solution": false,
     "task": false
    }
   },
   "outputs": [
    {
     "data": {
      "text/html": [
       "<div>\n",
       "<style scoped>\n",
       "    .dataframe tbody tr th:only-of-type {\n",
       "        vertical-align: middle;\n",
       "    }\n",
       "\n",
       "    .dataframe tbody tr th {\n",
       "        vertical-align: top;\n",
       "    }\n",
       "\n",
       "    .dataframe thead th {\n",
       "        text-align: right;\n",
       "    }\n",
       "</style>\n",
       "<table border=\"1\" class=\"dataframe\">\n",
       "  <thead>\n",
       "    <tr style=\"text-align: right;\">\n",
       "      <th></th>\n",
       "      <th>y</th>\n",
       "      <th>x1</th>\n",
       "      <th>x2</th>\n",
       "      <th>x3</th>\n",
       "    </tr>\n",
       "  </thead>\n",
       "  <tbody>\n",
       "    <tr>\n",
       "      <th>0</th>\n",
       "      <td>9</td>\n",
       "      <td>6</td>\n",
       "      <td>3</td>\n",
       "      <td>22</td>\n",
       "    </tr>\n",
       "    <tr>\n",
       "      <th>1</th>\n",
       "      <td>1</td>\n",
       "      <td>8</td>\n",
       "      <td>1</td>\n",
       "      <td>35</td>\n",
       "    </tr>\n",
       "    <tr>\n",
       "      <th>2</th>\n",
       "      <td>5</td>\n",
       "      <td>6</td>\n",
       "      <td>2</td>\n",
       "      <td>41</td>\n",
       "    </tr>\n",
       "    <tr>\n",
       "      <th>3</th>\n",
       "      <td>3</td>\n",
       "      <td>4</td>\n",
       "      <td>2</td>\n",
       "      <td>3</td>\n",
       "    </tr>\n",
       "    <tr>\n",
       "      <th>4</th>\n",
       "      <td>9</td>\n",
       "      <td>5</td>\n",
       "      <td>1</td>\n",
       "      <td>18</td>\n",
       "    </tr>\n",
       "    <tr>\n",
       "      <th>5</th>\n",
       "      <td>9</td>\n",
       "      <td>7</td>\n",
       "      <td>4</td>\n",
       "      <td>18</td>\n",
       "    </tr>\n",
       "    <tr>\n",
       "      <th>6</th>\n",
       "      <td>6</td>\n",
       "      <td>8</td>\n",
       "      <td>5</td>\n",
       "      <td>9</td>\n",
       "    </tr>\n",
       "    <tr>\n",
       "      <th>7</th>\n",
       "      <td>4</td>\n",
       "      <td>7</td>\n",
       "      <td>5</td>\n",
       "      <td>30</td>\n",
       "    </tr>\n",
       "    <tr>\n",
       "      <th>8</th>\n",
       "      <td>2</td>\n",
       "      <td>6</td>\n",
       "      <td>3</td>\n",
       "      <td>16</td>\n",
       "    </tr>\n",
       "    <tr>\n",
       "      <th>9</th>\n",
       "      <td>10</td>\n",
       "      <td>7</td>\n",
       "      <td>5</td>\n",
       "      <td>47</td>\n",
       "    </tr>\n",
       "    <tr>\n",
       "      <th>10</th>\n",
       "      <td>3</td>\n",
       "      <td>6</td>\n",
       "      <td>4</td>\n",
       "      <td>50</td>\n",
       "    </tr>\n",
       "    <tr>\n",
       "      <th>11</th>\n",
       "      <td>7</td>\n",
       "      <td>5</td>\n",
       "      <td>4</td>\n",
       "      <td>11</td>\n",
       "    </tr>\n",
       "    <tr>\n",
       "      <th>12</th>\n",
       "      <td>6</td>\n",
       "      <td>3</td>\n",
       "      <td>4</td>\n",
       "      <td>42</td>\n",
       "    </tr>\n",
       "    <tr>\n",
       "      <th>13</th>\n",
       "      <td>8</td>\n",
       "      <td>5</td>\n",
       "      <td>4</td>\n",
       "      <td>1</td>\n",
       "    </tr>\n",
       "  </tbody>\n",
       "</table>\n",
       "</div>"
      ],
      "text/plain": [
       "     y  x1  x2  x3\n",
       "0    9   6   3  22\n",
       "1    1   8   1  35\n",
       "2    5   6   2  41\n",
       "3    3   4   2   3\n",
       "4    9   5   1  18\n",
       "5    9   7   4  18\n",
       "6    6   8   5   9\n",
       "7    4   7   5  30\n",
       "8    2   6   3  16\n",
       "9   10   7   5  47\n",
       "10   3   6   4  50\n",
       "11   7   5   4  11\n",
       "12   6   3   4  42\n",
       "13   8   5   4   1"
      ]
     },
     "execution_count": 2,
     "metadata": {},
     "output_type": "execute_result"
    }
   ],
   "source": [
    "archivo = pd.read_excel(\"Archivos/datosTaller.xlsx\")\n",
    "archivo"
   ]
  },
  {
   "cell_type": "markdown",
   "metadata": {
    "deletable": false,
    "editable": false,
    "nbgrader": {
     "cell_type": "markdown",
     "checksum": "278c8c8c9dceb16bff4982b39222aade",
     "grade": false,
     "grade_id": "ej1-enun",
     "locked": true,
     "schema_version": 3,
     "solution": false,
     "task": false
    }
   },
   "source": [
    "Implementa una función llamada `dividir_datos` que reciba un `DataFrame` por parámetro y retorne dos `DataFrame` contenidos en una tupla de la forma ($X$, $y$), donde $X$ es un `DataFrame` cuyas columnas son las variables independientes y $y$ es un `Series` con la variable de respuesta.\n",
    "\n",
    "**Nota:** la variable de respuesta se encuentra en la primera columna de los datos.\n",
    "\n",
    "*Esta función debe retornar una tupla de la forma ($X$, $y$) donde $X$ es un `DataFrame` y $y$ un `Series`*"
   ]
  },
  {
   "cell_type": "code",
   "execution_count": 11,
   "metadata": {
    "deletable": false,
    "nbgrader": {
     "cell_type": "code",
     "checksum": "36077906e0c130d2845e25e45c280f50",
     "grade": false,
     "grade_id": "ej1-sol",
     "locked": false,
     "schema_version": 3,
     "solution": true,
     "task": false
    }
   },
   "outputs": [
    {
     "data": {
      "text/plain": [
       "(    x1  x2  x3\n",
       " 0    6   3  22\n",
       " 1    8   1  35\n",
       " 2    6   2  41\n",
       " 3    4   2   3\n",
       " 4    5   1  18\n",
       " 5    7   4  18\n",
       " 6    8   5   9\n",
       " 7    7   5  30\n",
       " 8    6   3  16\n",
       " 9    7   5  47\n",
       " 10   6   4  50\n",
       " 11   5   4  11\n",
       " 12   3   4  42\n",
       " 13   5   4   1,\n",
       " 0      9\n",
       " 1      1\n",
       " 2      5\n",
       " 3      3\n",
       " 4      9\n",
       " 5      9\n",
       " 6      6\n",
       " 7      4\n",
       " 8      2\n",
       " 9     10\n",
       " 10     3\n",
       " 11     7\n",
       " 12     6\n",
       " 13     8\n",
       " Name: y, dtype: int64)"
      ]
     },
     "execution_count": 11,
     "metadata": {},
     "output_type": "execute_result"
    }
   ],
   "source": [
    "# YOUR CODE HERE\n",
    "def dividir_datos(dataframe):\n",
    "    n=len(list(dataframe.columns.values))\n",
    "    X=dataframe.iloc[:,1:n]\n",
    "    y=dataframe.iloc[:,0]\n",
    "    return (X,y)\n",
    "\n",
    "prueba=dividir_datos(archivo)\n",
    "prueba\n",
    "#raise NotImplementedError()"
   ]
  },
  {
   "cell_type": "code",
   "execution_count": 12,
   "metadata": {
    "deletable": false,
    "editable": false,
    "nbgrader": {
     "cell_type": "code",
     "checksum": "32873bece91be8c583f14be442a34add",
     "grade": true,
     "grade_id": "ej1-test",
     "locked": true,
     "points": 1,
     "schema_version": 3,
     "solution": false,
     "task": false
    }
   },
   "outputs": [
    {
     "name": "stdout",
     "output_type": "stream",
     "text": [
      "Felicidades, realizaste este ejercicio correctamente.\n"
     ]
    }
   ],
   "source": [
    "## AUTO-CALIFICADOR\n",
    "\n",
    "# Base variables\n",
    "import numpy.testing as npt\n",
    "archivo = pd.read_excel(\"Archivos/datosTaller.xlsx\")\n",
    "archivo_test = pd.read_excel(\"Archivos/datosTallerTest.xlsx\")\n",
    "\n",
    "# Caso 1: no existe la función.\n",
    "try:\n",
    "    dividir_datos\n",
    "    assert type(dividir_datos) == type(lambda:None)\n",
    "except:\n",
    "    raise NotImplementedError(\"No existe una función llamada dividir_datos.\",)\n",
    "    \n",
    "# Caso 2: la función es interrumpida por errores durante su ejecución.\n",
    "try:\n",
    "    dividir_datos(archivo)\n",
    "    dividir_datos(archivo_test)\n",
    "except:\n",
    "    raise RuntimeError(\"Tu función produce un error al ejecutarse.\")\n",
    "\n",
    "# Caso 3: no retorna un DataFrame como X.\n",
    "assert type(dividir_datos(archivo)[0]) == pd.DataFrame, f\"Tu función debe retornar una tupla de con un objeto en su primera posición de tipo {type(archivo).__name__}.\"\n",
    "\n",
    "# Caso 4: no retorna un Series como y.\n",
    "assert type(dividir_datos(archivo)[1]) == pd.Series, f\"Tu función debe retornar una tupla de con un objeto en su segunda posición de tipo {type(pd.Series()).__name__}.\"\n",
    "\n",
    "# Caso 5: respuesta y\n",
    "try:\n",
    "    npt.assert_approx_equal(dividir_datos(archivo)[1].mean(), 5.857142857142857)\n",
    "    assert dividir_datos(archivo)[1][6] == 6\n",
    "except AssertionError as e:\n",
    "    e.args += (\"Los datos de la variable de respuesta, y, son incorrectos.\",)\n",
    "    raise e\n",
    "\n",
    "# Caso 6: respuesta X\n",
    "try:\n",
    "    npt.assert_approx_equal(dividir_datos(archivo)[0].mean()[1], 3.357142857142857)\n",
    "    assert dividir_datos(archivo)[0].iloc[5,1] == 4\n",
    "except AssertionError as e:\n",
    "    e.args += (\"Los datos de las variables explicativas, X, son incorrectos.\",)\n",
    "    raise e\n",
    "\n",
    "# Caso 7: procedimiento incorrecto y\n",
    "assert dividir_datos(archivo_test)[1].mean() == 27.65 and dividir_datos(archivo_test)[1][6] == 38, \"Tu respuesta de la variable de respuesta, y, es incorrecta para una instancia diferente de los datos.\"\n",
    "\n",
    "# Caso 8: procedimiento incorrecto X\n",
    "assert dividir_datos(archivo_test)[0].mean()[1] == 294.9 and dividir_datos(archivo_test)[0].iloc[5,3] == 21, \"Tu respuesta para X es incorrecta para una instancia diferente de los datos.\"\n",
    "\n",
    "# Mensaje de felicitaciones\n",
    "print(\"Felicidades, realizaste este ejercicio correctamente.\")"
   ]
  },
  {
   "cell_type": "markdown",
   "metadata": {
    "deletable": false,
    "editable": false,
    "nbgrader": {
     "cell_type": "markdown",
     "checksum": "e0ab4f35069260e523575496cd3fb6d4",
     "grade": false,
     "grade_id": "ej2-enun-task",
     "locked": true,
     "schema_version": 3,
     "solution": false,
     "task": false
    }
   },
   "source": [
    "### Ejercicio 2\n",
    "\n",
    "A continuación, encuentras una tupla ($X$, $y$) con la cual podrás probar tu solución."
   ]
  },
  {
   "cell_type": "code",
   "execution_count": null,
   "metadata": {
    "deletable": false,
    "editable": false,
    "nbgrader": {
     "cell_type": "code",
     "checksum": "1c31107503249db36aad7ba2b061ec04",
     "grade": false,
     "grade_id": "ej2-data",
     "locked": true,
     "schema_version": 3,
     "solution": false,
     "task": false
    }
   },
   "outputs": [],
   "source": [
    "datos = (pd.DataFrame({\"x1\":[6,  8,  6,  4, 5,  7,  8],\n",
    "                       \"x2\":[3,  1,  2,  2, 1,  4,  5],\n",
    "                       \"x3\":[22, 35, 41, 3, 18, 18, 9]}),\n",
    "         pd.Series([9, 1, 5, 3, 9, 9, 6]))\n",
    "datos"
   ]
  },
  {
   "cell_type": "markdown",
   "metadata": {
    "deletable": false,
    "editable": false,
    "nbgrader": {
     "cell_type": "markdown",
     "checksum": "03d597a684a40893a9d444b573f5a40b",
     "grade": false,
     "grade_id": "ej2-enun",
     "locked": true,
     "schema_version": 3,
     "solution": false,
     "task": false
    }
   },
   "source": [
    "Implementa una función llamada `crear_train_test` que reciba una tupla ($X$, $y$) por parámetro y realice una partición, 70% para entrenar al modelo y 30% para validarlo, con el fin de retornar una tupla de la forma (`X_train`, `X_test`, `y_train`, `y_test`). Usa el parámetro `random_state = 0` para que tus respuestas coincidan con las nuestras.\n",
    "\n",
    "Esta función debe retornar una tupla de la forma (`X_train`, `X_test`, `y_train`, `y_test`) donde `X_train` y `X_test` son de tipo `DataFrame` y `y_train` y `y_test` de tipo `Series`."
   ]
  },
  {
   "cell_type": "code",
   "execution_count": 15,
   "metadata": {
    "deletable": false,
    "nbgrader": {
     "cell_type": "code",
     "checksum": "289eed4fea8e3d3881a1d30d07b70bbb",
     "grade": false,
     "grade_id": "ej2-sol",
     "locked": false,
     "schema_version": 3,
     "solution": true,
     "task": false
    }
   },
   "outputs": [],
   "source": [
    "# YOUR CODE HERE\n",
    "def crear_train_test(tupla):\n",
    "    X_train, X_test, y_train, y_test = train_test_split(tupla[0], tupla[1], test_size=0.3,random_state = 0)\n",
    "    tupla_entreno=(X_train, X_test, y_train, y_test)\n",
    "    return tupla_entreno\n",
    "    \n",
    "#raise NotImplementedError()"
   ]
  },
  {
   "cell_type": "code",
   "execution_count": 16,
   "metadata": {
    "deletable": false,
    "editable": false,
    "nbgrader": {
     "cell_type": "code",
     "checksum": "37e584498be1191db77426acade78d3e",
     "grade": true,
     "grade_id": "ej2-test",
     "locked": true,
     "points": 1,
     "schema_version": 3,
     "solution": false,
     "task": false
    }
   },
   "outputs": [
    {
     "name": "stdout",
     "output_type": "stream",
     "text": [
      "Felicidades, realizaste este ejercicio correctamente.\n"
     ]
    }
   ],
   "source": [
    "## AUTO-CALIFICADOR\n",
    "\n",
    "# Base variables\n",
    "datos = (pd.DataFrame({\"x1\":[6,  8,  6,  4, 5,  7,  8],\n",
    "                       \"x2\":[3,  1,  2,  2, 1,  4,  5],\n",
    "                       \"x3\":[22, 35, 41, 3, 18, 18, 9]}),\n",
    "         pd.Series([9, 1, 5, 3, 9, 9, 6]))\n",
    "archivo = pd.read_excel(\"Archivos/datosTaller.xlsx\")\n",
    "archivo_test = pd.read_excel(\"Archivos/datosTallerTest.xlsx\")\n",
    "datos_test = (pd.DataFrame(archivo)[pd.DataFrame(archivo).columns[1:]], pd.DataFrame(archivo)[pd.DataFrame(archivo).columns[0]])\n",
    "\n",
    "# Caso 1: no existe la función.\n",
    "try:\n",
    "    crear_train_test\n",
    "    assert type(crear_train_test) == type(lambda:None)\n",
    "except:\n",
    "    raise NotImplementedError(\"No existe una función llamada crear_train_test.\",)\n",
    "    \n",
    "# Caso 2: la función es interrumpida por errores durante su ejecución.\n",
    "try:\n",
    "    crear_train_test(datos)\n",
    "    crear_train_test((pd.DataFrame(archivo)[pd.DataFrame(archivo).columns[1:]], pd.DataFrame(archivo)[pd.DataFrame(archivo).columns[0]]))\n",
    "except:\n",
    "    raise RuntimeError(\"Tu función produce un error al ejecutarse.\")\n",
    "\n",
    "# Caso 3: no retorna un DataFrame como X_train.\n",
    "assert type(crear_train_test(datos)[0]) == pd.DataFrame and type(crear_train_test(datos)[1]) == pd.DataFrame, f\"Tu función debe retornar una tupla cuyos primeros dos objetos sean de tipo {pd.DataFrame.__name__}.\"\n",
    "\n",
    "# Caso 4: no retorna un Series como y.\n",
    "assert type(crear_train_test(datos)[2]) == pd.Series and type(crear_train_test(datos)[3]) == pd.Series, f\"Tu función debe retornar un objeto de tipo '{pd.Series.__name__}' como y_train y y_test.\"\n",
    "\n",
    "# Caso 5: respuesta X_train\n",
    "assert crear_train_test(datos)[0].mean()[2] == 15.25 and crear_train_test(datos)[0].iloc[1,1] == 3, \"Los valores de X_train son incorrectos.\"\n",
    "\n",
    "# Caso 6: respuesta X_test\n",
    "try:\n",
    "    npt.assert_approx_equal(crear_train_test(datos)[1].mean()[2], 28.333333333333332)\n",
    "    assert crear_train_test(datos)[1].iloc[1,1] == 2\n",
    "except AssertionError as e:\n",
    "    e.args += (\"Los valores de X_test son incorrectos.\",)\n",
    "    raise e\n",
    "\n",
    "# Caso 7: respuesta y_train\n",
    "assert crear_train_test(datos)[2].mean() == 7.5 and crear_train_test(datos)[2].iloc[3] == 9, \"La variable de respuesta y_train es incorrecta.\"\n",
    "\n",
    "# Caso 8: respuesta y_test\n",
    "assert crear_train_test(datos)[3].mean() == 4.0 and crear_train_test(datos)[3].iloc[2]==1, \"La variable de respuesta y_test es incorrecta.\"\n",
    "\n",
    "# Caso 9: procedimiento incorrecto X_train\n",
    "try:\n",
    "    npt.assert_approx_equal(crear_train_test(datos_test)[0].mean()[2], 27.555555555555557)\n",
    "    assert crear_train_test(datos_test)[0].iloc[1,1] == 5\n",
    "except AssertionError as e:\n",
    "    e.args += (\"Tu respuesta para X_train es incorrecta para una instancia diferente de los datos.\",)\n",
    "    raise e\n",
    "\n",
    "# Caso 10: procedimiento incorrecto y_train\n",
    "try:\n",
    "    npt.assert_approx_equal(crear_train_test(datos_test)[2].mean(), 5.888888888888889)\n",
    "    assert crear_train_test(datos_test)[2].iloc[3] == 4\n",
    "except AssertionError as e:\n",
    "    e.args += (\"Tu respuesta de la variable de respuesta y_train es incorrecta para una instancia diferente de los datos.\",)\n",
    "    raise e\n",
    "\n",
    "# Mensaje de felicitaciones\n",
    "print(\"Felicidades, realizaste este ejercicio correctamente.\")"
   ]
  },
  {
   "cell_type": "markdown",
   "metadata": {
    "deletable": false,
    "editable": false,
    "nbgrader": {
     "cell_type": "markdown",
     "checksum": "495f726bbc2bbe0bca5c18531de0e8b5",
     "grade": false,
     "grade_id": "ej3-enun-task",
     "locked": true,
     "schema_version": 3,
     "solution": false,
     "task": false
    }
   },
   "source": [
    "### Ejercicio 3\n",
    "\n",
    "A continuación, encuentras una tupla de la forma (`X_train`, `X_test`, `y_train`, `y_test`) con la cual podrás probar tu solución."
   ]
  },
  {
   "cell_type": "code",
   "execution_count": null,
   "metadata": {
    "deletable": false,
    "editable": false,
    "nbgrader": {
     "cell_type": "code",
     "checksum": "75e03c7564ede70febb02ad50a1888bd",
     "grade": false,
     "grade_id": "cell-59f8e6c6d5a511ff",
     "locked": true,
     "schema_version": 3,
     "solution": false,
     "task": false
    }
   },
   "outputs": [],
   "source": [
    "datos = (pd.DataFrame({\"x1\":[6,  8,  6,  4,  5,  7,  8],\n",
    "                       \"x2\":[3,  1,  2,  2,  1,  4,  5],\n",
    "                       \"x3\":[22, 35, 41, 3,  18, 18, 9]}),\n",
    "         pd.DataFrame({\"x1\":[7,  6,  5,  3,  5],\n",
    "                       \"x2\":[5,  4,  4,  4,  4],\n",
    "                       \"x3\":[47, 50, 11, 42, 1]}),\n",
    "         pd.Series([9,  1, 5, 3, 9, 9, 6]),\n",
    "         pd.Series([10, 3, 7, 6, 8]))\n",
    "datos"
   ]
  },
  {
   "cell_type": "markdown",
   "metadata": {
    "deletable": false,
    "editable": false,
    "nbgrader": {
     "cell_type": "markdown",
     "checksum": "f7b094dcac3c2e9274b3da1c0c5d3a41",
     "grade": false,
     "grade_id": "cell-ddb962cda34c059f",
     "locked": true,
     "schema_version": 3,
     "solution": false,
     "task": false
    }
   },
   "source": [
    "Implementa una función llamada `crear_modelo` que reciba una tupla de la forma (`X_train`, `X_test`, `y_train`, `y_test`) por parámetro y cree un modelo de regresión lineal con el fin de explicar la variable de interés. Finalmente, retorna el modelo creado luego de entrenarlo con los datos recibidos por parámetro.\n",
    "\n",
    "Esta función debe retornar un modelo de la librería `sklearn`."
   ]
  },
  {
   "cell_type": "code",
   "execution_count": 20,
   "metadata": {
    "deletable": false,
    "nbgrader": {
     "cell_type": "code",
     "checksum": "e32e96e55bd4d8d3b7612a3b109d0ad9",
     "grade": false,
     "grade_id": "ej3-sol",
     "locked": false,
     "schema_version": 3,
     "solution": true,
     "task": false
    }
   },
   "outputs": [],
   "source": [
    "# YOUR CODE HERE\n",
    "from sklearn import datasets, linear_model\n",
    "def crear_modelo(tupla):\n",
    "    lr = linear_model.LinearRegression()\n",
    "    lr.fit(tupla[0], tupla[2])\n",
    "    return lr\n",
    "\n",
    "#raise NotImplementedError()"
   ]
  },
  {
   "cell_type": "code",
   "execution_count": 21,
   "metadata": {
    "deletable": false,
    "editable": false,
    "nbgrader": {
     "cell_type": "code",
     "checksum": "d0c4c89f97208c74663416e3e38784de",
     "grade": true,
     "grade_id": "cell-34296e646a810f8d",
     "locked": true,
     "points": 1,
     "schema_version": 3,
     "solution": false,
     "task": false
    }
   },
   "outputs": [
    {
     "name": "stdout",
     "output_type": "stream",
     "text": [
      "Felicidades, realizaste este ejercicio correctamente.\n"
     ]
    }
   ],
   "source": [
    "## AUTO-CALIFICADOR\n",
    "\n",
    "# Base variables\n",
    "datos = (pd.DataFrame({\"x1\":[6,  8,  6,  4,  5,  7,  8],\n",
    "                       \"x2\":[3,  1,  2,  2,  1,  4,  5],\n",
    "                       \"x3\":[22, 35, 41, 3,  18, 18, 9]}),\n",
    "         pd.DataFrame({\"x1\":[7,  6,  5,  3,  5],\n",
    "                       \"x2\":[5,  4,  4,  4,  4],\n",
    "                       \"x3\":[47, 50, 11, 42, 1]}),\n",
    "         pd.Series([9,  1, 5, 3, 9, 9, 6]),\n",
    "         pd.Series([10, 3, 7, 6, 8]))\n",
    "archivo = pd.read_excel(\"Archivos/datosTaller.xlsx\")\n",
    "archivo_test = pd.read_excel(\"Archivos/datosTallerTest.xlsx\")\n",
    "datos_test = (pd.DataFrame(archivo_test)[pd.DataFrame(archivo_test).columns[1:]], pd.DataFrame(archivo_test)[pd.DataFrame(archivo_test).columns[0]])\n",
    "datos_test = train_test_split(datos_test[0], datos_test[1], random_state=0)\n",
    "\n",
    "# Caso 1: no existe la función.\n",
    "try:\n",
    "    crear_modelo\n",
    "    assert type(crear_modelo) == type(lambda:None)\n",
    "except:\n",
    "    raise NotImplementedError(\"No existe una función llamada crear_modelo.\",)\n",
    "    \n",
    "# Caso 2: la función es interrumpida por errores durante su ejecución.\n",
    "try:\n",
    "    crear_modelo(datos)\n",
    "    #crear_modelo(archivo_test)\n",
    "except:\n",
    "    raise RuntimeError(\"Tu función produce un error al ejecutarse.\")\n",
    "\n",
    "# Caso 3: no retorna LinearRegression.\n",
    "assert type(crear_modelo(datos)) == LinearRegression, f\"Tu función debe retornar un objeto de tipo '{LinearRegression.__name__}'.\"\n",
    "\n",
    "# Caso 4: respuesta coef_\n",
    "try:\n",
    "    npt.assert_approx_equal(crear_modelo(datos).coef_[0], -1.2195141060248855)\n",
    "except AssertionError as e:\n",
    "    e.args += (\"Los coeficientes del modelo son incorrectos, revisa la implementación de la regresión.\",)\n",
    "    raise e\n",
    "\n",
    "# Caso 5: respuesta intercept_\n",
    "try:\n",
    "    npt.assert_approx_equal(crear_modelo(datos).intercept_, 7.996285638991168)\n",
    "except AssertionError as e:\n",
    "    e.args += (\"El intercepto del modelo es incorrecto, revisa la implementación de la regresión.\",)\n",
    "    raise e\n",
    "\n",
    "# Caso 6: procedimiento incorrecto coef_\n",
    "try:\n",
    "    npt.assert_approx_equal(crear_modelo(datos_test).coef_[0], -1.953081558461383)\n",
    "except AssertionError as e:\n",
    "    e.args += (\"Los coeficientes del modelo son incorrectos para una instancia diferente de los datos.\",)\n",
    "    raise e\n",
    "\n",
    "# Caso 7: procedimiento incorrecto\n",
    "try:\n",
    "    npt.assert_approx_equal(crear_modelo(datos_test).intercept_, 37.752378744745855)\n",
    "except AssertionError as e:\n",
    "    e.args += (\"El intercepto del modelo es incorrecto para una instancia diferente de los datos.\",)\n",
    "    raise e\n",
    "\n",
    "# Mensaje de felicitaciones\n",
    "print(\"Felicidades, realizaste este ejercicio correctamente.\")"
   ]
  },
  {
   "cell_type": "markdown",
   "metadata": {
    "deletable": false,
    "editable": false,
    "nbgrader": {
     "cell_type": "markdown",
     "checksum": "287aeabd7ff8808bdaa79ede281f972f",
     "grade": false,
     "grade_id": "ej4-enun-task",
     "locked": true,
     "schema_version": 3,
     "solution": false,
     "task": false
    }
   },
   "source": [
    "### Ejercicio 4\n",
    "\n",
    "A continuación, encuentras un modelo de regresión lineal entrenado y una tupla de la forma (`X_train`, `X_test`, `y_train`, `y_test`) con la cual podrás probar tu solución. Para esto se usará la librería `pickle` la cual permite almacenar y cargar objetos de Python como modelos o estructuras de datos."
   ]
  },
  {
   "cell_type": "code",
   "execution_count": 22,
   "metadata": {
    "deletable": false,
    "editable": false,
    "nbgrader": {
     "cell_type": "code",
     "checksum": "34dbc844ec163e7e9ec48315e8600e54",
     "grade": false,
     "grade_id": "cell-9edeb44918737701",
     "locked": true,
     "schema_version": 3,
     "solution": false,
     "task": false
    }
   },
   "outputs": [
    {
     "name": "stderr",
     "output_type": "stream",
     "text": [
      "C:\\Users\\USER\\anaconda3\\lib\\site-packages\\sklearn\\base.py:310: UserWarning: Trying to unpickle estimator LinearRegression from version 0.22.2.post1 when using version 0.24.1. This might lead to breaking code or invalid results. Use at your own risk.\n",
      "  warnings.warn(\n"
     ]
    }
   ],
   "source": [
    "import pickle\n",
    "\n",
    "modelo = pickle.load(open(\"Archivos/modeloTaller\", 'rb'))\n",
    "\n",
    "datos = (pd.DataFrame({\"x1\":[6,  8,  6,  4,  5,  7,  8],\n",
    "                       \"x2\":[3,  1,  2,  2,  1,  4,  5],\n",
    "                       \"x3\":[22, 35, 41, 3,  18, 18, 9]}),\n",
    "         pd.DataFrame({\"x1\":[7,  6,  5,  3,  5],\n",
    "                       \"x2\":[5,  4,  4,  4,  4],\n",
    "                       \"x3\":[47, 50, 11, 42, 1]}),\n",
    "         pd.Series([9,  1, 5, 3, 9, 9, 6]),\n",
    "         pd.Series([10, 3, 7, 6, 8]))"
   ]
  },
  {
   "cell_type": "markdown",
   "metadata": {
    "deletable": false,
    "editable": false,
    "nbgrader": {
     "cell_type": "markdown",
     "checksum": "f6f0166674e00f124543e25f5c089e12",
     "grade": false,
     "grade_id": "cell-f61b8cd31ff08371",
     "locked": true,
     "schema_version": 3,
     "solution": false,
     "task": false
    }
   },
   "source": [
    "Implementa una función llamada `predecir` que reciba un modelo entrenado y una tupla de la forma (`X_train`, `X_test`, `y_train`, `y_test`) por parámetro y prediga la variable de interés a partir del conjunto de datos `X_test`. Finalmente, la función debe retornar el valor de la predicción hecha. \n",
    "\n",
    "Esta función debe retornar un arreglo de `numpy` con las predicciones hechas."
   ]
  },
  {
   "cell_type": "code",
   "execution_count": 23,
   "metadata": {
    "deletable": false,
    "nbgrader": {
     "cell_type": "code",
     "checksum": "ab1b934e5066adf602438708d3c79811",
     "grade": false,
     "grade_id": "ej4-sol",
     "locked": false,
     "schema_version": 3,
     "solution": true,
     "task": false
    }
   },
   "outputs": [],
   "source": [
    "# YOUR CODE HERE\n",
    "def predecir(modelo,tupla):\n",
    "    y_estimado=modelo.predict(tupla[1])\n",
    "    return y_estimado\n",
    "\n",
    "\n",
    "#raise NotImplementedError()"
   ]
  },
  {
   "cell_type": "code",
   "execution_count": 24,
   "metadata": {
    "deletable": false,
    "editable": false,
    "nbgrader": {
     "cell_type": "code",
     "checksum": "e26c389a1f54bc703964b7d61e34eda0",
     "grade": true,
     "grade_id": "cell-6c66f9c02d416bdb",
     "locked": true,
     "points": 1,
     "schema_version": 3,
     "solution": false,
     "task": false
    }
   },
   "outputs": [
    {
     "name": "stdout",
     "output_type": "stream",
     "text": [
      "Felicidades, realizaste este ejercicio correctamente.\n"
     ]
    }
   ],
   "source": [
    "## AUTO-CALIFICADOR\n",
    "\n",
    "# Base variables\n",
    "modelo = pickle.load(open(\"Archivos/modeloTaller\", 'rb'))\n",
    "datos = (pd.DataFrame({\"x1\":[6,  8,  6,  4,  5,  7,  8],\n",
    "                       \"x2\":[3,  1,  2,  2,  1,  4,  5],\n",
    "                       \"x3\":[22, 35, 41, 3,  18, 18, 9]}),\n",
    "         pd.DataFrame({\"x1\":[7,  6,  5,  3,  5],\n",
    "                       \"x2\":[5,  4,  4,  4,  4],\n",
    "                       \"x3\":[47, 50, 11, 42, 1]}),\n",
    "         pd.Series([9,  1, 5, 3, 9, 9, 6]),\n",
    "         pd.Series([10, 3, 7, 6, 8]))\n",
    "archivo = pd.read_excel(\"Archivos/datosTaller.xlsx\")\n",
    "archivo_test = pd.read_excel(\"Archivos/datosTallerTest.xlsx\")\n",
    "datos_test = (pd.DataFrame(archivo)[pd.DataFrame(archivo).columns[1:]], pd.DataFrame(archivo)[pd.DataFrame(archivo).columns[0]])\n",
    "datos_test = train_test_split(datos_test[0], datos_test[1], random_state=0)\n",
    "\n",
    "# Caso 1: no existe la función.\n",
    "try:\n",
    "    predecir\n",
    "    assert type(predecir) == type(lambda:None)\n",
    "except:\n",
    "    raise NotImplementedError(\"No existe una función llamada predecir.\",)\n",
    "    \n",
    "# Caso 2: la función es interrumpida por errores durante su ejecución.\n",
    "try:\n",
    "    predecir(modelo, datos)\n",
    "    #crear_modelo(archivo_test)\n",
    "except:\n",
    "    raise RuntimeError(\"Tu función produce un error al ejecutarse.\")\n",
    "\n",
    "# Caso 3: no retorna un arreglo.\n",
    "assert type(predecir(modelo, datos)) == np.ndarray, f\"Tu función debe retornar un objeto de tipo '{np.ndarray.__name__}'.\"\n",
    "\n",
    "# Caso 4: respuesta len()\n",
    "assert len(predecir(modelo, datos)) == 5, \"La longitud del arreglo con los datos dados es incorrecta.\"\n",
    "\n",
    "# Caso 5: respuesta incorrecta\n",
    "try:\n",
    "    npt.assert_approx_equal(predecir(modelo, datos).mean(), 10.627099878205998)\n",
    "    npt.assert_approx_equal(predecir(modelo, datos)[3], 13.866931147214054)\n",
    "    npt.assert_approx_equal(predecir(modelo, datos)[1], 10.803128182847708)\n",
    "except AssertionError as e:\n",
    "    e.args += (\"Los valores de la solución son incorrectos, revisa la implementación de la función.\",)\n",
    "    raise e\n",
    "\n",
    "# Caso 6: procedimiento incorrecto\n",
    "try:\n",
    "    npt.assert_approx_equal(predecir(modelo, datos_test).mean(), 6.888353715429375)\n",
    "    npt.assert_approx_equal(predecir(modelo, datos_test)[3], 9.123287939544587)\n",
    "    npt.assert_approx_equal(predecir(modelo, datos_test)[1], 6.917762337875083)\n",
    "except AssertionError as e:\n",
    "    e.args += (\"Los valores de la solución son incorrectos para una instancia diferente de los datos.\",)\n",
    "    raise e\n",
    "\n",
    "# Mensaje de felicitaciones\n",
    "print(\"Felicidades, realizaste este ejercicio correctamente.\")"
   ]
  },
  {
   "cell_type": "markdown",
   "metadata": {
    "deletable": false,
    "editable": false,
    "nbgrader": {
     "cell_type": "markdown",
     "checksum": "a5ece771857d5363d5cf9d4c7c1d7a88",
     "grade": false,
     "grade_id": "ej5-enun-task",
     "locked": true,
     "schema_version": 3,
     "solution": false,
     "task": false
    }
   },
   "source": [
    "### Ejercicio 5\n",
    "\n",
    "A continuación, encuentras en la variable `modelo` un modelo de regresión lineal entrenado y las variable `X_test` y `y_test` con las cuales podrás probar tu solución. Para esto se usará la librería `pickle` la cual permite almacenar y cargar objetos de Python como modelos o estructuras de datos."
   ]
  },
  {
   "cell_type": "code",
   "execution_count": 25,
   "metadata": {
    "deletable": false,
    "editable": false,
    "nbgrader": {
     "cell_type": "code",
     "checksum": "82fea062938d517c17185e468e273a8b",
     "grade": false,
     "grade_id": "cell-c9539ce32f723dd5",
     "locked": true,
     "schema_version": 3,
     "solution": false,
     "task": false
    }
   },
   "outputs": [
    {
     "name": "stderr",
     "output_type": "stream",
     "text": [
      "C:\\Users\\USER\\anaconda3\\lib\\site-packages\\sklearn\\base.py:310: UserWarning: Trying to unpickle estimator LinearRegression from version 0.22.2.post1 when using version 0.24.1. This might lead to breaking code or invalid results. Use at your own risk.\n",
      "  warnings.warn(\n"
     ]
    }
   ],
   "source": [
    "import pickle\n",
    "\n",
    "modelo = pickle.load(open(\"Archivos/modeloTaller\", 'rb'))\n",
    "\n",
    "X_test = pd.DataFrame({\"x1\":[7,  6,  5,  3,  5],\n",
    "                       \"x2\":[5,  4,  4,  4,  4],\n",
    "                       \"x3\":[47, 50, 11, 42, 1]})\n",
    "\n",
    "y_test = pd.Series([10, 3, 7, 6, 8])"
   ]
  },
  {
   "cell_type": "markdown",
   "metadata": {
    "deletable": false,
    "editable": false,
    "nbgrader": {
     "cell_type": "markdown",
     "checksum": "293c7b8632e240cb1184b757a5f9de92",
     "grade": false,
     "grade_id": "cell-fe39bf866554abdf",
     "locked": true,
     "schema_version": 3,
     "solution": false,
     "task": false
    }
   },
   "source": [
    "Implementa una función llamada `calcular_precision` que reciba un modelo entrenado, y una tupla de la forma ($X_{test}$, $y_{test}$) por parámetro y retorne el score $R^2$ del modelo.\n",
    "\n",
    "Esta función debe retornar un valor númerico tipo float (`flt`)."
   ]
  },
  {
   "cell_type": "code",
   "execution_count": 28,
   "metadata": {
    "deletable": false,
    "nbgrader": {
     "cell_type": "code",
     "checksum": "b43106e57f785bab57014974dcebd285",
     "grade": false,
     "grade_id": "ej5-sol",
     "locked": false,
     "schema_version": 3,
     "solution": true,
     "task": false
    }
   },
   "outputs": [],
   "source": [
    "# YOUR CODE HERE\n",
    "def calcular_precision (modelo,xtest,ytest):\n",
    "    r2=modelo.score(xtest,ytest)\n",
    "    return r2\n",
    "#raise NotImplementedError()"
   ]
  },
  {
   "cell_type": "code",
   "execution_count": 29,
   "metadata": {
    "deletable": false,
    "editable": false,
    "nbgrader": {
     "cell_type": "code",
     "checksum": "dbfc26c5e215c83295358d60e1a7df94",
     "grade": true,
     "grade_id": "cell-2c839c39325ca2bc",
     "locked": true,
     "points": 1,
     "schema_version": 3,
     "solution": false,
     "task": false
    }
   },
   "outputs": [
    {
     "name": "stdout",
     "output_type": "stream",
     "text": [
      "Felicidades, realizaste este ejercicio correctamente.\n"
     ]
    }
   ],
   "source": [
    "## AUTO-CALIFICADOR\n",
    "\n",
    "# Base variables\n",
    "import pickle\n",
    "\n",
    "modelo = pickle.load(open(\"Archivos/modeloTaller\", 'rb'))\n",
    "X_test = pd.DataFrame({\"x1\":[7,  6,  5,  3,  5],\n",
    "                       \"x2\":[5,  4,  4,  4,  4],\n",
    "                       \"x3\":[47, 50, 11, 42, 1]})\n",
    "y_test = pd.Series([10, 3, 7, 6, 8])\n",
    "archivo = pd.read_excel(\"Archivos/datosTaller.xlsx\")\n",
    "archivo_test = pd.read_excel(\"Archivos/datosTallerTest.xlsx\")\n",
    "datos_test = (pd.DataFrame(archivo)[pd.DataFrame(archivo).columns[1:]], pd.DataFrame(archivo)[pd.DataFrame(archivo).columns[0]])\n",
    "datos_test = train_test_split(datos_test[0], datos_test[1], random_state=0)\n",
    "\n",
    "# Caso 1: no existe la función.\n",
    "try:\n",
    "    calcular_precision\n",
    "    assert type(calcular_precision) == type(lambda:None)\n",
    "except:\n",
    "    raise NotImplementedError(\"No existe una función llamada calcular_precision.\",)\n",
    "    \n",
    "# Caso 2: la función es interrumpida por errores durante su ejecución.\n",
    "try:\n",
    "    calcular_precision(modelo, X_test, y_test)\n",
    "    #crear_modelo(archivo_test)\n",
    "except:\n",
    "    raise RuntimeError(\"Tu función produce un error al ejecutarse.\")\n",
    "\n",
    "# Caso 3: no retorna un float.\n",
    "assert type(calcular_precision(modelo, X_test, y_test)) == np.float64, f\"Tu función debe retornar un objeto de tipo '{np.float64.__name__}'.\"\n",
    "\n",
    "# Caso 4: respuesta incorrecta\n",
    "try:\n",
    "    npt.assert_approx_equal(calcular_precision(modelo, X_test, y_test), -3.7894053047960226)\n",
    "except AssertionError as e:\n",
    "    e.args += (\"La respuesta de la precisión es incorrecta.\",)\n",
    "    raise e\n",
    "\n",
    "# Caso 5: procedimiento incorrecto\n",
    "try:\n",
    "    npt.assert_approx_equal(calcular_precision(modelo, datos_test[1], datos_test[3]), -0.7120120937366505)\n",
    "except AssertionError as e:\n",
    "    e.args += (\"El valor de la precisión es incorrecto para una instancia diferente de los datos.\",)\n",
    "    raise e\n",
    "\n",
    "# Mensaje de felicitaciones\n",
    "print(\"Felicidades, realizaste este ejercicio correctamente.\")"
   ]
  },
  {
   "cell_type": "markdown",
   "metadata": {
    "deletable": false,
    "editable": false,
    "nbgrader": {
     "cell_type": "markdown",
     "checksum": "82fedc758b2e4955a41c93d06129221b",
     "grade": false,
     "grade_id": "creds",
     "locked": true,
     "schema_version": 3,
     "solution": false,
     "task": false
    }
   },
   "source": [
    "## Créditos\n",
    "\n",
    "__Autor(es)__: Ariadna Sofía De Ávila Bula, Camilo Falla Moreno, Juan David Reyes Jaimes, Alejandro Mantilla Redondo, Diego Alejandro Cely Gómez\n",
    " \n",
    "__Fecha última actualización__: 04/10/2021"
   ]
  }
 ],
 "metadata": {
  "kernelspec": {
   "display_name": "Python 3",
   "language": "python",
   "name": "python3"
  },
  "language_info": {
   "codemirror_mode": {
    "name": "ipython",
    "version": 3
   },
   "file_extension": ".py",
   "mimetype": "text/x-python",
   "name": "python",
   "nbconvert_exporter": "python",
   "pygments_lexer": "ipython3",
   "version": "3.8.8"
  }
 },
 "nbformat": 4,
 "nbformat_minor": 4
}
