{
 "cells": [
  {
   "cell_type": "markdown",
   "metadata": {
    "deletable": false,
    "editable": false,
    "nbgrader": {
     "cell_type": "markdown",
     "checksum": "c155bbf38a711e7a5539f9ee428eab7f",
     "grade": false,
     "grade_id": "head",
     "locked": true,
     "schema_version": 3,
     "solution": false,
     "task": false
    }
   },
   "source": [
    "<img src=\"Archivos/miad4.png\" width=800x>\n",
    "\n",
    "# Modificar, limpiar y unir datos utilizando `pandas`\n",
    "\n",
    "En este taller modificarás, limpiarás y unirás bases de datos al resolver diversos ejercicios."
   ]
  },
  {
   "cell_type": "markdown",
   "metadata": {
    "deletable": false,
    "editable": false,
    "nbgrader": {
     "cell_type": "markdown",
     "checksum": "4b853139be59d87a9bd8cb1cc49cdf26",
     "grade": false,
     "grade_id": "objs",
     "locked": true,
     "schema_version": 3,
     "solution": false,
     "task": false
    }
   },
   "source": [
    "## Habilidades en práctica\n",
    "\n",
    "Al realizar este taller podrás revisar tu progreso para:\n",
    "\n",
    "**1.** Modificar cadenas de texto contenidas en un `Series`.<br>\n",
    "**2.** Representar fechas utilizando el paquete `datetime`.<br>\n",
    "**3.** Imputar datos faltantes en un `DataFrame`.<br>\n",
    "**4.** Unir dos `DataFrame` por coincidencia de filas o columnas."
   ]
  },
  {
   "cell_type": "markdown",
   "metadata": {
    "deletable": false,
    "editable": false,
    "nbgrader": {
     "cell_type": "markdown",
     "checksum": "bcb4ba9a949952cd571586ac198d5cdb",
     "grade": false,
     "grade_id": "dir",
     "locked": true,
     "schema_version": 3,
     "solution": false,
     "task": false
    }
   },
   "source": [
    "## Instrucciones\n",
    "\n",
    "En cada uno de los siguientes ejercicios deberás escribir el código solicitado estrictamente en las celdas indicadas para ello, teniendo en cuenta las siguientes recomendaciones:\n",
    "\n",
    "* No crear, eliminar o modificar celdas de este Notebook (salvo lo que se te indique), pues puede verse afectado el proceso de calificación automática.\n",
    "\n",
    "* La calificación se realiza de manera automática con datos diferentes a los proporcionados en este taller. Por consiguiente, tu código debe funcionar para diferentes instancias de cada uno de los ejercicios; una instancia hace referencia a los posibles valores de los parámetros.\n",
    "\n",
    "* La calificación de cada ejercicio depende del valor que retorne la función especificada en su enunciado. Por lo tanto, aunque implementes funciones adicionales, es escencial que utilices los nombres propuestos en los enunciados de los ejercicios para implementar la función definitiva."
   ]
  },
  {
   "cell_type": "markdown",
   "metadata": {
    "deletable": false,
    "editable": false,
    "nbgrader": {
     "cell_type": "markdown",
     "checksum": "79556565fe9714edf38ed7189bdce57a",
     "grade": false,
     "grade_id": "go",
     "locked": true,
     "schema_version": 3,
     "solution": false,
     "task": false
    }
   },
   "source": [
    "## Ejercicios\n",
    "En la siguente celda encuentras declarados los paquetes necesarios para el desarollo de este taller."
   ]
  },
  {
   "cell_type": "code",
   "execution_count": 9,
   "metadata": {
    "deletable": false,
    "editable": false,
    "nbgrader": {
     "cell_type": "code",
     "checksum": "b4f4608a9a73988678124fcf2e60b7ba",
     "grade": false,
     "grade_id": "import",
     "locked": true,
     "schema_version": 3,
     "solution": false,
     "task": false
    }
   },
   "outputs": [],
   "source": [
    "import numpy as np\n",
    "import pandas as pd\n",
    "from datetime import datetime"
   ]
  },
  {
   "cell_type": "markdown",
   "metadata": {
    "deletable": false,
    "editable": false,
    "nbgrader": {
     "cell_type": "markdown",
     "checksum": "802e633db422f7a2a737a944b63e9c45",
     "grade": false,
     "grade_id": "ej1_enun",
     "locked": true,
     "schema_version": 3,
     "solution": false,
     "task": false
    }
   },
   "source": [
    "### Ejercicio 1\n",
    "\n",
    "En la siguiente celda encuentras declarados dos `DataFrame` que almacenan los datos de los clientes de un negocio."
   ]
  },
  {
   "cell_type": "code",
   "execution_count": 2,
   "metadata": {
    "deletable": false,
    "editable": false,
    "nbgrader": {
     "cell_type": "code",
     "checksum": "d96ac1cee2065ad5acde780557b48e57",
     "grade": false,
     "grade_id": "ej1_data",
     "locked": true,
     "schema_version": 3,
     "solution": false,
     "task": false
    }
   },
   "outputs": [],
   "source": [
    "orden_cliente = pd.DataFrame([[70001, 3002],\n",
    "                              [70002, 3001],\n",
    "                              [70003, 3001],\n",
    "                              [70004, 3003],\n",
    "                              [70005, 3003]],\n",
    "                              columns = ['no_orden', 'id_cliente'])\n",
    "\n",
    "cliente_categoria = pd.DataFrame([[3001, \"Platino\"],\n",
    "                                  [3002, \"Oro\"    ],\n",
    "                                  [3003, \"Oro\"    ],\n",
    "                                  [3004, \"Bronce\" ]],\n",
    "                                  columns = ['id_cliente', 'Categoría Cliente'])"
   ]
  },
  {
   "cell_type": "markdown",
   "metadata": {
    "deletable": false,
    "editable": false,
    "nbgrader": {
     "cell_type": "markdown",
     "checksum": "9a48fa096244b7136c89123bb77eeb5e",
     "grade": false,
     "grade_id": "ej1_task",
     "locked": true,
     "schema_version": 3,
     "solution": false,
     "task": false
    }
   },
   "source": [
    "Implementa una función llamada `union_derecha` que reciba por parámetro dos `DataFrame` como los declarados en la celda anterior y que retorne un `DataFrame` resultado de la unión, donde se preserven todas las filas del segundo `DataFrame` y solo las que coincidan del primer `DataFrame`. La coincidencia debe hacerse evaluando la columna \"id_cliente\".\n",
    "\n",
    "La función debe retornar un `DataFrame`."
   ]
  },
  {
   "cell_type": "code",
   "execution_count": 14,
   "metadata": {
    "deletable": false,
    "nbgrader": {
     "cell_type": "code",
     "checksum": "4063799019c88621b8c7eff51cc505a9",
     "grade": false,
     "grade_id": "ej1_sol",
     "locked": false,
     "schema_version": 3,
     "solution": true,
     "task": false
    }
   },
   "outputs": [
    {
     "data": {
      "text/html": [
       "<div>\n",
       "<style scoped>\n",
       "    .dataframe tbody tr th:only-of-type {\n",
       "        vertical-align: middle;\n",
       "    }\n",
       "\n",
       "    .dataframe tbody tr th {\n",
       "        vertical-align: top;\n",
       "    }\n",
       "\n",
       "    .dataframe thead th {\n",
       "        text-align: right;\n",
       "    }\n",
       "</style>\n",
       "<table border=\"1\" class=\"dataframe\">\n",
       "  <thead>\n",
       "    <tr style=\"text-align: right;\">\n",
       "      <th></th>\n",
       "      <th>no_orden</th>\n",
       "      <th>id_cliente</th>\n",
       "      <th>Categoría Cliente</th>\n",
       "    </tr>\n",
       "  </thead>\n",
       "  <tbody>\n",
       "    <tr>\n",
       "      <th>0</th>\n",
       "      <td>70002.0</td>\n",
       "      <td>3001</td>\n",
       "      <td>Platino</td>\n",
       "    </tr>\n",
       "    <tr>\n",
       "      <th>1</th>\n",
       "      <td>70003.0</td>\n",
       "      <td>3001</td>\n",
       "      <td>Platino</td>\n",
       "    </tr>\n",
       "    <tr>\n",
       "      <th>2</th>\n",
       "      <td>70001.0</td>\n",
       "      <td>3002</td>\n",
       "      <td>Oro</td>\n",
       "    </tr>\n",
       "    <tr>\n",
       "      <th>3</th>\n",
       "      <td>70004.0</td>\n",
       "      <td>3003</td>\n",
       "      <td>Oro</td>\n",
       "    </tr>\n",
       "    <tr>\n",
       "      <th>4</th>\n",
       "      <td>70005.0</td>\n",
       "      <td>3003</td>\n",
       "      <td>Oro</td>\n",
       "    </tr>\n",
       "    <tr>\n",
       "      <th>5</th>\n",
       "      <td>NaN</td>\n",
       "      <td>3004</td>\n",
       "      <td>Bronce</td>\n",
       "    </tr>\n",
       "  </tbody>\n",
       "</table>\n",
       "</div>"
      ],
      "text/plain": [
       "   no_orden  id_cliente Categoría Cliente\n",
       "0   70002.0        3001           Platino\n",
       "1   70003.0        3001           Platino\n",
       "2   70001.0        3002               Oro\n",
       "3   70004.0        3003               Oro\n",
       "4   70005.0        3003               Oro\n",
       "5       NaN        3004            Bronce"
      ]
     },
     "execution_count": 14,
     "metadata": {},
     "output_type": "execute_result"
    }
   ],
   "source": [
    "# YOUR CODE HERE\n",
    "def union_derecha(base1,base2):\n",
    "    return base1.merge(base2, how = \"right\", left_on = \"id_cliente\", right_on = \"id_cliente\")\n",
    "union_derecha(orden_cliente,cliente_categoria)"
   ]
  },
  {
   "cell_type": "code",
   "execution_count": 15,
   "metadata": {
    "deletable": false,
    "editable": false,
    "nbgrader": {
     "cell_type": "code",
     "checksum": "e7201097b35ee23a8a7836e1d500bcb2",
     "grade": true,
     "grade_id": "ej1_test",
     "locked": true,
     "points": 1,
     "schema_version": 3,
     "solution": false,
     "task": false
    }
   },
   "outputs": [
    {
     "name": "stdout",
     "output_type": "stream",
     "text": [
      "Felicidades, realizaste este ejercicio correctamente.\n"
     ]
    }
   ],
   "source": [
    "## AUTO-CALIFICADOR\n",
    "\n",
    "# Base variables\n",
    "orden_cliente = pd.DataFrame([[70001, 3002],\n",
    "                              [70002, 3001],\n",
    "                              [70003, 3001],\n",
    "                              [70004, 3003],\n",
    "                              [70005, 3003]],\n",
    "                              columns = ['no_orden', 'id_cliente'])\n",
    "\n",
    "cliente_categoria = pd.DataFrame([[3001, \"Platino\"],\n",
    "                                  [3002, \"Oro\"    ],\n",
    "                                  [3003, \"Oro\"    ],\n",
    "                                  [3004, \"Bronce\" ]],\n",
    "                                  columns = ['id_cliente', 'Categoría Cliente'])\n",
    "\n",
    "orden_cliente_prueba= pd.DataFrame([[70001, 3002],\n",
    "                                    [70002, 3002],\n",
    "                                    [70003, 3001],\n",
    "                                    [70004, 3000],\n",
    "                                    [70006, 3004]],\n",
    "                                   columns = ['no_orden', 'id_cliente'])\n",
    "\n",
    "cliente_categoria_prueba = pd.DataFrame([[3001, \"Platino\"],\n",
    "                                         [3002, \"Oro\"    ],\n",
    "                                         [3000, \"Oro\"    ],\n",
    "                                         [3001, \"Bronce\" ]],\n",
    "                                        columns = ['id_cliente', 'Categoría Cliente'])\n",
    "\n",
    "# Caso 1: no existe la función.\n",
    "try:\n",
    "    union_derecha\n",
    "    assert type(union_derecha) == type(lambda:None)\n",
    "except:\n",
    "    raise NotImplementedError(\"No existe una función llamada union_derecha.\",)\n",
    "    \n",
    "# Caso 2: la función es interrumpida por errores durante su ejecución.\n",
    "try:\n",
    "    union_derecha(orden_cliente, cliente_categoria)\n",
    "except:\n",
    "    raise RuntimeError(\"Tu función produce un error al ejecutarse.\")\n",
    "\n",
    "# Caso 3: no retorna un DataFrame.\n",
    "assert type(union_derecha(orden_cliente, cliente_categoria)) == type(orden_cliente), f\"Tu función debe retornar un objeto de tipo '{type(orden_cliente).__name__}'.\"\n",
    "\n",
    "# Caso 4: retorna un dataframe con cantidad de columnas errada\n",
    "assert union_derecha(orden_cliente, cliente_categoria).shape[1] == 3, \"Tu función retorna un DataFrame con cantidad de columnas errada.\"\n",
    "assert union_derecha(orden_cliente_prueba, cliente_categoria_prueba).shape[1] == 3, \"Tu función retorna un DataFrame con cantidad de columnas errada.\"\n",
    "\n",
    "# Caso 5: devuelve un dataframe con cantidad de filas errada\n",
    "assert union_derecha(orden_cliente, cliente_categoria).shape[0] == 6, \"Tu función retorna un DataFrame con cantidad de filas errada.\"\n",
    "assert union_derecha(orden_cliente_prueba, cliente_categoria_prueba).shape[0] == 5, \"Tu función retorna un DataFrame con cantidad de filas errada.\"\n",
    "\n",
    "# Caso 6: retorna los valores que son (dfs prueba)\n",
    "assert union_derecha(orden_cliente_prueba, cliente_categoria_prueba).iat[4,2] == 'Bronce', \"Tu función retorna un DataFrame con valores distintos a los esperados.\"\n",
    "assert union_derecha(orden_cliente_prueba, cliente_categoria_prueba).iat[4,1] == 3001, \"Tu función retorna un DataFrame con valores distintos a los esperados.\"\n",
    "\n",
    "\n",
    "print(\"Felicidades, realizaste este ejercicio correctamente.\")"
   ]
  },
  {
   "cell_type": "markdown",
   "metadata": {
    "deletable": false,
    "editable": false,
    "nbgrader": {
     "cell_type": "markdown",
     "checksum": "f492a70e13697eb3e6e254d5f7c2d837",
     "grade": false,
     "grade_id": "ej2_enun",
     "locked": true,
     "schema_version": 3,
     "solution": false,
     "task": false
    }
   },
   "source": [
    "### Ejercicio 2\n",
    "\n",
    "En la siguiente celda encuentras declarados dos `DataFrame` que almacenan los datos de los clientes de un negocio."
   ]
  },
  {
   "cell_type": "code",
   "execution_count": 16,
   "metadata": {
    "deletable": false,
    "editable": false,
    "nbgrader": {
     "cell_type": "code",
     "checksum": "798eb8facbaaae139d1edbfe98fa8e30",
     "grade": false,
     "grade_id": "ej2_data",
     "locked": true,
     "schema_version": 3,
     "solution": false,
     "task": false
    }
   },
   "outputs": [],
   "source": [
    "cliente_categoria_orden = pd.DataFrame([[3002, \"Platino\", 70001],\n",
    "                                        [3004, \"Oro\",     70002],\n",
    "                                        [3003, \"Oro\",     70003]],\n",
    "                                        columns = ['id_cliente', 'Categoría Cliente', 'no_orden'])\n",
    "    \n",
    "cliente_categoria = pd.DataFrame([[3006, \"Oro\"    ],\n",
    "                                  [3001, \"Oro\"    ],\n",
    "                                  [3005, \"Platino\"],\n",
    "                                  [3007, \"Platino\"]],\n",
    "                                  columns = ['id_cliente', 'Categoría Cliente'])"
   ]
  },
  {
   "cell_type": "markdown",
   "metadata": {
    "deletable": false,
    "editable": false,
    "nbgrader": {
     "cell_type": "markdown",
     "checksum": "3a2f23da8b02b6941b12d32cd4e1c986",
     "grade": false,
     "grade_id": "ej2_task",
     "locked": true,
     "schema_version": 3,
     "solution": false,
     "task": false
    }
   },
   "source": [
    "Implementa una función llamada `concatenar_interno` que reciba por parámetro dos `DataFrame` como los declarados en la celda anterior y que retorne un `DataFrame` resultado de la unión, donde se preserven las filas de ambos `DataFrame`.\n",
    "\n",
    "La función deber retornar un `DataFrame` con las **columnas** que existan en ambos `DataFrame` y todas las filas de ambos."
   ]
  },
  {
   "cell_type": "code",
   "execution_count": 25,
   "metadata": {
    "deletable": false,
    "nbgrader": {
     "cell_type": "code",
     "checksum": "bd7407e2aa61722de1b2bbf1c7022714",
     "grade": false,
     "grade_id": "ej2_sol",
     "locked": false,
     "schema_version": 3,
     "solution": true,
     "task": false
    }
   },
   "outputs": [
    {
     "data": {
      "text/html": [
       "<div>\n",
       "<style scoped>\n",
       "    .dataframe tbody tr th:only-of-type {\n",
       "        vertical-align: middle;\n",
       "    }\n",
       "\n",
       "    .dataframe tbody tr th {\n",
       "        vertical-align: top;\n",
       "    }\n",
       "\n",
       "    .dataframe thead th {\n",
       "        text-align: right;\n",
       "    }\n",
       "</style>\n",
       "<table border=\"1\" class=\"dataframe\">\n",
       "  <thead>\n",
       "    <tr style=\"text-align: right;\">\n",
       "      <th></th>\n",
       "      <th>id_cliente</th>\n",
       "      <th>Categoría Cliente</th>\n",
       "    </tr>\n",
       "  </thead>\n",
       "  <tbody>\n",
       "    <tr>\n",
       "      <th>0</th>\n",
       "      <td>3002</td>\n",
       "      <td>Platino</td>\n",
       "    </tr>\n",
       "    <tr>\n",
       "      <th>1</th>\n",
       "      <td>3004</td>\n",
       "      <td>Oro</td>\n",
       "    </tr>\n",
       "    <tr>\n",
       "      <th>2</th>\n",
       "      <td>3003</td>\n",
       "      <td>Oro</td>\n",
       "    </tr>\n",
       "    <tr>\n",
       "      <th>3</th>\n",
       "      <td>3006</td>\n",
       "      <td>Oro</td>\n",
       "    </tr>\n",
       "    <tr>\n",
       "      <th>4</th>\n",
       "      <td>3001</td>\n",
       "      <td>Oro</td>\n",
       "    </tr>\n",
       "    <tr>\n",
       "      <th>5</th>\n",
       "      <td>3005</td>\n",
       "      <td>Platino</td>\n",
       "    </tr>\n",
       "  </tbody>\n",
       "</table>\n",
       "</div>"
      ],
      "text/plain": [
       "   id_cliente Categoría Cliente\n",
       "0        3002           Platino\n",
       "1        3004               Oro\n",
       "2        3003               Oro\n",
       "3        3006               Oro\n",
       "4        3001               Oro\n",
       "5        3005           Platino"
      ]
     },
     "execution_count": 25,
     "metadata": {},
     "output_type": "execute_result"
    }
   ],
   "source": [
    "# YOUR CODE HERE\n",
    "def concatenar_interno(base1,base2):\n",
    "    return pd.concat([base1 ,base2], join=\"inner\" , ignore_index=True)\n",
    "concatenar_interno(cliente_categoria_orden,cliente_categoria)\n",
    "\n"
   ]
  },
  {
   "cell_type": "code",
   "execution_count": 26,
   "metadata": {
    "deletable": false,
    "editable": false,
    "nbgrader": {
     "cell_type": "code",
     "checksum": "f3ad475aae523c03707b6451b8853431",
     "grade": true,
     "grade_id": "ej2_test",
     "locked": true,
     "points": 1,
     "schema_version": 3,
     "solution": false,
     "task": false
    }
   },
   "outputs": [
    {
     "name": "stdout",
     "output_type": "stream",
     "text": [
      "Felicidades, realizaste este ejercicio correctamente.\n"
     ]
    }
   ],
   "source": [
    "## AUTO-CALIFICADOR\n",
    "\n",
    "# Base variables\n",
    "cliente_categoria_orden = pd.DataFrame([[3002, \"Platino\", 70001],\n",
    "                                        [3004, \"Oro\",     70002],\n",
    "                                        [3003, \"Oro\",     70003]],\n",
    "                                        columns = ['id_cliente', 'Categoría Cliente', 'no_orden'])\n",
    "    \n",
    "cliente_categoria = pd.DataFrame([[3006, \"Oro\"    ],\n",
    "                                  [3001, \"Oro\"    ],\n",
    "                                  [3005, \"Platino\"]],\n",
    "                                  columns = ['id_cliente', 'Categoría Cliente'])\n",
    "\n",
    "cliente_categoria_orden_prueba = pd.DataFrame([[3002, \"Platino\", 70001],\n",
    "                                        [3004, \"Oro\",     70002],\n",
    "                                        [3003, \"Oro\",     70003]],\n",
    "                                        columns = ['id_cliente', 'Categoría Cliente', 'no_orden'])\n",
    "    \n",
    "cliente_categoria_prueba = pd.DataFrame([[3006, 70006],\n",
    "                                  [3001, 70007],\n",
    "                                  [3009, 70008]],\n",
    "                                  columns = ['id_cliente', 'no_orden'])\n",
    "\n",
    "# Caso 1: no existe la función.\n",
    "try:\n",
    "    concatenar_interno\n",
    "    assert type(concatenar_interno) == type(lambda:None)\n",
    "except:\n",
    "    raise NotImplementedError(\"No existe una función llamada union_interna.\",)\n",
    "    \n",
    "# Caso 2: la función es interrumpida por errores durante su ejecución.\n",
    "try:\n",
    "    concatenar_interno(cliente_categoria_orden, cliente_categoria)\n",
    "except:\n",
    "    raise RuntimeError(\"Tu función produce un error al ejecutarse.\")\n",
    "\n",
    "# Caso 3: no retorna un DataFrame.\n",
    "assert type(concatenar_interno(cliente_categoria_orden, cliente_categoria)) == type(cliente_categoria), f\"Tu función debe retornar un objeto de tipo '{type(orden_cliente).__name__}'.\"\n",
    "\n",
    "# Caso 4: retorna un dataframe con cantidad de columnas errada\n",
    "assert concatenar_interno(cliente_categoria_orden, cliente_categoria).shape[1] == 2, \"Tu función retorna un DataFrame con cantidad de columnas errada.\"\n",
    "\n",
    "# Caso 5: devuelve un dataframe con cantidad de filas errada\n",
    "assert concatenar_interno(cliente_categoria_orden, cliente_categoria).shape[0] == 6, \"Tu función retorna un DataFrame con cantidad de filas errada.\"\n",
    "\n",
    "# Caso 7: devuelve un dataframe cuyas columnas tienen nombre distinto de lo esperado (dfs prueba)\n",
    "assert [*concatenar_interno(cliente_categoria_orden_prueba, cliente_categoria_prueba).columns] == ['id_cliente','no_orden'], \"Tu función retorna un DataFrame con las columnas incorrectas.\"\n",
    "\n",
    "\n",
    "#Caso 8: retorna un dataframe con los valores correctos (dfs prueba)\n",
    "assert concatenar_interno(cliente_categoria_orden_prueba, cliente_categoria_prueba).iat[1,1] == 70002, \"Tu función retorna un DataFrame con los valores incorrectos.\"\n",
    "assert concatenar_interno(cliente_categoria_orden_prueba, cliente_categoria_prueba).iat[5,0] == 3009,\"Tu función retorna un DataFrame con los valores incorrectos.\"\n",
    "\n",
    "print(\"Felicidades, realizaste este ejercicio correctamente.\")\n"
   ]
  },
  {
   "cell_type": "markdown",
   "metadata": {
    "deletable": false,
    "editable": false,
    "nbgrader": {
     "cell_type": "markdown",
     "checksum": "65822319a7255b5a238813c467c393d4",
     "grade": false,
     "grade_id": "ej3_enun",
     "locked": true,
     "schema_version": 3,
     "solution": false,
     "task": false
    }
   },
   "source": [
    "### Ejercicio 3\n",
    "\n",
    "En la siguiente celda encuentras declarado un `DataFrame` que almacenan en las filas las ventas diarias de los tres principales productos de un negocio."
   ]
  },
  {
   "cell_type": "code",
   "execution_count": 27,
   "metadata": {
    "deletable": false,
    "editable": false,
    "nbgrader": {
     "cell_type": "code",
     "checksum": "abc8927aee7476cbd4b192dd3857df08",
     "grade": false,
     "grade_id": "ej3_data",
     "locked": true,
     "schema_version": 3,
     "solution": false,
     "task": false
    }
   },
   "outputs": [],
   "source": [
    "\n",
    "ventas = pd.DataFrame([[2600.0,  12200.0, 6000.0],\n",
    "                       [11200.0, 9000.0,  600.0 ],\n",
    "                       [np.nan,  8000.0,  3000.0],\n",
    "                       [4000.0,  np.nan,  np.nan],\n",
    "                       [np.nan,  10000.0, 2000.0]],\n",
    "                      columns = [\"Producto 1\", \"Producto 2\", \"Producto 3\"])"
   ]
  },
  {
   "cell_type": "markdown",
   "metadata": {
    "deletable": false,
    "editable": false,
    "nbgrader": {
     "cell_type": "markdown",
     "checksum": "20eca92a9ffeb9a0e8ccb0a78286e2da",
     "grade": false,
     "grade_id": "ej3_task",
     "locked": true,
     "schema_version": 3,
     "solution": false,
     "task": false
    }
   },
   "source": [
    "Implementa una función llamada `mediana_faltantes` que reciba por parámetro un `DataFrame` como el declarado en la celda anterior, complete los datos faltantes del `DataFrame` con la mediana de su columna respectiva y lo retorne.\n",
    "\n",
    "La función deber retornar un `DataFrame` sin datos faltantes."
   ]
  },
  {
   "cell_type": "code",
   "execution_count": 46,
   "metadata": {
    "deletable": false,
    "nbgrader": {
     "cell_type": "code",
     "checksum": "fbf80806cef8ca831be2fd7d3adb3aae",
     "grade": false,
     "grade_id": "ej3_sol",
     "locked": false,
     "schema_version": 3,
     "solution": true,
     "task": false
    }
   },
   "outputs": [
    {
     "data": {
      "text/html": [
       "<div>\n",
       "<style scoped>\n",
       "    .dataframe tbody tr th:only-of-type {\n",
       "        vertical-align: middle;\n",
       "    }\n",
       "\n",
       "    .dataframe tbody tr th {\n",
       "        vertical-align: top;\n",
       "    }\n",
       "\n",
       "    .dataframe thead th {\n",
       "        text-align: right;\n",
       "    }\n",
       "</style>\n",
       "<table border=\"1\" class=\"dataframe\">\n",
       "  <thead>\n",
       "    <tr style=\"text-align: right;\">\n",
       "      <th></th>\n",
       "      <th>Producto 1</th>\n",
       "      <th>Producto 2</th>\n",
       "      <th>Producto 3</th>\n",
       "    </tr>\n",
       "  </thead>\n",
       "  <tbody>\n",
       "    <tr>\n",
       "      <th>0</th>\n",
       "      <td>2600.0</td>\n",
       "      <td>12200.0</td>\n",
       "      <td>6000.0</td>\n",
       "    </tr>\n",
       "    <tr>\n",
       "      <th>1</th>\n",
       "      <td>11200.0</td>\n",
       "      <td>9000.0</td>\n",
       "      <td>600.0</td>\n",
       "    </tr>\n",
       "    <tr>\n",
       "      <th>2</th>\n",
       "      <td>4000.0</td>\n",
       "      <td>8000.0</td>\n",
       "      <td>3000.0</td>\n",
       "    </tr>\n",
       "    <tr>\n",
       "      <th>3</th>\n",
       "      <td>4000.0</td>\n",
       "      <td>9500.0</td>\n",
       "      <td>2500.0</td>\n",
       "    </tr>\n",
       "    <tr>\n",
       "      <th>4</th>\n",
       "      <td>4000.0</td>\n",
       "      <td>10000.0</td>\n",
       "      <td>2000.0</td>\n",
       "    </tr>\n",
       "  </tbody>\n",
       "</table>\n",
       "</div>"
      ],
      "text/plain": [
       "   Producto 1  Producto 2  Producto 3\n",
       "0      2600.0     12200.0      6000.0\n",
       "1     11200.0      9000.0       600.0\n",
       "2      4000.0      8000.0      3000.0\n",
       "3      4000.0      9500.0      2500.0\n",
       "4      4000.0     10000.0      2000.0"
      ]
     },
     "execution_count": 46,
     "metadata": {},
     "output_type": "execute_result"
    }
   ],
   "source": [
    "# YOUR CODE HERE\n",
    "def mediana_faltantes(base1):\n",
    "    return base1.fillna(base1.median())\n",
    "mediana_faltantes(ventas)\n"
   ]
  },
  {
   "cell_type": "code",
   "execution_count": 47,
   "metadata": {
    "deletable": false,
    "editable": false,
    "nbgrader": {
     "cell_type": "code",
     "checksum": "97ab467486690bd633c8c70d71e942ef",
     "grade": true,
     "grade_id": "ej3_test",
     "locked": true,
     "points": 1,
     "schema_version": 3,
     "solution": false,
     "task": false
    }
   },
   "outputs": [
    {
     "name": "stdout",
     "output_type": "stream",
     "text": [
      "Felicidades, realizaste este ejercicio correctamente.\n"
     ]
    }
   ],
   "source": [
    "## AUTO-CALIFICADOR\n",
    "\n",
    "# Base variables\n",
    "ventas = pd.DataFrame([[2600.0,  12200.0, 6000.0],\n",
    "                       [11200.0, 9000.0,  600.0 ],\n",
    "                       [np.nan,  8000.0,  3000.0],\n",
    "                       [4000.0,  np.nan,  np.nan],\n",
    "                       [np.nan,  10000.0, 2000.0]],\n",
    "                      columns = [\"Producto 1\", \"Producto 2\", \"Producto 3\"])\n",
    "\n",
    "ventas_prueba = pd.DataFrame([[2600.0,  12200.0, 6000.0],\n",
    "                       [11200.0, 9000.0,  6000.0 ],\n",
    "                       [3000.0,  8000.0,  np.nan],\n",
    "                       [np.nan,  np.nan,  6500.0],\n",
    "                       [np.nan,  12000.0, 2000.0]],\n",
    "                      columns = [\"Producto 1\", \"Producto 2\", \"Producto 3\"])\n",
    "\n",
    "# Caso 1: no existe la función.\n",
    "try:\n",
    "    mediana_faltantes\n",
    "    assert type(mediana_faltantes) == type(lambda:None)\n",
    "except:\n",
    "    raise NotImplementedError(\"No existe una función llamada mediana_faltantes.\",)\n",
    "\n",
    "# Caso 2: la función es interrumpida por errores durante su ejecución.\n",
    "try:\n",
    "    mediana_faltantes(ventas)\n",
    "except:\n",
    "    raise RuntimeError(\"Tu función produce un error al ejecutarse.\")\n",
    "\n",
    "# Caso 3: no retorna un DataFrame.\n",
    "assert type(mediana_faltantes(ventas)) == type(ventas), f\"Tu función debe retornar un objeto de tipo '{type(ventas).__name__}'.\"\n",
    "\n",
    "# Caso 4: retorna un dataframe con cantidad de columnas errada\n",
    "assert mediana_faltantes(ventas).shape[1] == 3, \"Tu función retorna un DataFrame con cantidad de columnas errada.\"\n",
    "\n",
    "# Caso 5: devuelve un dataframe con cantidad de filas errada\n",
    "assert mediana_faltantes(ventas).shape[0] == 5, \"Tu función retorna un DataFrame con cantidad de filas errada.\"\n",
    "\n",
    "# Caso 5: no hay valores na\n",
    "assert mediana_faltantes(ventas).isnull().sum().sum() == 0, \"Tu función retorna un DataFrame con valores faltantes.\"\n",
    "assert mediana_faltantes(ventas_prueba).isnull().sum().sum() == 0, \"Tu función retorna un DataFrame con valores faltantes.\"\n",
    "# Caso 6: Los espacios vacios se llenan con la mediana\n",
    "assert mediana_faltantes(ventas_prueba).iat[3,0] == 3000.0, \"Tu función retorna un DataFrame que no llena los valores faltantes con la mediana.\"\n",
    "assert mediana_faltantes(ventas_prueba).iat[2,2] == 6000.0, \"Tu función retorna un DataFrame que no llena los valores faltantes con la mediana.\"\n",
    "#respuestas \n",
    "try:\n",
    "    assert mediana_faltantes(ventas).iat[2,0] == 4000\n",
    "    assert mediana_faltantes(ventas).iat[3,1] == 9500\n",
    "except AssertionError as e:\n",
    "    e.args += (\"Tu función retorna un DataFrame que no llena los valores faltantes con la mediana.\",)\n",
    "    raise e\n",
    "    \n",
    "\n",
    "print(\"Felicidades, realizaste este ejercicio correctamente.\")"
   ]
  },
  {
   "cell_type": "markdown",
   "metadata": {
    "deletable": false,
    "editable": false,
    "nbgrader": {
     "cell_type": "markdown",
     "checksum": "a7e45fa4a71783b43e5a72bf2bd49646",
     "grade": false,
     "grade_id": "ej4_enun",
     "locked": true,
     "schema_version": 3,
     "solution": false,
     "task": false
    }
   },
   "source": [
    "### Ejercicio 4\n",
    "\n",
    "En la siguiente celda encuentras declarados dos `DataFrame` que almacenan los datos de los clientes de un negocio."
   ]
  },
  {
   "cell_type": "code",
   "execution_count": 48,
   "metadata": {
    "deletable": false,
    "editable": false,
    "nbgrader": {
     "cell_type": "code",
     "checksum": "3800795438f6024d21d6c1f1782381b3",
     "grade": false,
     "grade_id": "ej4_data",
     "locked": true,
     "schema_version": 3,
     "solution": false,
     "task": false
    }
   },
   "outputs": [],
   "source": [
    "clientes = pd.DataFrame([[3002, \"Masculino\", \"No\"],\n",
    "                         [3001, \"Femenino\",  \"No\"],\n",
    "                         [3003, \"Femenino\",  \"Sí\"]],\n",
    "                        columns = [\"id_cliente\", \"Sexo\", \"Cliente Premium\"])"
   ]
  },
  {
   "cell_type": "markdown",
   "metadata": {
    "deletable": false,
    "editable": false,
    "nbgrader": {
     "cell_type": "markdown",
     "checksum": "e8e729ce8802dd58f6c9b65ff740b87a",
     "grade": false,
     "grade_id": "ej4_task",
     "locked": true,
     "schema_version": 3,
     "solution": false,
     "task": false
    }
   },
   "source": [
    "Implemente una función llamada `cliente_dummies` que reciba por parámetro un `DataFrame` como el declarado en la celda anterior, y retorne un `DataFrame` con la representación en variables *dummy* de las columnas `\"Sexo\"` y `\"Cliente Premium\"`.\n",
    "\n",
    "* La varable `\"Sexo\"` debe ser representada por un 1 si su valor es `\"Femenino\"` y cero de lo contrario.\n",
    "* La varable `\"Cliente Premium\"` debe ser representada por un 1 si su valor es `\"No\"` y cero de lo contrario.\n",
    "\n",
    "La función deber retornar un `DataFrame` con la misma cantidad de filas y columnas, pero números binarios en lugar de los registros de sexo y si es cliente premium."
   ]
  },
  {
   "cell_type": "code",
   "execution_count": 90,
   "metadata": {
    "deletable": false,
    "nbgrader": {
     "cell_type": "code",
     "checksum": "0ae9c7b0894fd6d049e9be8483157a8d",
     "grade": false,
     "grade_id": "ej4_sol",
     "locked": false,
     "schema_version": 3,
     "solution": true,
     "task": false
    }
   },
   "outputs": [],
   "source": [
    "# YOUR CODE HERE\n",
    "def cliente_dummies(clientes):\n",
    "    clientes=pd.get_dummies(clientes)\n",
    "    clientes=clientes.loc[:,[\"id_cliente\",\"Sexo_Femenino\",\"Cliente Premium_No\"]]\n",
    "    return clientes"
   ]
  },
  {
   "cell_type": "code",
   "execution_count": 91,
   "metadata": {
    "deletable": false,
    "editable": false,
    "nbgrader": {
     "cell_type": "code",
     "checksum": "5b29932d57175f62d233c1fae9c71a9b",
     "grade": true,
     "grade_id": "ej4_test",
     "locked": true,
     "points": 1,
     "schema_version": 3,
     "solution": false,
     "task": false
    }
   },
   "outputs": [
    {
     "name": "stdout",
     "output_type": "stream",
     "text": [
      "Felicidades, realizaste este ejercicio correctamente.\n"
     ]
    }
   ],
   "source": [
    "## AUTO-CALIFICADOR\n",
    "\n",
    "# Base variables\n",
    "clientes = pd.DataFrame([[3002, \"Masculino\", \"No\"],\n",
    "                         [3001, \"Femenino\",  \"No\"],\n",
    "                         [3003, \"Femenino\",  \"Sí\"]],\n",
    "                        columns = [\"id_cliente\", \"Sexo\", \"Cliente Premium\"])\n",
    "\n",
    "clientes_prueba = pd.DataFrame([[3002, \"Masculino\", \"Sí\"],\n",
    "                         [3001, \"Masculino\",  \"No\"],\n",
    "                         [3003, \"Femenino\",  \"Sí\"]],\n",
    "                        columns = [\"id_cliente\", \"Sexo\", \"Cliente Premium\"])\n",
    "\n",
    "# Caso 1: no existe la función.\n",
    "try:\n",
    "    cliente_dummies\n",
    "    assert type(cliente_dummies) == type(lambda:None)\n",
    "except:\n",
    "    raise NotImplementedError(\"No existe una función llamada cliente_dummies.\",)\n",
    "\n",
    "# Caso 2: la función es interrumpida por errores durante su ejecución.\n",
    "try:\n",
    "    cliente_dummies(clientes)\n",
    "except:\n",
    "    raise RuntimeError(\"Tu función produce un error al ejecutarse.\")\n",
    "\n",
    "# Caso 3: no retorna un DataFrame.\n",
    "assert type(cliente_dummies(clientes)) == type(clientes), f\"Tu función debe retornar un objeto de tipo '{type(clientes).__name__}'.\"\n",
    "\n",
    "# Caso 4: retorna un dataframe con cantidad de columnas errada\n",
    "assert cliente_dummies(clientes).shape[1] == 3, \"Tu función retorna un DataFrame con cantidad de columnas errada.\"\n",
    "\n",
    "# Caso 5: devuelve un dataframe con cantidad de filas errada\n",
    "assert cliente_dummies(clientes).shape[0] == 3, \"Tu función retorna un DataFrame con cantidad de filas errada.\"\n",
    "\n",
    "#Caso 6: Tu funcion no retorna los dummies que son (prueba)\n",
    "assert cliente_dummies(clientes_prueba).iat[1,1] == 0,\"Tu función retorna un DataFrame con los valores incorrectos.\"\n",
    "assert cliente_dummies(clientes_prueba).iat[1,2] == 1,\"Tu función retorna un DataFrame con los valores incorrectos.\"\n",
    "\n",
    "\n",
    "print(\"Felicidades, realizaste este ejercicio correctamente.\")\n"
   ]
  },
  {
   "cell_type": "markdown",
   "metadata": {
    "deletable": false,
    "editable": false,
    "nbgrader": {
     "cell_type": "markdown",
     "checksum": "c8a5c0692cba58d28b16c971524ed425",
     "grade": false,
     "grade_id": "ej5_enun",
     "locked": true,
     "schema_version": 3,
     "solution": false,
     "task": false
    }
   },
   "source": [
    "### Ejercicio 5\n",
    "\n",
    "En la siguiente celda encuentras declarada una fecha tipo cadena de caracteres."
   ]
  },
  {
   "cell_type": "code",
   "execution_count": 50,
   "metadata": {
    "deletable": false,
    "editable": false,
    "nbgrader": {
     "cell_type": "code",
     "checksum": "74b067357b6eae702c0f29d47931f19a",
     "grade": false,
     "grade_id": "ej5_data",
     "locked": true,
     "schema_version": 3,
     "solution": false,
     "task": false
    }
   },
   "outputs": [],
   "source": [
    "fecha_string = \"2020-10-December\""
   ]
  },
  {
   "cell_type": "markdown",
   "metadata": {
    "deletable": false,
    "editable": false,
    "nbgrader": {
     "cell_type": "markdown",
     "checksum": "1691f1ab09ab21fa10b90bf2c7e3f9e0",
     "grade": false,
     "grade_id": "ej5_task",
     "locked": true,
     "schema_version": 3,
     "solution": false,
     "task": false
    }
   },
   "source": [
    "Implemente una función llamada `cadena_a_fecha` que reciba por parámetro una cadena como la declarada en la celda anterior y retorne un objeto de tipo `datetime` que represente la misma fecha.\n",
    "\n",
    "La función deber retornar un objeto de tipo `datetime`."
   ]
  },
  {
   "cell_type": "code",
   "execution_count": 56,
   "metadata": {},
   "outputs": [],
   "source": [
    "from datetime import datetime"
   ]
  },
  {
   "cell_type": "code",
   "execution_count": 83,
   "metadata": {
    "deletable": false,
    "nbgrader": {
     "cell_type": "code",
     "checksum": "b69e32a303cf2857a07e7c82634b477e",
     "grade": false,
     "grade_id": "ej5_sol",
     "locked": false,
     "schema_version": 3,
     "solution": true,
     "task": false
    }
   },
   "outputs": [
    {
     "data": {
      "text/plain": [
       "datetime.datetime(2020, 12, 10, 0, 0)"
      ]
     },
     "execution_count": 83,
     "metadata": {},
     "output_type": "execute_result"
    }
   ],
   "source": [
    "# YOUR CODE HERE\n",
    "\n",
    "def cadena_a_fecha(fecha_string):\n",
    "    return   datetime.strptime(fecha_string ,'%Y-%d-%B') \n",
    "cadena_a_fecha(fecha_string)\n"
   ]
  },
  {
   "cell_type": "code",
   "execution_count": 84,
   "metadata": {
    "deletable": false,
    "editable": false,
    "nbgrader": {
     "cell_type": "code",
     "checksum": "b61fa878c96f9dd0493839f69cb90965",
     "grade": true,
     "grade_id": "ej5_test",
     "locked": true,
     "points": 1,
     "schema_version": 3,
     "solution": false,
     "task": false
    }
   },
   "outputs": [
    {
     "name": "stdout",
     "output_type": "stream",
     "text": [
      "Felicidades, realizaste este ejercicio correctamente.\n"
     ]
    }
   ],
   "source": [
    "## AUTO-CALIFICADOR\n",
    "\n",
    "# Base variables\n",
    "\n",
    "fecha_string = \"2020-10-December\"\n",
    "\n",
    "fecha_string_prueba = \"2021-20-October\"\n",
    "\n",
    "# Caso 1: no existe la función.\n",
    "try:\n",
    "    cadena_a_fecha\n",
    "    assert type(cadena_a_fecha) == type(lambda:None)\n",
    "except:\n",
    "    raise NotImplementedError(\"No existe una función llamada cadena_a_fecha.\",)\n",
    "\n",
    "# Caso 2: la función es interrumpida por errores durante su ejecución.\n",
    "try:\n",
    "    cadena_a_fecha\n",
    "except:\n",
    "    raise RuntimeError(\"Tu función produce un error al ejecutarse.\")\n",
    "\n",
    "# Caso 3: no retorna un Datetime.\n",
    "assert type(cadena_a_fecha(fecha_string)) == datetime, f\"Tu función debe retornar un objeto de tipo '{datetime.__name__}'.\"\n",
    "\n",
    "#Caso 4: retorna la fecha correcta\n",
    "assert cadena_a_fecha(fecha_string_prueba) == datetime(2021, 10, 20, 0, 0), f\"Tu respuesta es incorrecta.\"\n",
    "assert cadena_a_fecha(fecha_string) == datetime(2020, 12, 10, 0, 0), f\"Tu respuesta es incorrecta.\"\n",
    "\n",
    "\n",
    "print(\"Felicidades, realizaste este ejercicio correctamente.\")"
   ]
  },
  {
   "cell_type": "markdown",
   "metadata": {
    "deletable": false,
    "editable": false,
    "nbgrader": {
     "cell_type": "markdown",
     "checksum": "6f47da504d3302968b74fe4b880869cd",
     "grade": false,
     "grade_id": "ej6_enun",
     "locked": true,
     "schema_version": 3,
     "solution": false,
     "task": false
    }
   },
   "source": [
    "### Ejercicio 6\n",
    "\n",
    "Junto a este Notebook encontrarás dos archivos de Excel. Cada uno de estos archivos contiene una base de datos, ambas provistas por el Banco de la República.\n",
    "\n",
    "La primera base de datos (`\"1.1.TIB_Serie historica IQY.xlsx\"`) corresponde a la tasa a la que se puede prestar o pedir prestado entre los bancos.\n",
    "\n",
    "La segunda base de datos (`\"1.2.TIP_Serie historica diaria IQY.xlsx\"`) corresponde a la tasa de interés de referencia fijada por el Banco de la República.\n",
    "\n",
    "Implemente una función llamada `union_izquierda` que no reciba parámetros, importe los datos de los archivos de Excel y retorne un `DataFrame` resultado de la unión, donde se preserven todas las filas de los datos de la Tasa Interbancaria y solo las que coincidan de la Tasa de Intervención Pública. La coincidencia debe hacerse evaluando la columna \"Fecha\".\n",
    "\n",
    "La función debe retornar un `DataFrame`."
   ]
  },
  {
   "cell_type": "code",
   "execution_count": 87,
   "metadata": {
    "deletable": false,
    "nbgrader": {
     "cell_type": "code",
     "checksum": "a0a4127af2c52eb5db9bf6e22ad201a5",
     "grade": false,
     "grade_id": "ej6_sol",
     "locked": false,
     "schema_version": 3,
     "solution": true,
     "task": false
    }
   },
   "outputs": [
    {
     "data": {
      "text/html": [
       "<div>\n",
       "<style scoped>\n",
       "    .dataframe tbody tr th:only-of-type {\n",
       "        vertical-align: middle;\n",
       "    }\n",
       "\n",
       "    .dataframe tbody tr th {\n",
       "        vertical-align: top;\n",
       "    }\n",
       "\n",
       "    .dataframe thead th {\n",
       "        text-align: right;\n",
       "    }\n",
       "</style>\n",
       "<table border=\"1\" class=\"dataframe\">\n",
       "  <thead>\n",
       "    <tr style=\"text-align: right;\">\n",
       "      <th></th>\n",
       "      <th>Fecha</th>\n",
       "      <th>TIB (Efectiva anual) %</th>\n",
       "      <th>Unnamed: 2</th>\n",
       "      <th>Tasa de intervención de política monetaria (%)</th>\n",
       "    </tr>\n",
       "  </thead>\n",
       "  <tbody>\n",
       "    <tr>\n",
       "      <th>0</th>\n",
       "      <td>2020-11-13 00:00:00</td>\n",
       "      <td>0.017543</td>\n",
       "      <td>NaN</td>\n",
       "      <td>1.75</td>\n",
       "    </tr>\n",
       "    <tr>\n",
       "      <th>1</th>\n",
       "      <td>2020-11-12 00:00:00</td>\n",
       "      <td>0.017546</td>\n",
       "      <td>NaN</td>\n",
       "      <td>1.75</td>\n",
       "    </tr>\n",
       "    <tr>\n",
       "      <th>2</th>\n",
       "      <td>2020-11-11 00:00:00</td>\n",
       "      <td>0.017533</td>\n",
       "      <td>NaN</td>\n",
       "      <td>1.75</td>\n",
       "    </tr>\n",
       "    <tr>\n",
       "      <th>3</th>\n",
       "      <td>2020-11-10 00:00:00</td>\n",
       "      <td>0.017526</td>\n",
       "      <td>NaN</td>\n",
       "      <td>1.75</td>\n",
       "    </tr>\n",
       "    <tr>\n",
       "      <th>4</th>\n",
       "      <td>2020-11-09 00:00:00</td>\n",
       "      <td>0.017521</td>\n",
       "      <td>NaN</td>\n",
       "      <td>1.75</td>\n",
       "    </tr>\n",
       "    <tr>\n",
       "      <th>...</th>\n",
       "      <td>...</td>\n",
       "      <td>...</td>\n",
       "      <td>...</td>\n",
       "      <td>...</td>\n",
       "    </tr>\n",
       "    <tr>\n",
       "      <th>6253</th>\n",
       "      <td>NaN</td>\n",
       "      <td>NaN</td>\n",
       "      <td>NaN</td>\n",
       "      <td>NaN</td>\n",
       "    </tr>\n",
       "    <tr>\n",
       "      <th>6254</th>\n",
       "      <td>(N/A): No aplica.</td>\n",
       "      <td>NaN</td>\n",
       "      <td>NaN</td>\n",
       "      <td>NaN</td>\n",
       "    </tr>\n",
       "    <tr>\n",
       "      <th>6255</th>\n",
       "      <td>NaN</td>\n",
       "      <td>NaN</td>\n",
       "      <td>NaN</td>\n",
       "      <td>NaN</td>\n",
       "    </tr>\n",
       "    <tr>\n",
       "      <th>6256</th>\n",
       "      <td>NaN</td>\n",
       "      <td>NaN</td>\n",
       "      <td>NaN</td>\n",
       "      <td>NaN</td>\n",
       "    </tr>\n",
       "    <tr>\n",
       "      <th>6257</th>\n",
       "      <td>Banco de la República - Gerencia Técnica - in...</td>\n",
       "      <td>NaN</td>\n",
       "      <td>NaN</td>\n",
       "      <td>NaN</td>\n",
       "    </tr>\n",
       "  </tbody>\n",
       "</table>\n",
       "<p>6258 rows × 4 columns</p>\n",
       "</div>"
      ],
      "text/plain": [
       "                                                  Fecha  \\\n",
       "0                                   2020-11-13 00:00:00   \n",
       "1                                   2020-11-12 00:00:00   \n",
       "2                                   2020-11-11 00:00:00   \n",
       "3                                   2020-11-10 00:00:00   \n",
       "4                                   2020-11-09 00:00:00   \n",
       "...                                                 ...   \n",
       "6253                                                NaN   \n",
       "6254                                  (N/A): No aplica.   \n",
       "6255                                                NaN   \n",
       "6256                                                NaN   \n",
       "6257   Banco de la República - Gerencia Técnica - in...   \n",
       "\n",
       "      TIB (Efectiva anual) %  Unnamed: 2  \\\n",
       "0                   0.017543         NaN   \n",
       "1                   0.017546         NaN   \n",
       "2                   0.017533         NaN   \n",
       "3                   0.017526         NaN   \n",
       "4                   0.017521         NaN   \n",
       "...                      ...         ...   \n",
       "6253                     NaN         NaN   \n",
       "6254                     NaN         NaN   \n",
       "6255                     NaN         NaN   \n",
       "6256                     NaN         NaN   \n",
       "6257                     NaN         NaN   \n",
       "\n",
       "      Tasa de intervención de política monetaria (%)  \n",
       "0                                               1.75  \n",
       "1                                               1.75  \n",
       "2                                               1.75  \n",
       "3                                               1.75  \n",
       "4                                               1.75  \n",
       "...                                              ...  \n",
       "6253                                             NaN  \n",
       "6254                                             NaN  \n",
       "6255                                             NaN  \n",
       "6256                                             NaN  \n",
       "6257                                             NaN  \n",
       "\n",
       "[6258 rows x 4 columns]"
      ]
     },
     "execution_count": 87,
     "metadata": {},
     "output_type": "execute_result"
    }
   ],
   "source": [
    "# YOUR CODE HERE\n",
    "def union_izquierda():\n",
    "    TIB = pd.read_excel(\"C:/Users/STEPHANIE/Desktop/Talleres Herramientas/S5 - Limpiar y unir bases de datos/S5.TA1/Archivos/1.1.TIB_Serie historica IQY.xlsx\",header = 7).rename(columns={\"Fecha(dd/mm/aaaa)\": \"Fecha\"})\n",
    "    TIP = pd.read_excel(\"C:/Users/STEPHANIE/Desktop/Talleres Herramientas/S5 - Limpiar y unir bases de datos/S5.TA1/Archivos/1.2.TIP_Serie historica diaria IQY.xlsx\",header = 7).rename(columns={\"Fecha (dd/mm/aaaa)\": \"Fecha\"})\n",
    "    resultado = TIB.merge(TIP,on = \"Fecha\", how = \"left\")\n",
    "    return resultado\n",
    "\n",
    "union_izquierda()\n",
    "\n"
   ]
  },
  {
   "cell_type": "code",
   "execution_count": 88,
   "metadata": {
    "deletable": false,
    "editable": false,
    "nbgrader": {
     "cell_type": "code",
     "checksum": "36808419b7ac5c3531421805b3fccbae",
     "grade": true,
     "grade_id": "ej6_test",
     "locked": true,
     "points": 1,
     "schema_version": 3,
     "solution": false,
     "task": false
    }
   },
   "outputs": [
    {
     "name": "stdout",
     "output_type": "stream",
     "text": [
      "Felicidades, realizaste este ejercicio correctamente.\n"
     ]
    }
   ],
   "source": [
    "## AUTO-CALIFICADOR\n",
    "\n",
    "# Caso 1: no existe la función.\n",
    "try:\n",
    "    union_izquierda\n",
    "    assert type(union_izquierda) == type(lambda:None)\n",
    "except:\n",
    "    raise NotImplementedError(\"No existe una función llamada union_izquierda.\",)\n",
    "\n",
    "# Caso 2: la función es interrumpida por errores durante su ejecución.\n",
    "try:\n",
    "    union_izquierda\n",
    "except:\n",
    "    raise RuntimeError(\"Tu función produce un error al ejecutarse.\")\n",
    "\n",
    "# Caso 3: no retorna un Dataframe.\n",
    "assert type(union_izquierda()) == pd.core.frame.DataFrame, f\"Tu función debe retornar un objeto de tipo '{pd.core.frame.DataFrame.__name__}'.\"\n",
    "\n",
    "\n",
    "print(\"Felicidades, realizaste este ejercicio correctamente.\")"
   ]
  },
  {
   "cell_type": "markdown",
   "metadata": {
    "deletable": false,
    "editable": false,
    "nbgrader": {
     "cell_type": "markdown",
     "checksum": "78bbd361b0f5a11c89785a31d7a1e6d2",
     "grade": false,
     "grade_id": "ej7_enun",
     "locked": true,
     "schema_version": 3,
     "solution": false,
     "task": false
    }
   },
   "source": [
    "### Ejercicio 7\n",
    "\n",
    "Crea una función que reciba un `DataFrame` y retorne en una lista el nombre de las columnas que tienen más de 1 dato faltante. Puedes usar el `DataFrame` de la celda de código para probar que tu función este obteniendo el resultado correctamente. Vale aclarar que se usarán otros `DataFrame` para poner a prueba tu función.\n",
    "\n",
    "La función, con nombre `ejercicio7`, debe retornar una lista."
   ]
  },
  {
   "cell_type": "code",
   "execution_count": 5,
   "metadata": {
    "deletable": false,
    "editable": false,
    "nbgrader": {
     "cell_type": "code",
     "checksum": "e23441acde24b3597842f59b3fb8393e",
     "grade": false,
     "grade_id": "ej7_data",
     "locked": true,
     "schema_version": 3,
     "solution": false,
     "task": false
    }
   },
   "outputs": [],
   "source": [
    "df = pd.DataFrame({'no_orden':    [70001,np.nan,70002,70004,np.nan,70005,np.nan,70010,70003,70012,np.nan,70013],\n",
    "                   'monto US$':   [150.5,270.65,65.26,110.5,948.5,2400.6,5760,1983.43,2480.4,250.45, 75.29,3045.6],\n",
    "                   'Fecha Orden': ['2012-10-05','2012-09-10',np.nan,'2012-08-17','2012-09-10','2012-07-27','2012-09-10','2012-10-10','2012-10-10','2012-06-27','2012-08-17','2012-04-25'],\n",
    "                   'idCliente':   [3002,3001,3001,3003,3002,3001,3001,3004,3003,3002,3001,3001],\n",
    "                   'idVendedor':  [5002,5003,5001,np.nan,5002,5001,5001,np.nan,5003,5002,5003,np.nan]})"
   ]
  },
  {
   "cell_type": "code",
   "execution_count": 6,
   "metadata": {
    "deletable": false,
    "nbgrader": {
     "cell_type": "code",
     "checksum": "30aea8a71fd3d572271a37b395eb9af5",
     "grade": false,
     "grade_id": "ej7_sol",
     "locked": false,
     "schema_version": 3,
     "solution": true,
     "task": false
    }
   },
   "outputs": [
    {
     "data": {
      "text/plain": [
       "['no_orden', 'idVendedor']"
      ]
     },
     "execution_count": 6,
     "metadata": {},
     "output_type": "execute_result"
    }
   ],
   "source": [
    "# YOUR CODE HERE\n",
    "def ejercicio7(df):\n",
    "    lista=[]\n",
    "    rev=df.isnull().sum(axis=0).tolist()\n",
    "    columns_names=df.columns.values.tolist()\n",
    "    for x in rev:\n",
    "        if x >1:\n",
    "            lista.append(columns_names[rev.index(x)])\n",
    "    return(lista)\n",
    "ejercicio7(df)"
   ]
  },
  {
   "cell_type": "code",
   "execution_count": 7,
   "metadata": {
    "deletable": false,
    "editable": false,
    "nbgrader": {
     "cell_type": "code",
     "checksum": "2146a7fba1d4989b240d2a1f982b4c95",
     "grade": true,
     "grade_id": "ej7_test",
     "locked": true,
     "points": 1,
     "schema_version": 3,
     "solution": false,
     "task": false
    }
   },
   "outputs": [
    {
     "name": "stdout",
     "output_type": "stream",
     "text": [
      "Felicidades, realizaste este ejercicio correctamente.\n"
     ]
    }
   ],
   "source": [
    "## AUTO-CALIFICADOR\n",
    "\n",
    "# Base variables\n",
    "\n",
    "df = pd.DataFrame({\n",
    "    'no_orden':[70001,np.nan,70002,70004,np.nan,70005,np.nan,70010,70003,70012,np.nan,70013],\n",
    "    'monto US$':[150.5,270.65,65.26,110.5,948.5,2400.6,5760,1983.43,2480.4,250.45, 75.29,3045.6],\n",
    "    'Fecha Orden': ['2012-10-05','2012-09-10',np.nan,'2012-08-17','2012-09-10','2012-07-27','2012-09-10','2012-10-10','2012-10-10','2012-06-27','2012-08-17','2012-04-25'],\n",
    "    'idCliente':[3002,3001,3001,3003,3002,3001,3001,3004,3003,3002,3001,3001],\n",
    "    'idVendedor':[5002,5003,5001,np.nan,5002,5001,5001,np.nan,5003,5002,5003,np.nan]})\n",
    "\n",
    "df_prueba = pd.DataFrame({\n",
    "    'no_orden':[70001,np.nan,70002,70004,np.nan,70005,np.nan,70010,70003,70012,np.nan,70013],\n",
    "    'monto US$':[150.5,270.65,65.26,110.5,948.5,2400.6,5760,1983.43,2480.4,250.45, 75.29,3045.6],\n",
    "    'Fecha Orden': ['2012-10-05','2012-09-10',np.nan,'2012-08-17','2012-09-10','2012-07-27','2012-09-10','2012-10-10','2012-10-10','2012-06-27','2012-08-17','2012-04-25'],\n",
    "    'idCliente':[3002,3001,3001,3003,3002,np.nan,3001,np.nan,3003,3002,3001,3001],\n",
    "    'idVendedor':[5002,5003,5001,5003,5002,5001,5001,5001,5003,5002,5003,np.nan]})\n",
    "\n",
    "# Caso 1: no existe la función.\n",
    "try:\n",
    "    ejercicio7\n",
    "    assert type(ejercicio7) == type(lambda:None)\n",
    "except:\n",
    "    raise NotImplementedError(\"No existe una función llamada ejercicio7.\",)\n",
    "\n",
    "# Caso 2: la función es interrumpida por errores durante su ejecución.\n",
    "try:\n",
    "    ejercicio7\n",
    "except:\n",
    "    raise RuntimeError(\"Tu función produce un error al ejecutarse.\")\n",
    "\n",
    "# Caso 3: no retorna un Dataframe.\n",
    "assert type(ejercicio7(df)) == list, f\"Tu función debe retornar un objeto de tipo '{list.__name__}'.\"\n",
    "\n",
    "# Caso 4: Probar con otro Dataframe que sean esas dos.\n",
    "assert ejercicio7(df_prueba) == ['no_orden', 'idCliente'], f\"Tu respuesta es incorrecta.\"\n",
    "\n",
    "\n",
    "print(\"Felicidades, realizaste este ejercicio correctamente.\")"
   ]
  },
  {
   "cell_type": "markdown",
   "metadata": {
    "deletable": false,
    "editable": false,
    "nbgrader": {
     "cell_type": "markdown",
     "checksum": "64d2549d11748f0308cfee96880fa31f",
     "grade": false,
     "grade_id": "ej8_enun",
     "locked": true,
     "schema_version": 3,
     "solution": false,
     "task": false
    }
   },
   "source": [
    "### Ejercicio 8\n",
    "\n",
    "Colombia es un país con un gran número de días feriados. En la carpeta de este taller encontrará una base de datos (`\"Festivos.xlsx\"`) que contiene estas fechas. Esta base de datos organiza en columnas los festivos de cada año, desde el año 2001 hasta el año 2019. Todos los festivos se presentan con el mismo formato: \n",
    "\n",
    "    6 Enero Día de los Reyes Magos\n",
    "\n",
    "Debe crear una función que procese la base de datos de festivos, de manera que retorne un objeto de tipo `DatetimeIndex` con todos los festivos que se han presentado en Colombia desde el año 2012 hasta el año 2020. \n",
    "\n",
    "Al imprimirse, el objeto tendría el siguientes aspecto:\n",
    "\n",
    "    DatetimeIndex(['2001-01-01', '2001-01-08', '2001-03-19', '2001-04-12',\n",
    "                   '2001-04-13', '2001-05-01', '2001-05-28', '2001-06-18',\n",
    "                   '2001-06-25', '2001-07-02',\n",
    "                   ...\n",
    "                   '2020-06-29', '2020-07-20', '2020-08-07', '2020-08-17',\n",
    "                   '2020-10-12', '2020-11-02', '2020-11-16', '2020-12-08',\n",
    "                   '2020-12-25', '2020-12-31'],\n",
    "                   dtype = 'datetime64[ns]', name = 'Fecha', length = 380, freq = None)\n",
    "    \n",
    "En la caja de código se le incluirá una lista con los meses del año. Esta lista le puede resultar de utilidad para procesar la información del `DataFrame`.\n",
    "\n",
    "La función, con nombre `ejercicio8`, debe retornar un objeto `DatetimeIndex`."
   ]
  },
  {
   "cell_type": "code",
   "execution_count": 8,
   "metadata": {
    "deletable": false,
    "editable": false,
    "nbgrader": {
     "cell_type": "code",
     "checksum": "87a7d421bd262f80c60686d3d8bd4a44",
     "grade": false,
     "grade_id": "ej8_data",
     "locked": true,
     "schema_version": 3,
     "solution": false,
     "task": false
    }
   },
   "outputs": [],
   "source": [
    "lista_meses = [\"Enero\",      \"Febrero\", \"Marzo\",     \"Abril\",\n",
    "               \"Mayo\",       \"Junio\",   \"Julio\",     \"Agosto\",\n",
    "               \"Septiembre\", \"Octubre\", \"Noviembre\", \"Diciembre\"] "
   ]
  },
  {
   "cell_type": "code",
   "execution_count": 38,
   "metadata": {
    "deletable": false,
    "nbgrader": {
     "cell_type": "code",
     "checksum": "1468cf9ce400b720ec92eae5696b54d8",
     "grade": false,
     "grade_id": "ej8_sol",
     "locked": false,
     "schema_version": 3,
     "solution": true,
     "task": false
    }
   },
   "outputs": [],
   "source": [
    "# YOUR CODE HERE\n",
    "def ejercicio8():\n",
    "    \n",
    "        df=pd.read_excel(\"C:/Users/STEPHANIE/Desktop/Talleres Herramientas/S5 - Limpiar y unir bases de datos/S5.TA1/Archivos/Festivos.xlsx\")\n",
    "        rango= list(range(2012,2021))\n",
    "        df= df[rango]\n",
    "        a= df.stack()\n",
    "        b= a.reset_index(level=1, drop=False)\n",
    "        b= b.rename(columns={0:'Festivo',\"level_1\":\"Año\"})\n",
    "        b[['dia','mes_str',\"complemento\"]]= b['Festivo'].str.split(n=2,expand=True)\n",
    "\n",
    "        num_meses=list(range(1,13))\n",
    "        meses={\"mes_str\":lista_meses,\"mes\":num_meses}\n",
    "        m=pd.DataFrame(meses)\n",
    "        b=b.merge(m,how='left', on='mes_str')\n",
    "\n",
    "        fechas=list(b['dia'].astype(str)+'-'+b['mes'].astype(str)+'-'+b[\"Año\"].astype(str))\n",
    "        fechas= pd.to_datetime(fechas)\n",
    "\n",
    "        return fechas"
   ]
  },
  {
   "cell_type": "code",
   "execution_count": 39,
   "metadata": {
    "deletable": false,
    "editable": false,
    "nbgrader": {
     "cell_type": "code",
     "checksum": "a0090bf40aed397a5aad80d5312614c6",
     "grade": true,
     "grade_id": "ej8_test",
     "locked": true,
     "points": 1,
     "schema_version": 3,
     "solution": false,
     "task": false
    }
   },
   "outputs": [
    {
     "name": "stdout",
     "output_type": "stream",
     "text": [
      "Felicidades, realizaste este ejercicio correctamente.\n"
     ]
    }
   ],
   "source": [
    "## AUTO-CALIFICADOR\n",
    "\n",
    "# Base variables\n",
    "lista_meses = [\"Enero\", \"Febrero\", \"Marzo\", \"Abril\", \"Mayo\", \"Junio\", \"Julio\", \"Agosto\", \"Septiembre\",\n",
    "               \"Octubre\", \"Noviembre\", \"Diciembre\"] \n",
    "\n",
    "# Caso 1: no existe la función.\n",
    "try:\n",
    "    ejercicio8\n",
    "    assert type(ejercicio8) == type(lambda:None)\n",
    "except:\n",
    "    raise NotImplementedError(\"No existe una función llamada ejercicio8.\",)\n",
    "\n",
    "# Caso 2: la función es interrumpida por errores durante su ejecución.\n",
    "try:\n",
    "    ejercicio8\n",
    "except:\n",
    "    raise RuntimeError(\"Tu función produce un error al ejecutarse.\")\n",
    "\n",
    "# Caso 3: no retorna un Datatimeindex.\n",
    "assert type(ejercicio8()) == pd.core.indexes.datetimes.DatetimeIndex, f\"Tu función debe retornar un objeto de tipo '{pd.core.indexes.datetimes.DatetimeIndex.__name__}'.\"\n",
    "\n",
    "# Caso 4: retorna un dataframe con cantidad de columnas errada\n",
    "assert len(ejercicio8()) == 171, \"Tu función retorna un objeto DatetimeIndex con una longitud incorrecta.\"\n",
    "\n",
    "print(\"Felicidades, realizaste este ejercicio correctamente.\")\n"
   ]
  },
  {
   "cell_type": "markdown",
   "metadata": {
    "deletable": false,
    "editable": false,
    "nbgrader": {
     "cell_type": "markdown",
     "checksum": "fd63f3958c164451cc494a67632fbde4",
     "grade": false,
     "grade_id": "refs",
     "locked": true,
     "schema_version": 3,
     "solution": false,
     "task": false
    }
   },
   "source": [
    "## Referencias\n",
    "\n",
    "Banco de la República (2020). 1.2.TIP_Serie histórica diaria IQY.xlsx [Base deDatos]. Recuperado el 15 de Noviembre de 2020 de :\n",
    "https://www.banrep.gov.co/es/estadisticas/tasas-interes-politica-monetaria\n",
    "\n",
    "Banco de la República (2020). 1.1.TIB_Serie histórica IQY.xlsx [Base deDatos]. Recuperado el 15 de Noviembre de 2020 de :\n",
    "https://www.banrep.gov.co/es/estadisticas/tasa-interbancaria-tib"
   ]
  },
  {
   "cell_type": "markdown",
   "metadata": {
    "deletable": false,
    "editable": false,
    "nbgrader": {
     "cell_type": "markdown",
     "checksum": "b97f8df5b9e2be5a47830d50935415b4",
     "grade": false,
     "grade_id": "creds",
     "locked": true,
     "schema_version": 3,
     "solution": false,
     "task": false
    }
   },
   "source": [
    "## Créditos\n",
    "\n",
    "**Autor(es)**: Jorge Esteban Camargo Forero, Juan David Reyes Jaimes, Alejandro Mantilla Redondo, Diego Alejandro Cely Gomez\n",
    "\n",
    "**Última actualización:** 17/09/2021"
   ]
  }
 ],
 "metadata": {
  "kernelspec": {
   "display_name": "Python 3",
   "language": "python",
   "name": "python3"
  },
  "language_info": {
   "codemirror_mode": {
    "name": "ipython",
    "version": 3
   },
   "file_extension": ".py",
   "mimetype": "text/x-python",
   "name": "python",
   "nbconvert_exporter": "python",
   "pygments_lexer": "ipython3",
   "version": "3.8.8"
  }
 },
 "nbformat": 4,
 "nbformat_minor": 2
}
