{
 "cells": [
  {
   "cell_type": "markdown",
   "metadata": {
    "deletable": false,
    "editable": false,
    "nbgrader": {
     "cell_type": "markdown",
     "checksum": "accd1de3bf6a9d1e02ae5a4dfa8e9ea4",
     "grade": false,
     "grade_id": "header",
     "locked": true,
     "schema_version": 3,
     "solution": false,
     "task": false
    }
   },
   "source": [
    "<img src=\"Archivos/miad4.png\" width=800x>\n",
    "\n",
    "# Estructuras de control: condicionales y ciclos\n",
    "\n",
    "En este taller utilizarás condicionales simples y compuestos, y ciclos para resolver diversos problemas. \n",
    "\n",
    "\n",
    "## Habilidades en práctica\n",
    "\n",
    "Al desarrollar este taller podrás verificar tu progreso para:\n",
    "\n",
    "**1.** Utilizar los tres tipos de operadores más frecuentes para construir expresiones lógicas.<br>\n",
    "**2.** Implementar condicionales simples y compuestos.<br>\n",
    "**3.** Implementar diferentes tipos de ciclos según su condición de parada.<br>\n",
    "\n",
    "\n",
    "## Instrucciones\n",
    "\n",
    "En cada uno de los siguientes ejercicios deberás escribir el código solicitado estrictamente en las celdas indicadas para ello, teniendo en cuenta las siguientes recomendaciones:\n",
    "\n",
    "* No crear, eliminar o modificar celdas de este Notebook (salvo lo que se te indique), pues puede verse afectado el proceso de calificación automática.\n",
    "* La calificación se realiza de manera automática con datos diferentes a los proporcionados en este taller. Por consiguiente, tu código debe funcionar para diferentes instancias de cada uno de los ejercicios; una instancia hace referencia al valor de los parámetros.\n",
    "* La calificación de cada ejercicio depende del valor que tome la variable especificada en su enunciado. Por lo tanto, aunque declares variables adicionales en tu código, es escencial que utilices los nombres de las variables propuestas en los enunciados de los ejercicios para guardar el resultado final.\n",
    "\n",
    "A continuación puedes ver un ejemplo de los ejercicios que encontrarás en este taller."
   ]
  },
  {
   "cell_type": "markdown",
   "metadata": {
    "deletable": false,
    "editable": false,
    "nbgrader": {
     "cell_type": "markdown",
     "checksum": "ee98dffc866f84d6d1aa772a37b5ffcc",
     "grade": false,
     "grade_id": "eje-enun",
     "locked": true,
     "schema_version": 3,
     "solution": false,
     "task": false
    }
   },
   "source": [
    "### Ejemplo\n",
    "\n",
    "En la siguiente celda encuentras la edad de Diego y de Felipe."
   ]
  },
  {
   "cell_type": "code",
   "execution_count": 1,
   "metadata": {
    "deletable": false,
    "editable": false,
    "nbgrader": {
     "cell_type": "code",
     "checksum": "d85cebcbfbb6fe05516aeef3834d5eee",
     "grade": false,
     "grade_id": "eje-data",
     "locked": true,
     "schema_version": 3,
     "solution": false,
     "task": false
    }
   },
   "outputs": [],
   "source": [
    "# No modifiques esta celda\n",
    "\n",
    "Diego = 25\n",
    "Felipe = 23"
   ]
  },
  {
   "cell_type": "markdown",
   "metadata": {
    "deletable": false,
    "editable": false,
    "nbgrader": {
     "cell_type": "markdown",
     "checksum": "9685cbc3b2cbbad6bcec8f7570a9bc00",
     "grade": false,
     "grade_id": "eje-task",
     "locked": true,
     "schema_version": 3,
     "solution": false,
     "task": false
    }
   },
   "source": [
    "Almacena el nombre del mayor entre Diego y Felipe en una variable llamada `resp`."
   ]
  },
  {
   "cell_type": "code",
   "execution_count": 2,
   "metadata": {
    "deletable": false,
    "editable": false,
    "nbgrader": {
     "cell_type": "code",
     "checksum": "2c096d8e7b163a89e88275f1c6d6c5b5",
     "grade": false,
     "grade_id": "eje-sol",
     "locked": true,
     "schema_version": 3,
     "solution": false,
     "task": false
    }
   },
   "outputs": [],
   "source": [
    "# Implementa tu respuesta en esta celda\n",
    "\n",
    "if Diego > Felipe:\n",
    "    resp = \"Diego\"\n",
    "else:\n",
    "    resp = \"Felipe\""
   ]
  },
  {
   "cell_type": "markdown",
   "metadata": {
    "deletable": false,
    "editable": false,
    "nbgrader": {
     "cell_type": "markdown",
     "checksum": "63dd23eae6357d872d58a69bf6734bcb",
     "grade": false,
     "grade_id": "ej1-enun",
     "locked": true,
     "schema_version": 3,
     "solution": false,
     "task": false
    }
   },
   "source": [
    "### Ejercicio 1\n",
    "\n",
    "En la siguiente celda encuentras declaradas dos variables que almacenan números enteros."
   ]
  },
  {
   "cell_type": "code",
   "execution_count": 3,
   "metadata": {
    "deletable": false,
    "editable": false,
    "nbgrader": {
     "cell_type": "code",
     "checksum": "940ad26b86322c201316b71c37ff5be2",
     "grade": false,
     "grade_id": "ej1-data",
     "locked": true,
     "schema_version": 3,
     "solution": false,
     "task": false
    }
   },
   "outputs": [],
   "source": [
    "# No modifiques esta celda\n",
    "\n",
    "num_1 = 2\n",
    "num_2 = 3"
   ]
  },
  {
   "cell_type": "markdown",
   "metadata": {
    "deletable": false,
    "editable": false,
    "nbgrader": {
     "cell_type": "markdown",
     "checksum": "92b3f807af3c8fc1425c72009d8554ba",
     "grade": false,
     "grade_id": "ej1-task",
     "locked": true,
     "schema_version": 3,
     "solution": false,
     "task": false
    }
   },
   "source": [
    "Almacena en una variable, con nombre `mayor`, el mayor número entre los valores de las variables `num_1` y `num_2`. Si ambas variables tienen el mismo valor, puedes escoger almacenar el valor de `num_1` o `num_2` en la variable `mayor`."
   ]
  },
  {
   "cell_type": "code",
   "execution_count": 4,
   "metadata": {
    "deletable": false,
    "nbgrader": {
     "cell_type": "code",
     "checksum": "36077906e0c130d2845e25e45c280f50",
     "grade": false,
     "grade_id": "ej1-sol",
     "locked": false,
     "schema_version": 3,
     "solution": true,
     "task": false
    },
    "respuesta": "1"
   },
   "outputs": [],
   "source": [
    "# YOUR CODE HERE\n",
    "\n",
    "if num_1>num_2:\n",
    "    mayor=num_1\n",
    "else:\n",
    "    mayor=num_2\n",
    "    "
   ]
  },
  {
   "cell_type": "code",
   "execution_count": 5,
   "metadata": {
    "deletable": false,
    "editable": false,
    "nbgrader": {
     "cell_type": "code",
     "checksum": "cef7ab9237cedebfa308589478774d88",
     "grade": true,
     "grade_id": "ej1-test",
     "locked": true,
     "points": 1,
     "schema_version": 3,
     "solution": false,
     "task": false
    }
   },
   "outputs": [
    {
     "name": "stdout",
     "output_type": "stream",
     "text": [
      "Felicidades, realizaste este ejercicio correctamente.\n"
     ]
    }
   ],
   "source": [
    "## PRUEBAS\n",
    "\n",
    "#--------------\n",
    "# INSTANCIA 1\n",
    "#--------------\n",
    "\n",
    "# Base variables\n",
    "num_1 = 7\n",
    "num_2 = 5\n",
    "\n",
    "try:\n",
    "    # Caso 1: no existe la variable.\n",
    "    try:\n",
    "        mayor\n",
    "    except:\n",
    "        raise NotImplementedError(\"No declaraste una variable llamada mayor.\",)\n",
    "        \n",
    "    # Caso 2: el código se ejecuta con errores\n",
    "    try:\n",
    "        exec(_i)\n",
    "    except:\n",
    "        raise RuntimeError(\"Tu código produce un error al ejecutarse.\")\n",
    "    \n",
    "    # Caso 3: el código modifica los parametros del problema\n",
    "    try:\n",
    "        assert num_1 == 7\n",
    "        assert num_2 == 5\n",
    "    except:\n",
    "        raise AssertionError(\"Tu código no debe modificar los datos del problema.\")\n",
    "    \n",
    "    # Caso 4: no es de tipo int.\n",
    "    assert type(mayor) == int, f\"Tu variable mayor no es de tipo {int.__name__}.\"\n",
    "\n",
    "    # Caso 5: el código no utiliza las variables num_1 y num_2\n",
    "    assert _i.find(\"num_1\") >= 0, \"Tu código no utiliza la variable num_1.\"\n",
    "    assert _i.find(\"num_2\") >= 0, \"Tu código no utiliza la variable num_2.\"\n",
    "\n",
    "    # Caso 6: la respuesta es correcta\n",
    "    assert mayor == 7, \"Tu implementación presenta errores cuando num_1 es mayor a num_2.\"\n",
    "        \n",
    "except:\n",
    "    # Restaurar variables base originales\n",
    "    num_1 = 2\n",
    "    num_2 = 3\n",
    "    raise\n",
    "\n",
    "finally:\n",
    "    # Restaurar variables base originales\n",
    "    num_1 = 2\n",
    "    num_2 = 3\n",
    "\n",
    "#--------------\n",
    "# INSTANCIA 2\n",
    "#--------------\n",
    "\n",
    "# Base variables\n",
    "num_1 = 4\n",
    "num_2 = 5\n",
    "\n",
    "try:\n",
    "    # Caso 1: el código se ejecuta con errores\n",
    "    try:\n",
    "        exec(_i)\n",
    "    except:\n",
    "        raise RuntimeError(\"Tu código produce un error al ejecutarse.\")\n",
    "    \n",
    "    # Caso 2: no es de tipo int.\n",
    "    assert type(mayor) == int, f\"Tu variable mayor no es de tipo {int.__name__}.\"\n",
    "\n",
    "    # Caso 3: la respuesta es correcta\n",
    "    assert mayor == 5, \"Tu implementación presenta errores cuando num_2 es mayor a num_1.\"\n",
    "        \n",
    "except:\n",
    "    # Restaurar variables base originales\n",
    "    num_1 = 2\n",
    "    num_2 = 3\n",
    "    raise\n",
    "\n",
    "finally:\n",
    "    # Restaurar variables base originales\n",
    "    num_1 = 2\n",
    "    num_2 = 3   \n",
    "\n",
    "#--------------\n",
    "# INSTANCIA 3\n",
    "#--------------\n",
    "\n",
    "# Base variables\n",
    "num_1 = 2\n",
    "num_2 = 2\n",
    "\n",
    "try:\n",
    "    # Caso 1: el código se ejecuta con errores\n",
    "    try:\n",
    "        exec(_i)\n",
    "    except:\n",
    "        raise RuntimeError(\"Tu código produce un error al ejecutarse.\")\n",
    "    \n",
    "    # Caso 2: no es de tipo int.\n",
    "    assert type(mayor) == int, f\"Tu variable mayor no es de tipo {int.__name__}.\"\n",
    "\n",
    "    # Caso 3: la respuesta es correcta\n",
    "    assert mayor == 2, \"Tu implementación presenta errores cuando num_1 y num_2 son iguales.\"\n",
    "        \n",
    "except:\n",
    "    # Restaurar variables base originales\n",
    "    num_1 = 2\n",
    "    num_2 = 3\n",
    "    raise\n",
    "\n",
    "finally:\n",
    "    # Restaurar variables base originales\n",
    "    num_1 = 2\n",
    "    num_2 = 3\n",
    "\n",
    "# Mensaje de felicitaciones\n",
    "print(\"Felicidades, realizaste este ejercicio correctamente.\")"
   ]
  },
  {
   "cell_type": "markdown",
   "metadata": {
    "deletable": false,
    "editable": false,
    "nbgrader": {
     "cell_type": "markdown",
     "checksum": "05f9b168b186993e57ac1c91e311210d",
     "grade": false,
     "grade_id": "ej2-enun",
     "locked": true,
     "schema_version": 3,
     "solution": false,
     "task": false
    }
   },
   "source": [
    "### Ejercicio 2\n",
    "\n",
    "En la siguiente celda encuentras declarado un elemento y una lista."
   ]
  },
  {
   "cell_type": "code",
   "execution_count": 6,
   "metadata": {
    "deletable": false,
    "editable": false,
    "nbgrader": {
     "cell_type": "code",
     "checksum": "e7f3384df641baedf957d90c6cd714e9",
     "grade": false,
     "grade_id": "ej2-data",
     "locked": true,
     "schema_version": 3,
     "solution": false,
     "task": false
    }
   },
   "outputs": [],
   "source": [
    "# No modifiques esta celda\n",
    "\n",
    "elemento = \"e\"\n",
    "lista = [\"b\", \"c\", \"a\", \"d\"]"
   ]
  },
  {
   "cell_type": "markdown",
   "metadata": {
    "deletable": false,
    "editable": false,
    "nbgrader": {
     "cell_type": "markdown",
     "checksum": "94d621fdce627c4e1cc6de2e674af9df",
     "grade": false,
     "grade_id": "ej2-task",
     "locked": true,
     "schema_version": 3,
     "solution": false,
     "task": false
    }
   },
   "source": [
    "Si `elemento` no pertenece a `lista`, agrégalo. En caso contrario, no modifiques la lista `lista`."
   ]
  },
  {
   "cell_type": "code",
   "execution_count": 9,
   "metadata": {
    "deletable": false,
    "nbgrader": {
     "cell_type": "code",
     "checksum": "289eed4fea8e3d3881a1d30d07b70bbb",
     "grade": false,
     "grade_id": "ej2-sol",
     "locked": false,
     "schema_version": 3,
     "solution": true,
     "task": false
    },
    "respuesta": "1"
   },
   "outputs": [],
   "source": [
    "# YOUR CODE HERE\n",
    "if elemento not in lista:\n",
    "   lista[len(lista):] = elemento\n"
   ]
  },
  {
   "cell_type": "code",
   "execution_count": 10,
   "metadata": {
    "deletable": false,
    "editable": false,
    "nbgrader": {
     "cell_type": "code",
     "checksum": "058085719d8e00945e79eaadb2bac929",
     "grade": true,
     "grade_id": "ej2-test",
     "locked": true,
     "points": 1,
     "schema_version": 3,
     "solution": false,
     "task": false
    }
   },
   "outputs": [
    {
     "name": "stdout",
     "output_type": "stream",
     "text": [
      "Felicidades, realizaste este ejercicio correctamente.\n"
     ]
    }
   ],
   "source": [
    "## PRUEBAS\n",
    "\n",
    "#--------------\n",
    "# INSTANCIA 1\n",
    "#--------------\n",
    "\n",
    "# Base variables\n",
    "elemento = \"y\"\n",
    "lista = [\"x\", \"z\", \"y\", \"w\"]\n",
    "\n",
    "try:\n",
    "    # Caso 1: no existe la variable.\n",
    "    try:\n",
    "        lista\n",
    "    except:\n",
    "        raise NotImplementedError(\"No existe una variable llamada lista.\",)\n",
    "        \n",
    "    # Caso 2: el código se ejecuta con errores\n",
    "    try:\n",
    "        exec(_i)\n",
    "    except:\n",
    "        raise RuntimeError(\"Tu código produce un error al ejecutarse.\")\n",
    "    \n",
    "    # Caso 3: el código modifica los parametros del problema\n",
    "    try:\n",
    "        assert elemento == \"y\"\n",
    "        assert lista == [\"x\", \"z\", \"y\", \"w\"]\n",
    "    except:\n",
    "        raise AssertionError(\"Tu código no debe modificar los datos del problema.\")\n",
    "    \n",
    "    # Caso 4: no es una lista.\n",
    "    assert type(lista) == list, f\"Tu variable lista no es de tipo {list.__name__}.\"\n",
    "    \n",
    "    # Caso 5: el código no utiliza las variables lista y elemento\n",
    "    assert _i.find(\"lista\") >= 0, \"Tu código no utiliza la variable lista.\"\n",
    "    assert _i.find(\"elemento\") >= 0, \"Tu código no utiliza la variable elemento.\"\n",
    "        \n",
    "    # Caso 6: la lista contiene valores de tipo incorrecto\n",
    "    for i in lista:\n",
    "        assert type(i) == str, f\"Tu lista contiene valores que no son de tipo {str.__name__}.\"\n",
    "\n",
    "    # Caso 7: la lista no contiene los valores correctos\n",
    "    try:\n",
    "        assert lista.count('x') >= 1\n",
    "        assert lista.count('y') >= 1\n",
    "        assert lista.count('z') >= 1\n",
    "        assert lista.count('w') >= 1\n",
    "    except AssertionError as e:\n",
    "        e.args += (\"Tu lista no contiene los valores correctos.\",)\n",
    "        raise e\n",
    "\n",
    "    # Caso 8: la lista tiene el tamaño incorrecto\n",
    "    assert len(lista) == 4, \"Tu lista tiene un tamaño mayor al esperado.\"\n",
    "\n",
    "    # Caso 9: la lista es correcta\n",
    "    try:\n",
    "        assert lista[0] == 'x'\n",
    "        assert lista[1] == 'z'\n",
    "        assert lista[2] == 'y'\n",
    "        assert lista[3] == 'w'\n",
    "    except AssertionError as e:\n",
    "        e.args += (\"Los valores de tu lista están desordenados.\",)\n",
    "        raise e\n",
    "        \n",
    "except:\n",
    "    # Restaurar variables base originales\n",
    "    elemento = \"e\"\n",
    "    lista = [\"b\", \"c\", \"a\", \"d\"]\n",
    "    raise\n",
    "\n",
    "finally:\n",
    "    # Restaurar variables base originales\n",
    "    elemento = \"e\"\n",
    "    lista = [\"b\", \"c\", \"a\", \"d\"]\n",
    "\n",
    "#--------------\n",
    "# INSTANCIA 2\n",
    "#--------------\n",
    "\n",
    "# Base variables\n",
    "elemento = \"v\"\n",
    "lista = [\"x\", \"z\", \"y\", \"w\"]\n",
    "\n",
    "try:\n",
    "    # Caso 1: el código se ejecuta con errores\n",
    "    try:\n",
    "        exec(_i)\n",
    "    except:\n",
    "        raise RuntimeError(\"Tu código produce un error al ejecutarse.\")\n",
    "    \n",
    "    # Caso 2: no es una lista.\n",
    "    assert type(lista) == list, f\"Tu variable lista no es de tipo {list.__name__}.\"\n",
    "        \n",
    "    # Caso 3: la lista contiene valores de tipo incorrecto\n",
    "    for i in lista:\n",
    "        assert type(i) == str, f\"Tu lista contiene valores que no son de tipo {str.__name__}.\"\n",
    "\n",
    "    # Caso 4: la lista no contiene los valores correctos\n",
    "    try:\n",
    "        assert lista.count('x') >= 1\n",
    "        assert lista.count('y') >= 1\n",
    "        assert lista.count('z') >= 1\n",
    "        assert lista.count('w') >= 1\n",
    "        assert lista.count('v') >= 1\n",
    "    except AssertionError as e:\n",
    "        e.args += (\"Tu lista no contiene los valores correctos.\",)\n",
    "        raise e\n",
    "\n",
    "    # Caso 5: la lista tiene el tamaño incorrecto\n",
    "    assert len(lista) == 5, \"Tu lista tiene un tamaño mayor al esperado.\"\n",
    "\n",
    "    # Caso 6: la lista es correcta\n",
    "    try:\n",
    "        assert lista[0] == 'x'\n",
    "        assert lista[1] == 'z'\n",
    "        assert lista[2] == 'y'\n",
    "        assert lista[3] == 'w'\n",
    "        assert lista[4] == 'v'\n",
    "    except AssertionError as e:\n",
    "        e.args += (\"Los valores de tu lista están desordenados.\",)\n",
    "        raise e\n",
    "        \n",
    "except:\n",
    "    # Restaurar variables base originales\n",
    "    elemento = \"e\"\n",
    "    lista = [\"b\", \"c\", \"a\", \"d\"]\n",
    "    raise\n",
    "\n",
    "finally:\n",
    "    # Restaurar variables base originales\n",
    "    elemento = \"e\"\n",
    "    lista = [\"b\", \"c\", \"a\", \"d\"]\n",
    "\n",
    "# Mensaje de felicitaciones\n",
    "print(\"Felicidades, realizaste este ejercicio correctamente.\")"
   ]
  },
  {
   "cell_type": "markdown",
   "metadata": {
    "deletable": false,
    "editable": false,
    "nbgrader": {
     "cell_type": "markdown",
     "checksum": "3e0b0e174ede015b0612e226d7a74dfb",
     "grade": false,
     "grade_id": "ej3-enun",
     "locked": true,
     "schema_version": 3,
     "solution": false,
     "task": false
    }
   },
   "source": [
    "### Ejercicio 3\n",
    "\n",
    "En la siguiente celda encuentras declaradas dos variables que almacenan números enteros."
   ]
  },
  {
   "cell_type": "code",
   "execution_count": 11,
   "metadata": {
    "deletable": false,
    "editable": false,
    "nbgrader": {
     "cell_type": "code",
     "checksum": "defc0061a11b84ca6183584ccb165445",
     "grade": false,
     "grade_id": "ej3-data",
     "locked": true,
     "schema_version": 3,
     "solution": false,
     "task": false
    }
   },
   "outputs": [],
   "source": [
    "# No modifiques esta celda\n",
    "\n",
    "num = 7\n",
    "divisor = 3"
   ]
  },
  {
   "cell_type": "markdown",
   "metadata": {
    "deletable": false,
    "editable": false,
    "nbgrader": {
     "cell_type": "markdown",
     "checksum": "3bbc39cb9fa3ec8a6c6a1d19265d5814",
     "grade": false,
     "grade_id": "ej3-task",
     "locked": true,
     "schema_version": 3,
     "solution": false,
     "task": false
    }
   },
   "source": [
    "Si el resultado de la división entre `num` y `divisor` (`num`/`divisor`) es un número entero, almacénalo en una variable llamada `division_o_residuo`. De lo contrario, almacena en la variable `division_o_residuo` el residuo de la división."
   ]
  },
  {
   "cell_type": "code",
   "execution_count": 12,
   "metadata": {
    "deletable": false,
    "nbgrader": {
     "cell_type": "code",
     "checksum": "e32e96e55bd4d8d3b7612a3b109d0ad9",
     "grade": false,
     "grade_id": "ej3-sol",
     "locked": false,
     "schema_version": 3,
     "solution": true,
     "task": false
    },
    "respuesta": "1"
   },
   "outputs": [],
   "source": [
    "# YOUR CODE HERE\n",
    "\n",
    "if num%divisor==0:\n",
    "    division_o_residuo=num/divisor\n",
    "else:\n",
    "    division_o_residuo=num%divisor\n",
    "    "
   ]
  },
  {
   "cell_type": "code",
   "execution_count": 13,
   "metadata": {
    "deletable": false,
    "editable": false,
    "nbgrader": {
     "cell_type": "code",
     "checksum": "0cc8b4e9b0e1d644a561fcfaf80242ac",
     "grade": true,
     "grade_id": "ej3-test",
     "locked": true,
     "points": 1,
     "schema_version": 3,
     "solution": false,
     "task": false
    }
   },
   "outputs": [
    {
     "name": "stdout",
     "output_type": "stream",
     "text": [
      "Felicidades, realizaste este ejercicio correctamente.\n"
     ]
    }
   ],
   "source": [
    "## PRUEBAS\n",
    "\n",
    "#--------------\n",
    "# INSTANCIA 1\n",
    "#--------------\n",
    "\n",
    "# Base variables\n",
    "num = 6\n",
    "divisor = 3\n",
    "\n",
    "try:\n",
    "    # Caso 1: no existe la variable.\n",
    "    try:\n",
    "        division_o_residuo\n",
    "    except:\n",
    "        raise NotImplementedError(\"No declaraste una variable llamada division_o_residuo.\",)\n",
    "        \n",
    "    # Caso 2: el código se ejecuta con errores\n",
    "    try:\n",
    "        exec(_i)\n",
    "    except:\n",
    "        raise RuntimeError(\"Tu código produce un error al ejecutarse.\")\n",
    "    \n",
    "    # Caso 3: el código modifica los parametros del problema\n",
    "    try:\n",
    "        assert num == 6\n",
    "        assert divisor == 3\n",
    "    except:\n",
    "        raise AssertionError(\"Tu código no debe modificar los datos del problema.\")\n",
    "    \n",
    "    # Caso 4: no es de tipo float.\n",
    "    assert type(division_o_residuo) == float, f\"Tu variable division_o_residuo no es de tipo {float.__name__}.\"\n",
    "\n",
    "    # Caso 5: el código no utiliza las variables num y divisor\n",
    "    assert _i.find(\"num\") >= 0, \"Tu código no utiliza la variable num.\"\n",
    "    assert _i.find(\"divisor\") >= 0, \"Tu código no utiliza la variable divisor.\"\n",
    "\n",
    "    # Caso 6: la respuesta es correcta\n",
    "    assert division_o_residuo == 2, \"Tu implementación presenta errores cuando el resultado de la división entre num y divisor es un número entero.\"\n",
    "        \n",
    "except:\n",
    "    # Restaurar variables base originales\n",
    "    num = 7\n",
    "    divisor = 3\n",
    "    raise\n",
    "\n",
    "finally:\n",
    "    # Restaurar variables base originales\n",
    "    num = 7\n",
    "    divisor = 3\n",
    "\n",
    "#--------------\n",
    "# INSTANCIA 2\n",
    "#--------------\n",
    "\n",
    "# Base variables\n",
    "num = 7\n",
    "divisor = 4\n",
    "\n",
    "try:\n",
    "    # Caso 1: el código se ejecuta con errores\n",
    "    try:\n",
    "        exec(_i)\n",
    "    except:\n",
    "        raise RuntimeError(\"Tu código produce un error al ejecutarse.\")\n",
    "    \n",
    "    # Caso 2: no es de tipo int.\n",
    "    assert type(division_o_residuo) == int, f\"Tu variable division_o_residuo no es de tipo {int.__name__}.\"\n",
    "\n",
    "    # Caso 3: la respuesta es correcta\n",
    "    assert division_o_residuo == 3, \"Tu implementación presenta errores cuando el resultado de la división entre num y divisor NO es un número entero.\"\n",
    "    \n",
    "except:\n",
    "    # Restaurar variables base originales\n",
    "    num = 7\n",
    "    divisor = 3\n",
    "    raise\n",
    "\n",
    "finally:\n",
    "    # Restaurar variables base originales\n",
    "    num = 7\n",
    "    divisor = 3\n",
    "\n",
    "# Mensaje de felicitaciones\n",
    "print(\"Felicidades, realizaste este ejercicio correctamente.\")"
   ]
  },
  {
   "cell_type": "markdown",
   "metadata": {
    "deletable": false,
    "editable": false,
    "nbgrader": {
     "cell_type": "markdown",
     "checksum": "f7d9896114ba48b9fc52659131dad312",
     "grade": false,
     "grade_id": "ej4-enun",
     "locked": true,
     "schema_version": 3,
     "solution": false,
     "task": false
    }
   },
   "source": [
    "### Ejercicio 4\n",
    "\n",
    "En la siguiente celda encuentras la velocidad (km/h) que registraron cuatro competidores en una carrera de atletismo."
   ]
  },
  {
   "cell_type": "code",
   "execution_count": 14,
   "metadata": {
    "deletable": false,
    "editable": false,
    "nbgrader": {
     "cell_type": "code",
     "checksum": "f93275469dc7eb901c0cae5991d27962",
     "grade": false,
     "grade_id": "ej4-data",
     "locked": true,
     "schema_version": 3,
     "solution": false,
     "task": false
    }
   },
   "outputs": [],
   "source": [
    "# No modifiques esta celda\n",
    "\n",
    "vel_Camilo = 10.5\n",
    "vel_Esteban = 9.3\n",
    "vel_Alejandro = 9.8\n",
    "vel_David = 10.2"
   ]
  },
  {
   "cell_type": "markdown",
   "metadata": {
    "deletable": false,
    "editable": false,
    "nbgrader": {
     "cell_type": "markdown",
     "checksum": "6c5327611699b09221f2501c64889ced",
     "grade": false,
     "grade_id": "ej4-task",
     "locked": true,
     "schema_version": 3,
     "solution": false,
     "task": false
    }
   },
   "source": [
    "Escribe el código que determina cuál fue el competidor más rápido de la carrera y  almacena su nombre en una variable llamada `mas_rapido`."
   ]
  },
  {
   "cell_type": "code",
   "execution_count": 15,
   "metadata": {
    "deletable": false,
    "nbgrader": {
     "cell_type": "code",
     "checksum": "ab1b934e5066adf602438708d3c79811",
     "grade": false,
     "grade_id": "ej4-sol",
     "locked": false,
     "schema_version": 3,
     "solution": true,
     "task": false
    },
    "respuesta": "1"
   },
   "outputs": [],
   "source": [
    "# YOUR CODE HERE\n",
    "lista=[vel_Camilo,\n",
    "       vel_Esteban,\n",
    "       vel_Alejandro,\n",
    "       vel_David]\n",
    "\n",
    "if vel_Camilo==max(lista):\n",
    "    mas_rapido=\"Camilo\"\n",
    "elif vel_Esteban==max(lista):\n",
    "    mas_rapido=\"Esteban\"\n",
    "elif vel_Alejandro==max(lista):\n",
    "    mas_rapido=\"Alejandro\"\n",
    "elif vel_David==max(lista):\n",
    "    mas_rapido=\"David\""
   ]
  },
  {
   "cell_type": "code",
   "execution_count": 16,
   "metadata": {
    "deletable": false,
    "editable": false,
    "nbgrader": {
     "cell_type": "code",
     "checksum": "b6ef4183a51028dc8e8f55d3ec4dd9a5",
     "grade": true,
     "grade_id": "ej4-test",
     "locked": true,
     "points": 1,
     "schema_version": 3,
     "solution": false,
     "task": false
    }
   },
   "outputs": [
    {
     "name": "stdout",
     "output_type": "stream",
     "text": [
      "Felicidades, realizaste este ejercicio correctamente.\n"
     ]
    }
   ],
   "source": [
    "## PRUEBAS\n",
    "\n",
    "#--------------\n",
    "# INSTANCIA 1\n",
    "#--------------\n",
    "\n",
    "# Base variables\n",
    "vel_Camilo = 10\n",
    "vel_Esteban = 11\n",
    "vel_Alejandro = 9\n",
    "vel_David = 9.5\n",
    "\n",
    "try:\n",
    "    # Caso 1: no existe la variable.\n",
    "    try:\n",
    "        mas_rapido\n",
    "    except:\n",
    "        raise NotImplementedError(\"No declaraste una variable llamada mas_rapido.\",)\n",
    "\n",
    "    # Caso 2: el código se ejecuta con errores\n",
    "    try:\n",
    "        exec(_i)\n",
    "    except:\n",
    "        raise RuntimeError(\"Tu código produce un error al ejecutarse.\")\n",
    "    \n",
    "    # Caso 3: el código modifica los parametros del problema\n",
    "    try:\n",
    "        assert vel_Camilo == 10\n",
    "        assert vel_Esteban == 11\n",
    "        assert vel_Alejandro == 9\n",
    "        assert vel_David == 9.5\n",
    "    except:\n",
    "        raise AssertionError(\"Tu código no debe modificar los datos del problema.\")\n",
    "    \n",
    "    # Caso 4: no es de tipo str.\n",
    "    assert type(mas_rapido) == str, f\"Tu variable mas_rapido no es de tipo {str.__name__}.\"\n",
    "\n",
    "    # Caso 5: el código no utiliza las variables vel_Camilo, vel_Alejandro, vel_David y vel_Esteban\n",
    "    assert _i.find(\"vel_Camilo\") >= 0, \"Tu código no utiliza la variable vel_Camilo.\"\n",
    "    assert _i.find(\"vel_Esteban\") >= 0, \"Tu código no utiliza la variable vel_Esteban.\"\n",
    "    assert _i.find(\"vel_Alejandro\") >= 0, \"Tu código no utiliza la variable vel_Alejandro.\"\n",
    "    assert _i.find(\"vel_David\") >= 0, \"Tu código no utiliza la variable vel_David.\"\n",
    "\n",
    "    # Caso 6: la respuesta es correcta\n",
    "    assert mas_rapido == 'Esteban', \"Tu respuesta es incorrecta.\"\n",
    "        \n",
    "except:\n",
    "    # Restaurar variables base originales\n",
    "    vel_Camilo = 10.5\n",
    "    vel_Esteban = 9.3\n",
    "    vel_Alejandro = 9.8\n",
    "    vel_David = 10.2\n",
    "    raise\n",
    "\n",
    "finally:\n",
    "    # Restaurar variables base originales\n",
    "    vel_Camilo = 10.5\n",
    "    vel_Esteban = 9.3\n",
    "    vel_Alejandro = 9.8\n",
    "    vel_David = 10.2\n",
    "    \n",
    "#--------------\n",
    "# INSTANCIA 2\n",
    "#--------------\n",
    "\n",
    "# Base variables\n",
    "vel_Camilo = 10.5\n",
    "vel_Esteban = 9.3\n",
    "vel_Alejandro = 9.8\n",
    "vel_David = 10.2\n",
    "\n",
    "try:\n",
    "    # Caso 1: no existe la variable.\n",
    "    try:\n",
    "        mas_rapido\n",
    "    except:\n",
    "        raise NotImplementedError(\"No declaraste una variable llamada mas_rapido.\",)\n",
    "\n",
    "    # Caso 2: el código se ejecuta con errores\n",
    "    try:\n",
    "        exec(_i)\n",
    "    except:\n",
    "        raise RuntimeError(\"Tu código produce un error al ejecutarse.\")\n",
    "    \n",
    "    # Caso 3: el código modifica los parametros del problema\n",
    "    try:\n",
    "        assert vel_Camilo == 10.5\n",
    "        assert vel_Esteban == 9.3\n",
    "        assert vel_Alejandro == 9.8\n",
    "        assert vel_David == 10.2\n",
    "    except:\n",
    "        raise AssertionError(\"Tu código no debe modificar los datos del problema.\")\n",
    "    \n",
    "    # Caso 4: no es de tipo str.\n",
    "    assert type(mas_rapido) == str, f\"Tu variable mas_rapido no es de tipo {str.__name__}.\"\n",
    "\n",
    "    # Caso 5: el código no utiliza las variables vel_Camilo, vel_Alejandro, vel_David y vel_Esteban\n",
    "    assert _i.find(\"vel_Camilo\") >= 0, \"Tu código no utiliza la variable vel_Camilo.\"\n",
    "    assert _i.find(\"vel_Esteban\") >= 0, \"Tu código no utiliza la variable vel_Esteban.\"\n",
    "    assert _i.find(\"vel_Alejandro\") >= 0, \"Tu código no utiliza la variable vel_Alejandro.\"\n",
    "    assert _i.find(\"vel_David\") >= 0, \"Tu código no utiliza la variable vel_David.\"\n",
    "\n",
    "    # Caso 6: la respuesta es correcta\n",
    "    assert mas_rapido == 'Camilo', \"Tu respuesta es incorrecta.\"\n",
    "        \n",
    "except:\n",
    "    # Restaurar variables base originales\n",
    "    vel_Camilo = 10.5\n",
    "    vel_Esteban = 9.3\n",
    "    vel_Alejandro = 9.8\n",
    "    vel_David = 10.2\n",
    "    raise\n",
    "\n",
    "finally:\n",
    "    # Restaurar variables base originales\n",
    "    vel_Camilo = 10.5\n",
    "    vel_Esteban = 9.3\n",
    "    vel_Alejandro = 9.8\n",
    "    vel_David = 10.2\n",
    "\n",
    "# Mensaje de felicitaciones\n",
    "print(\"Felicidades, realizaste este ejercicio correctamente.\")"
   ]
  },
  {
   "cell_type": "markdown",
   "metadata": {
    "deletable": false,
    "editable": false,
    "nbgrader": {
     "cell_type": "markdown",
     "checksum": "5c99f2de5112d6d838fac4326feb62c7",
     "grade": false,
     "grade_id": "ej5-enun",
     "locked": true,
     "schema_version": 3,
     "solution": false,
     "task": false
    }
   },
   "source": [
    "### Ejercicio 5\n",
    "\n",
    "El gerente de una tienda de ropa desea tener información acerca de la ocupación de su local. En la siguiente celda encuentras el número actual de visitantes y la capacidad máxima del local."
   ]
  },
  {
   "cell_type": "code",
   "execution_count": 32,
   "metadata": {
    "deletable": false,
    "editable": false,
    "nbgrader": {
     "cell_type": "code",
     "checksum": "a957bb9ca18107544222039b960047ca",
     "grade": false,
     "grade_id": "ej5-data",
     "locked": true,
     "schema_version": 3,
     "solution": false,
     "task": false
    }
   },
   "outputs": [],
   "source": [
    "# No modifiques esta celda\n",
    "\n",
    "num_actual = 20\n",
    "cap_maxima = 45"
   ]
  },
  {
   "cell_type": "markdown",
   "metadata": {
    "deletable": false,
    "editable": false,
    "nbgrader": {
     "cell_type": "markdown",
     "checksum": "c9853287ce62fca13ec7e97489ab6877",
     "grade": false,
     "grade_id": "ej5-task",
     "locked": true,
     "schema_version": 3,
     "solution": false,
     "task": false
    }
   },
   "source": [
    "Según las indicaciones del gerente, si el número actual de visitantes es menor o igual al 40% de la capacidad máxima, se considera que el nivel de ocupación es `\"Bajo”`; si el número actual de visitantes es mayor al 40% y menor o igual al 80% de la capacidad máxima, se considera que el nivel de ocupación es `\"Medio”`; y si el número actual de visitantes es mayor al 80% de la capacidad máxima, se considera que el nivel de ocupación es `\"Alto”`. \n",
    "\n",
    "Además, al gerente le interesa saber el valor de un indicador según el nivel de ocupación. Si el nivel de ocupación es `\"Bajo”`, le interesa saber el número actual de visitantes; si el nivel de ocupación es `\"Medio”`, le interesa saber el porcentaje de ocupación (`num_actual/cap_maxima`); y si el nivel de ocupación es `\"Alto”`, le interesa saber la diferencia entre la capacidad máxima y el número actual de visitantes.\n",
    "\n",
    "Almacena en una lista con nombre `info` los siguientes dos elementos en el orden en el que se presentan a continuación:\n",
    "1. El nivel de ocupación (`\"Bajo”`, `\"Medio”`, `\"Alto”`).\n",
    "2. El indicador de interés para el gerente según el nivel de ocupación."
   ]
  },
  {
   "cell_type": "code",
   "execution_count": 38,
   "metadata": {
    "deletable": false,
    "nbgrader": {
     "cell_type": "code",
     "checksum": "b43106e57f785bab57014974dcebd285",
     "grade": false,
     "grade_id": "ej5-sol",
     "locked": false,
     "schema_version": 3,
     "solution": true,
     "task": false
    }
   },
   "outputs": [
    {
     "data": {
      "text/plain": [
       "['Medio', 0.4444444444444444]"
      ]
     },
     "execution_count": 38,
     "metadata": {},
     "output_type": "execute_result"
    }
   ],
   "source": [
    "# YOUR CODE HERE\n",
    "\n",
    "porcentaje_de_ocupacion= num_actual/cap_maxima\n",
    "diferencia=cap_maxima - num_actual\n",
    "\n",
    "info=[]\n",
    "\n",
    "if num_actual/ cap_maxima <=0.4:\n",
    "    info.append(\"Bajo\")\n",
    "    info.append(num_actual)\n",
    "elif num_actual/ cap_maxima > 0.4 and porcentaje_de_ocupacion<=0.8:\n",
    "    info.append(\"Medio\")\n",
    "    info.append(porcentaje_de_ocupacion) \n",
    "elif num_actual/ cap_maxima >0.8:\n",
    "    info.append(\"Alto\")\n",
    "    info.append(diferencia)\n",
    "info"
   ]
  },
  {
   "cell_type": "code",
   "execution_count": 39,
   "metadata": {
    "deletable": false,
    "editable": false,
    "nbgrader": {
     "cell_type": "code",
     "checksum": "8eb9d0fe5a2e60b2a7ccbeb2ac157452",
     "grade": true,
     "grade_id": "ej5-test",
     "locked": true,
     "points": 1,
     "schema_version": 3,
     "solution": false,
     "task": false
    }
   },
   "outputs": [
    {
     "name": "stdout",
     "output_type": "stream",
     "text": [
      "Felicidades, realizaste este ejercicio correctamente.\n"
     ]
    }
   ],
   "source": [
    "## PRUEBAS\n",
    "\n",
    "#--------------\n",
    "# INSTANCIA 1\n",
    "#--------------\n",
    "\n",
    "# Base variables\n",
    "num_actual = 35\n",
    "cap_maxima = 40\n",
    "\n",
    "try:\n",
    "    # Caso 1: no existe la variable.\n",
    "    try:\n",
    "        info\n",
    "    except:\n",
    "        raise NotImplementedError(\"No declaraste una variable llamada info.\",)\n",
    "    \n",
    "    # Caso 2: el código se ejecuta con errores\n",
    "    try:\n",
    "        exec(_i)\n",
    "    except:\n",
    "        raise RuntimeError(\"Tu código produce un error al ejecutarse.\")\n",
    "    \n",
    "    # Caso 3: el código modifica los parametros del problema\n",
    "    try:\n",
    "        assert num_actual == 35\n",
    "        assert cap_maxima == 40\n",
    "    except:\n",
    "        raise AssertionError(\"Tu código no debe modificar los datos del problema.\")\n",
    "    \n",
    "    # Caso 4: no es una lista.\n",
    "    assert type(info) == list, f\"Tu variable info no es de tipo {list.__name__}.\"\n",
    "    \n",
    "    # Caso 5: el código no utiliza las variables num_actual y cap_maxima\n",
    "    assert _i.find(\"num_actual\") >= 0, \"Tu código no utiliza la variable num_actual.\"\n",
    "    assert _i.find(\"cap_maxima\") >= 0, \"Tu código no utiliza la variable cap_maxima.\"\n",
    "    \n",
    "    # Caso 6: la lista tiene el tamaño incorrecto\n",
    "    assert len(info) == 2, \"Tu lista no tiene el tamaño correcto.\"\n",
    "        \n",
    "    # Caso 7: la lista contiene valores de tipo incorrecto\n",
    "    assert type(info[0]) == str, f\"La primera posición de tu lista contiene un valor que no es de tipo {str.__name__}.\"\n",
    "    assert type(info[1]) == int, f\"La segunda posición de tu lista contiene un valor que no es de tipo {int.__name__}.\"\n",
    "\n",
    "    # Caso 8: la lista es correcta\n",
    "    assert info[0] == 'Alto', \"El nivel de ocupación de tu respuesta es incorrecto cuando el porcentaje de ocupación es mayor al 80%.\"\n",
    "    assert info[1] == 5, \"El indicador de tu respuesta es incorrecto cuando el nivel de ocupación es: Alto.\"\n",
    "        \n",
    "except:\n",
    "    # Restaurar variables base originales\n",
    "    num_actual = 20\n",
    "    cap_maxima = 45\n",
    "    raise\n",
    "\n",
    "finally:\n",
    "    # Restaurar variables base originales\n",
    "    num_actual = 20\n",
    "    cap_maxima = 45\n",
    "\n",
    "#--------------\n",
    "# INSTANCIA 2\n",
    "#--------------\n",
    "\n",
    "# Base variables\n",
    "num_actual = 20\n",
    "cap_maxima = 40\n",
    "\n",
    "try:\n",
    "    # Caso 1: el código se ejecuta con errores\n",
    "    try:\n",
    "        exec(_i)\n",
    "    except:\n",
    "        raise RuntimeError(\"Tu código produce un error al ejecutarse.\")\n",
    "    \n",
    "    # Caso 2: no es una lista.\n",
    "    assert type(info) == list, f\"Tu variable info no es de tipo {list.__name__}.\"\n",
    "    \n",
    "    # Caso 3: la lista tiene el tamaño incorrecto\n",
    "    assert len(info) == 2, \"Tu lista no tiene el tamaño correcto.\"\n",
    "        \n",
    "    # Caso 4: la lista contiene valores de tipo incorrecto\n",
    "    assert type(info[0]) == str, f\"La primera posición de tu lista contiene un valor que no es de tipo {str.__name__}.\"\n",
    "    assert type(info[1]) == float, f\"La segunda posición de tu lista contiene un valor que no es de tipo {float.__name__}.\"\n",
    "\n",
    "    # Caso 5: la lista es correcta\n",
    "    assert info[0] == 'Medio', \"El nivel de ocupación de tu respuesta es incorrecto cuando el porcentaje de ocupación es mayor al 40% y menor o igual al 80%.\"\n",
    "    assert info[1] == 0.5, \"El indicador de tu respuesta es incorrecto cuando el nivel de ocupación es: Medio.\"\n",
    "        \n",
    "except:\n",
    "    # Restaurar variables base originales\n",
    "    num_actual = 20\n",
    "    cap_maxima = 45\n",
    "    raise\n",
    "\n",
    "finally:\n",
    "    # Restaurar variables base originales\n",
    "    num_actual = 20\n",
    "    cap_maxima = 45\n",
    "\n",
    "#--------------\n",
    "# INSTANCIA 3\n",
    "#--------------\n",
    "\n",
    "# Base variables\n",
    "num_actual = 10\n",
    "cap_maxima = 40\n",
    "\n",
    "try:\n",
    "    # Caso 1: el código se ejecuta con errores\n",
    "    try:\n",
    "        exec(_i)\n",
    "    except:\n",
    "        raise RuntimeError(\"Tu código produce un error al ejecutarse.\")\n",
    "    \n",
    "    # Caso 2: no es una lista.\n",
    "    assert type(info) == list, f\"Tu variable info no es de tipo {list.__name__}.\"\n",
    "    \n",
    "    # Caso 3: la lista tiene el tamaño incorrecto\n",
    "    assert len(info) == 2, \"Tu lista no tiene el tamaño correcto.\"\n",
    "        \n",
    "    # Caso 4: la lista contiene valores de tipo incorrecto\n",
    "    assert type(info[0]) == str, f\"La primera posición de tu lista contiene un valor que no es de tipo {str.__name__}.\"\n",
    "    assert type(info[1]) == int, f\"La segunda posición de tu lista contiene un valor que no es de tipo {int.__name__}.\"\n",
    "\n",
    "    # Caso 5: la lista es correcta\n",
    "    assert info[0] == 'Bajo', \"El nivel de ocupación de tu respuesta es incorrecto cuando el porcentaje de ocupación es menor o igual al 40%.\"\n",
    "    assert info[1] == 10, \"El indicador de tu respuesta es incorrecto cuando el nivel de ocupación es: Bajo.\"\n",
    "        \n",
    "except:\n",
    "    # Restaurar variables base originales\n",
    "    num_actual = 20\n",
    "    cap_maxima = 45\n",
    "    raise\n",
    "\n",
    "finally:\n",
    "    # Restaurar variables base originales\n",
    "    num_actual = 20\n",
    "    cap_maxima = 45\n",
    "\n",
    "# Mensaje de felicitaciones\n",
    "print(\"Felicidades, realizaste este ejercicio correctamente.\")"
   ]
  },
  {
   "cell_type": "markdown",
   "metadata": {
    "deletable": false,
    "editable": false,
    "nbgrader": {
     "cell_type": "markdown",
     "checksum": "6a782f9333af7a212dec6167d5171447",
     "grade": false,
     "grade_id": "ej6-enun",
     "locked": true,
     "schema_version": 3,
     "solution": false,
     "task": false
    }
   },
   "source": [
    "### Ejercicio 6\n",
    "\n",
    "Pizzeria Uniandes tiene dos tipos de ingredientes para sus pizzas:\n",
    "\n",
    "1. Vegetarianos\n",
    "2. No-vegetarianos\n",
    "\n",
    "Un cliente puede pedir tres ingredientes para su pizza. Si ninguno de los ingredientes es vegetariano, la pizza se categoriza como `'No vegetariana'`; si uno o dos de los ingredientes es vegetariano, la pizza se clasifica como `'Semi vegetariana'`; y si todos ingredientes son vegetarianos, la pizza se clasifica como `'Vegetariana'`.\n",
    "\n",
    "En la siguiente celda encuentras las dos listas de ingredientes y tres ingredientes para crear una pizza."
   ]
  },
  {
   "cell_type": "code",
   "execution_count": 2,
   "metadata": {
    "deletable": false,
    "editable": false,
    "nbgrader": {
     "cell_type": "code",
     "checksum": "1592991a28ec7194d172b22d4b02cceb",
     "grade": false,
     "grade_id": "ej6-data",
     "locked": true,
     "schema_version": 3,
     "solution": false,
     "task": false
    }
   },
   "outputs": [],
   "source": [
    "# No modifiques esta celda\n",
    "\n",
    "vegetarianos = ['Tomate', 'Champiñones', 'Cebolla']\n",
    "no_vegetarianos = ['Pepperoni', 'Pollo', 'Jamón']\n",
    "\n",
    "ingrediente_1 = 'Champiñones'\n",
    "ingrediente_2 = 'Pollo'\n",
    "ingrediente_3 = 'Cebolla'"
   ]
  },
  {
   "cell_type": "markdown",
   "metadata": {
    "deletable": false,
    "editable": false,
    "nbgrader": {
     "cell_type": "markdown",
     "checksum": "7212d853a0662ba04b8c1f0b9c50c760",
     "grade": false,
     "grade_id": "ej6-task",
     "locked": true,
     "schema_version": 3,
     "solution": false,
     "task": false
    }
   },
   "source": [
    "Almacena en una variable, con nombre `tipo`, la categoría (`'No vegetariana'`, `'Semi vegetariana'`, `'Vegetariana'`) correspondiente a la pizza creada a partir de los tres ingredientes declarados en la celda anterior. "
   ]
  },
  {
   "cell_type": "code",
   "execution_count": 5,
   "metadata": {
    "deletable": false,
    "nbgrader": {
     "cell_type": "code",
     "checksum": "f05f66fe96721863fcd8f5273044e584",
     "grade": false,
     "grade_id": "ej6-sol",
     "locked": false,
     "schema_version": 3,
     "solution": true,
     "task": false
    }
   },
   "outputs": [],
   "source": [
    "# YOUR CODE HERE\n",
    "\n",
    "if ingrediente_1 in vegetarianos:\n",
    "    if ingrediente_2 in vegetarianos:\n",
    "        if ingrediente_3 in vegetarianos:\n",
    "            tipo=\"Vegetariana\"\n",
    "        else:\n",
    "            tipo=\"Semi Vegetariana\"\n",
    "    else:\n",
    "        if ingrediente_3 in vegetarianos:\n",
    "            tipo=\"Semi vegetariana\"\n",
    "        else: \n",
    "            tipo=\"Semi vegetariana\"\n",
    "else:\n",
    "    if ingrediente_2 in vegetarianos:\n",
    "        if ingrediente_3 in vegetarianos:\n",
    "            tipo=\"Semi vegetariana\"\n",
    "        else:\n",
    "            tipo=\"Semi vegetariana\"\n",
    "    else:\n",
    "        if ingrediente_3 in vegetarianos:\n",
    "            tipo=\"Semi vegetariana\"\n",
    "        else:\n",
    "            tipo=\"No vegetariana\"\n",
    "\n",
    "\n",
    "\n",
    "\n"
   ]
  },
  {
   "cell_type": "code",
   "execution_count": 6,
   "metadata": {
    "deletable": false,
    "editable": false,
    "nbgrader": {
     "cell_type": "code",
     "checksum": "05782c4c4f6a97f2cd7b1dbc0c8cf1fc",
     "grade": true,
     "grade_id": "ej6-test",
     "locked": true,
     "points": 1,
     "schema_version": 3,
     "solution": false,
     "task": false
    }
   },
   "outputs": [
    {
     "name": "stdout",
     "output_type": "stream",
     "text": [
      "Felicidades, realizaste este ejercicio correctamente.\n"
     ]
    }
   ],
   "source": [
    "## PRUEBAS\n",
    "\n",
    "#--------------\n",
    "# INSTANCIA 1\n",
    "#--------------\n",
    "\n",
    "# Base variables\n",
    "vegetarianos = ['Tomate', 'Champiñones', 'Pimenton']\n",
    "no_vegetarianos = ['Salami', 'Pollo', 'Jamón']\n",
    "\n",
    "ingrediente_1 = 'Pollo'\n",
    "ingrediente_2 = 'Salami'\n",
    "ingrediente_3 = 'Jamón'\n",
    "\n",
    "try:\n",
    "    # Caso 1: no existe la variable.\n",
    "    try:\n",
    "        tipo\n",
    "    except:\n",
    "        raise NotImplementedError(\"No declaraste una variable llamada tipo.\",)    \n",
    "\n",
    "    # Caso 2: el código se ejecuta con errores\n",
    "    try:\n",
    "        exec(_i)\n",
    "    except:\n",
    "        raise RuntimeError(\"Tu código produce un error al ejecutarse.\")\n",
    "    \n",
    "    # Caso 3: el código modifica los parametros del problema\n",
    "    try:\n",
    "        assert vegetarianos == ['Tomate', 'Champiñones', 'Pimenton']\n",
    "        assert no_vegetarianos == ['Salami', 'Pollo', 'Jamón']\n",
    "        assert ingrediente_1 == 'Pollo'\n",
    "        assert ingrediente_2 == 'Salami'\n",
    "        assert ingrediente_3 == 'Jamón'\n",
    "    except:\n",
    "        raise AssertionError(\"Tu código no debe modificar los datos del problema.\")\n",
    "        \n",
    "    # Caso 4: no es de tipo str.\n",
    "    assert type(tipo) == str, f\"Tu variable tipo no es de tipo {str.__name__}.\"\n",
    "\n",
    "    # Caso 5: el código no utiliza las variables ingrediente_1, ingrediente_2 e ingrediente_3\n",
    "    assert _i.find(\"ingrediente_1\") >= 0, \"Tu código no utiliza la variable ingrediente_1.\"\n",
    "    assert _i.find(\"ingrediente_2\") >= 0, \"Tu código no utiliza la variable ingrediente_2.\"\n",
    "    assert _i.find(\"ingrediente_3\") >= 0, \"Tu código no utiliza la variable ingrediente_3.\"\n",
    "\n",
    "    # Caso 6: la respuesta es correcta\n",
    "    assert tipo == 'No vegetariana', \"Tu implementación presenta errores cuando el tipo de una pizza es: No vegetariana.\"\n",
    "        \n",
    "except:\n",
    "    # Restaurar variables base originales\n",
    "    vegetarianos = ['Tomate', 'Champiñones', 'Cebolla']\n",
    "    no_vegetarianos = ['Pepperoni', 'Pollo', 'Jamón']\n",
    "    ingrediente_1 = 'Champiñones'\n",
    "    ingrediente_2 = 'Pollo'\n",
    "    ingrediente_3 = 'Cebolla'\n",
    "    raise\n",
    "\n",
    "finally:\n",
    "    # Restaurar variables base originales\n",
    "    vegetarianos = ['Tomate', 'Champiñones', 'Cebolla']\n",
    "    no_vegetarianos = ['Pepperoni', 'Pollo', 'Jamón']\n",
    "    ingrediente_1 = 'Champiñones'\n",
    "    ingrediente_2 = 'Pollo'\n",
    "    ingrediente_3 = 'Cebolla'\n",
    "\n",
    "#--------------\n",
    "# INSTANCIA 2\n",
    "#--------------\n",
    "\n",
    "# Base variables\n",
    "vegetarianos = ['Tomate', 'Champiñones', 'Pimenton']\n",
    "no_vegetarianos = ['Salami', 'Pollo', 'Jamón']\n",
    "\n",
    "ingrediente_1 = 'Pimenton'\n",
    "ingrediente_2 = 'Champiñones'\n",
    "ingrediente_3 = 'Tomate'\n",
    "\n",
    "try:\n",
    "    # Caso 1: el código se ejecuta con errores\n",
    "    try:\n",
    "        exec(_i)\n",
    "    except:\n",
    "        raise RuntimeError(\"Tu código produce un error al ejecutarse.\")\n",
    "        \n",
    "    # Caso 2: no es de tipo str.\n",
    "    assert type(tipo) == str, f\"Tu variable tipo no es de tipo {str.__name__}.\"\n",
    "\n",
    "    # Caso 3: la respuesta es correcta\n",
    "    assert tipo == 'Vegetariana', \"Tu implementación presenta errores cuando el tipo de una pizza es: Vegetariana.\"\n",
    "        \n",
    "except:\n",
    "    # Restaurar variables base originales\n",
    "    vegetarianos = ['Tomate', 'Champiñones', 'Cebolla']\n",
    "    no_vegetarianos = ['Pepperoni', 'Pollo', 'Jamón']\n",
    "    ingrediente_1 = 'Champiñones'\n",
    "    ingrediente_2 = 'Pollo'\n",
    "    ingrediente_3 = 'Cebolla'\n",
    "    raise\n",
    "\n",
    "finally:\n",
    "    # Restaurar variables base originales\n",
    "    vegetarianos = ['Tomate', 'Champiñones', 'Cebolla']\n",
    "    no_vegetarianos = ['Pepperoni', 'Pollo', 'Jamón']\n",
    "    ingrediente_1 = 'Champiñones'\n",
    "    ingrediente_2 = 'Pollo'\n",
    "    ingrediente_3 = 'Cebolla'\n",
    "\n",
    "\n",
    "#--------------\n",
    "# INSTANCIA 3\n",
    "#--------------\n",
    "\n",
    "# Base variables\n",
    "vegetarianos = ['Tomate', 'Champiñones', 'Pimenton']\n",
    "no_vegetarianos = ['Salami', 'Pollo', 'Jamón']\n",
    "\n",
    "ingrediente_1 = 'Pimenton'\n",
    "ingrediente_2 = 'Salami'\n",
    "ingrediente_3 = 'Tomate'\n",
    "\n",
    "try:\n",
    "    # Caso 1: el código se ejecuta con errores\n",
    "    try:\n",
    "        exec(_i)\n",
    "    except:\n",
    "        raise RuntimeError(\"Tu código produce un error al ejecutarse.\")\n",
    "        \n",
    "    # Caso 2: no es de tipo str.\n",
    "    assert type(tipo) == str, f\"Tu variable tipo no es de tipo {str.__name__}.\"\n",
    "\n",
    "    # Caso 3: la respuesta es correcta\n",
    "    assert tipo == 'Semi vegetariana', \"Tu implementación presenta errores cuando el tipo de una pizza es: Semi vegetariana.\"\n",
    "        \n",
    "except:\n",
    "    # Restaurar variables base originales\n",
    "    vegetarianos = ['Tomate', 'Champiñones', 'Cebolla']\n",
    "    no_vegetarianos = ['Pepperoni', 'Pollo', 'Jamón']\n",
    "    ingrediente_1 = 'Champiñones'\n",
    "    ingrediente_2 = 'Pollo'\n",
    "    ingrediente_3 = 'Cebolla'\n",
    "    raise\n",
    "\n",
    "finally:\n",
    "    # Restaurar variables base originales\n",
    "    vegetarianos = ['Tomate', 'Champiñones', 'Cebolla']\n",
    "    no_vegetarianos = ['Pepperoni', 'Pollo', 'Jamón']\n",
    "    ingrediente_1 = 'Champiñones'\n",
    "    ingrediente_2 = 'Pollo'\n",
    "    ingrediente_3 = 'Cebolla'\n",
    "\n",
    "# Mensaje de felicitaciones\n",
    "print(\"Felicidades, realizaste este ejercicio correctamente.\")"
   ]
  },
  {
   "cell_type": "markdown",
   "metadata": {
    "deletable": false,
    "editable": false,
    "nbgrader": {
     "cell_type": "markdown",
     "checksum": "7cfd2f37b7f576c8aea5d0b53ac57f14",
     "grade": false,
     "grade_id": "ej7-enun",
     "locked": true,
     "schema_version": 3,
     "solution": false,
     "task": false
    }
   },
   "source": [
    "### Ejercicio 7\n",
    "\n",
    "Utiliza un ciclo para almacenar los números pares del 1 al `n` (incluyéndolo) en una lista con nombre `pares`. La lista debe quedar ordenada ascendentemente. "
   ]
  },
  {
   "cell_type": "code",
   "execution_count": 81,
   "metadata": {},
   "outputs": [],
   "source": [
    "# No modifiques esta celda\n",
    "\n",
    "n = 100\n",
    "\n"
   ]
  },
  {
   "cell_type": "code",
   "execution_count": 92,
   "metadata": {
    "deletable": false,
    "nbgrader": {
     "cell_type": "code",
     "checksum": "47b529d4a495f87964e3126058e69b88",
     "grade": false,
     "grade_id": "ej7-sol",
     "locked": false,
     "schema_version": 3,
     "solution": true,
     "task": false
    }
   },
   "outputs": [
    {
     "name": "stdout",
     "output_type": "stream",
     "text": [
      "Even numbers in the list:  [2, 4, 6, 8, 10, 12, 14, 16, 18, 20, 22, 24, 26, 28, 30, 32, 34, 36, 38, 40, 42, 44, 46, 48, 50, 52, 54, 56, 58, 60, 62, 64, 66, 68, 70, 72, 74, 76, 78, 80, 82, 84, 86, 88, 90, 92, 94, 96, 98, 100]\n"
     ]
    }
   ],
   "source": [
    "# YOUR CODE HERE\n",
    "\n",
    "list1 =list(range(1, n+1))\n",
    "  \n",
    "pares = [num for num in list1 if num % 2 == 0]\n",
    "  \n",
    "print(\"Even numbers in the list: \", pares)"
   ]
  },
  {
   "cell_type": "code",
   "execution_count": 93,
   "metadata": {
    "deletable": false,
    "editable": false,
    "nbgrader": {
     "cell_type": "code",
     "checksum": "e260ad45a368e66832b2b01d481c275d",
     "grade": true,
     "grade_id": "ej7-test",
     "locked": true,
     "points": 1,
     "schema_version": 3,
     "solution": false,
     "task": false
    }
   },
   "outputs": [
    {
     "name": "stdout",
     "output_type": "stream",
     "text": [
      "Even numbers in the list:  [2, 4, 6, 8, 10, 12, 14, 16, 18, 20, 22, 24, 26, 28, 30, 32, 34, 36, 38, 40, 42, 44, 46, 48, 50, 52, 54, 56, 58, 60, 62, 64, 66, 68, 70, 72, 74, 76, 78, 80, 82, 84, 86, 88, 90, 92, 94, 96, 98, 100, 102, 104, 106, 108, 110, 112, 114, 116, 118, 120, 122, 124, 126, 128, 130, 132, 134, 136, 138, 140, 142, 144, 146, 148, 150, 152, 154, 156, 158, 160, 162, 164, 166, 168, 170, 172, 174, 176, 178, 180, 182, 184, 186, 188, 190, 192, 194, 196, 198, 200, 202, 204, 206, 208, 210, 212, 214, 216, 218, 220, 222, 224, 226, 228, 230, 232, 234, 236, 238, 240, 242, 244, 246, 248, 250, 252, 254, 256, 258, 260, 262, 264, 266, 268, 270, 272, 274, 276, 278, 280, 282, 284, 286, 288, 290, 292, 294, 296, 298, 300]\n",
      "Felicidades, realizaste este ejercicio correctamente.\n"
     ]
    }
   ],
   "source": [
    "## PRUEBAS\n",
    "\n",
    "#--------------\n",
    "# INSTANCIA 1\n",
    "#--------------\n",
    "\n",
    "# Base variables\n",
    "n = 300\n",
    "\n",
    "try:\n",
    "    # Caso 1: no existe la variable.\n",
    "    try:\n",
    "        pares\n",
    "    except:\n",
    "        raise NotImplementedError(\"No declaraste una variable llamada pares.\",)\n",
    "\n",
    "    # Caso 2: el código se ejecuta con errores\n",
    "    try:\n",
    "        exec(_i)\n",
    "    except:\n",
    "        raise RuntimeError(\"Tu código produce un error al ejecutarse.\")\n",
    "    \n",
    "    # Caso 3: el código modifica los parametros del problema\n",
    "    try:\n",
    "        assert n == 300\n",
    "    except:\n",
    "        raise AssertionError(\"Tu código no debe modificar los datos del problema.\")\n",
    "\n",
    "    # Caso 4: no es una lista.\n",
    "    assert type(pares) == list, f\"Tu variable pares no es de tipo {list.__name__}.\"\n",
    "    \n",
    "    # Caso 5: el código no utiliza ciclos\n",
    "    assert _i.find(\"for\") >= 0 or _i.find(\"while\") >= 0, \"Tu código no utiliza ciclos.\"\n",
    "\n",
    "    # Caso 6: la lista contiene valores de tipo incorrecto\n",
    "    for i in pares:\n",
    "        assert type(i) == int, f\"Tu lista contiene valores que no son de tipo {int.__name__}.\"\n",
    "\n",
    "    # Caso 7: la lista tiene el tamaño incorrecto\n",
    "    assert len(pares) == 150, \"Tu lista no tiene el tamaño correcto.\"\n",
    "\n",
    "    # Caso 8: la lista es correcta\n",
    "    assert pares == list(range(2,301,2)), \"Tu respuesta es incorrecta.\"\n",
    "\n",
    "except:\n",
    "    # Restaurar variables base originales\n",
    "    n = 100\n",
    "    raise\n",
    "\n",
    "finally:\n",
    "    # Restaurar variables base originales\n",
    "    n = 100\n",
    "\n",
    "# Mensaje de felicitaciones\n",
    "print(\"Felicidades, realizaste este ejercicio correctamente.\")"
   ]
  },
  {
   "cell_type": "markdown",
   "metadata": {
    "deletable": false,
    "editable": false,
    "nbgrader": {
     "cell_type": "markdown",
     "checksum": "ee1dc9fc861a0080ccf3bfeffcf0b1fc",
     "grade": false,
     "grade_id": "ej8-enun",
     "locked": true,
     "schema_version": 3,
     "solution": false,
     "task": false
    }
   },
   "source": [
    "### Ejercicio 8\n",
    "\n",
    "En la siguiente celda encuentras declarada una variable que almacena un número entero."
   ]
  },
  {
   "cell_type": "code",
   "execution_count": 94,
   "metadata": {
    "deletable": false,
    "editable": false,
    "nbgrader": {
     "cell_type": "code",
     "checksum": "d33f5de607f55f8a7b623ca7fa68f5b6",
     "grade": false,
     "grade_id": "ej8-data",
     "locked": true,
     "schema_version": 3,
     "solution": false,
     "task": false
    }
   },
   "outputs": [],
   "source": [
    "# No modifiques esta celda\n",
    "\n",
    "inicio = 10"
   ]
  },
  {
   "cell_type": "markdown",
   "metadata": {
    "deletable": false,
    "editable": false,
    "nbgrader": {
     "cell_type": "markdown",
     "checksum": "3ccfa68163498be055a54b4f0a3df4ef",
     "grade": false,
     "grade_id": "ej8-task",
     "locked": true,
     "schema_version": 3,
     "solution": false,
     "task": false
    }
   },
   "source": [
    "Utiliza un ciclo para almacenar en una lista, con nombre `cuenta_regresiva`, los números desde el valor de la variable `inicio` hasta el 1. La lista debe estar ordenada descendemente y en caso de que el inicio sea menor a 1 debes devolver una lista vacía."
   ]
  },
  {
   "cell_type": "code",
   "execution_count": 95,
   "metadata": {
    "deletable": false,
    "nbgrader": {
     "cell_type": "code",
     "checksum": "84506a86267fb6dd919b7fc572c32e18",
     "grade": false,
     "grade_id": "ej8-sol",
     "locked": false,
     "schema_version": 3,
     "solution": true,
     "task": false
    }
   },
   "outputs": [
    {
     "data": {
      "text/plain": [
       "[10, 9, 8, 7, 6, 5, 4, 3, 2, 1]"
      ]
     },
     "execution_count": 95,
     "metadata": {},
     "output_type": "execute_result"
    }
   ],
   "source": [
    "# YOUR CODE HERE\n",
    "\n",
    "p=0\n",
    "cuenta_regresiva=[]\n",
    "while p<inicio:\n",
    "    cuenta_regresiva.append(inicio-p)\n",
    "    p+=1\n",
    "\n",
    "cuenta_regresiva\n"
   ]
  },
  {
   "cell_type": "code",
   "execution_count": 96,
   "metadata": {
    "deletable": false,
    "editable": false,
    "nbgrader": {
     "cell_type": "code",
     "checksum": "c9987b21d418940d2afae61a44747cb1",
     "grade": true,
     "grade_id": "ej8-test",
     "locked": true,
     "points": 1,
     "schema_version": 3,
     "solution": false,
     "task": false
    }
   },
   "outputs": [
    {
     "name": "stdout",
     "output_type": "stream",
     "text": [
      "Felicidades, realizaste este ejercicio correctamente.\n"
     ]
    }
   ],
   "source": [
    "## PRUEBAS\n",
    "\n",
    "#--------------\n",
    "# INSTANCIA 1\n",
    "#--------------\n",
    "\n",
    "# Base variables\n",
    "inicio = 20\n",
    "\n",
    "try:\n",
    "    # Caso 1: no existe la variable.\n",
    "    try:\n",
    "        cuenta_regresiva\n",
    "    except:\n",
    "        raise NotImplementedError(\"No declaraste una variable llamada cuenta_regresiva.\",)\n",
    "    \n",
    "    # Caso 2: el código se ejecuta con errores\n",
    "    try:\n",
    "        exec(_i)\n",
    "    except:\n",
    "        raise RuntimeError(\"Tu código produce un error al ejecutarse.\")\n",
    "    \n",
    "    # Caso 3: el código modifica los parametros del problema\n",
    "    try:\n",
    "        assert inicio == 20\n",
    "    except:\n",
    "        raise AssertionError(\"Tu código no debe modificar los datos del problema.\")\n",
    "\n",
    "    # Caso 4: no es una lista.\n",
    "    assert type(cuenta_regresiva) == list, f\"Tu variable cuenta_regresiva no es de tipo {list.__name__}.\"\n",
    "    \n",
    "    # Caso 5: el código no utiliza la variable inicio o no utiliza ciclos\n",
    "    assert _i.find(\"inicio\") >= 0, \"Tu código no utiliza la variable inicio.\"\n",
    "    assert _i.find(\"for\") >= 0 or _i.find(\"while\") >= 0, \"Tu código no utiliza ciclos.\"\n",
    "\n",
    "    # Caso 6: la lista contiene valores de tipo incorrecto\n",
    "    for i in cuenta_regresiva:\n",
    "        assert type(i) == int, f\"Tu lista contiene valores que no son de tipo {int.__name__}.\"\n",
    "\n",
    "    # Caso 7: la lista tiene el tamaño incorrecto\n",
    "    assert len(cuenta_regresiva) == 20, \"Tu lista no tiene el tamaño correcto.\"\n",
    "\n",
    "    # Caso 8: la lista es correcta\n",
    "    assert cuenta_regresiva == list(range(20, 0, -1)), \"Tu implementación presenta errores cuando el valor de la variable inicio es mayor o igual a 1.\"\n",
    "    \n",
    "except:\n",
    "    # Restaurar variables base originales\n",
    "    inicio = 10\n",
    "    raise\n",
    "\n",
    "finally:\n",
    "    # Restaurar variables base originales\n",
    "    inicio = 10\n",
    "    \n",
    "#--------------\n",
    "# INSTANCIA 2\n",
    "#--------------\n",
    "\n",
    "# Base variables\n",
    "inicio = 0\n",
    "\n",
    "try:\n",
    "    # Caso 1: el código se ejecuta con errores\n",
    "    try:\n",
    "        exec(_i)\n",
    "    except:\n",
    "        raise RuntimeError(\"Tu código produce un error al ejecutarse.\")\n",
    "\n",
    "    # Caso 2: no es una lista.\n",
    "    assert type(cuenta_regresiva) == list, f\"Tu variable cuenta_regresiva no es de tipo {list.__name__}.\"\n",
    "\n",
    "    # Caso 3: la lista tiene el tamaño incorrecto\n",
    "    assert len(cuenta_regresiva) == 0, \"Tu implementación presenta errores cuando el valor de la variable inicio es menor a 1.\"\n",
    "\n",
    "except:\n",
    "    # Restaurar variables base originales\n",
    "    inicio = 10\n",
    "    raise\n",
    "    \n",
    "finally:\n",
    "    # Restaurar variables base originales\n",
    "    inicio = 10\n",
    "\n",
    "# Mensaje de felicitaciones\n",
    "print(\"Felicidades, realizaste este ejercicio correctamente.\")"
   ]
  },
  {
   "cell_type": "markdown",
   "metadata": {
    "deletable": false,
    "editable": false,
    "nbgrader": {
     "cell_type": "markdown",
     "checksum": "93c91792e133f62242738675a1750a4c",
     "grade": false,
     "grade_id": "ej9-enun",
     "locked": true,
     "schema_version": 3,
     "solution": false,
     "task": false
    }
   },
   "source": [
    "### Ejercicio 9\n",
    "\n",
    "En la siguiente celda encuentras declarada una lista y un elemento."
   ]
  },
  {
   "cell_type": "code",
   "execution_count": 8,
   "metadata": {
    "deletable": false,
    "editable": false,
    "nbgrader": {
     "cell_type": "code",
     "checksum": "55bcad19a9c228e62e2b5145b47fecb1",
     "grade": false,
     "grade_id": "ej9-data",
     "locked": true,
     "schema_version": 3,
     "solution": false,
     "task": false
    }
   },
   "outputs": [],
   "source": [
    "# No modifiques esta celda\n",
    "\n",
    "numeros = [1,2,8,4,6,7,10,45,67,89,100,12,34,2,1,5,34,36,28,27,43,182,13,124,122,158,835,38,46,38,28,38,34,67,89,58]\n",
    "a_buscar = 89"
   ]
  },
  {
   "cell_type": "markdown",
   "metadata": {
    "deletable": false,
    "editable": false,
    "nbgrader": {
     "cell_type": "markdown",
     "checksum": "b39c7fadad15b92d139022a199b86467",
     "grade": false,
     "grade_id": "ej9-task",
     "locked": true,
     "schema_version": 3,
     "solution": false,
     "task": false
    }
   },
   "source": [
    "Busca el número entero `a_buscar` en la lista `numeros` y guarda el índice en una variable con nombre `indice`. En caso de que el elemento se encuentre más de una vez en la lista `numeros`, debes almacenar el índice de la primera posición en la que lo encuentres. Por otro lado, si el elemento no se encuentra en la lista `numeros`, almacena -1 en la variable `indice`."
   ]
  },
  {
   "cell_type": "code",
   "execution_count": 11,
   "metadata": {
    "deletable": false,
    "nbgrader": {
     "cell_type": "code",
     "checksum": "276ed32139d98e16e380c1da53bb8923",
     "grade": false,
     "grade_id": "ej9-sol",
     "locked": false,
     "schema_version": 3,
     "solution": true,
     "task": false
    }
   },
   "outputs": [],
   "source": [
    "indice=-1\n",
    "for i in range(len(numeros)):\n",
    "    if a_buscar == numeros[i]:\n",
    "        indice=i\n",
    "        break"
   ]
  },
  {
   "cell_type": "code",
   "execution_count": 12,
   "metadata": {
    "deletable": false,
    "editable": false,
    "nbgrader": {
     "cell_type": "code",
     "checksum": "8f8257c673fa367eaffa6759a8b91372",
     "grade": true,
     "grade_id": "ej9-test",
     "locked": true,
     "points": 1,
     "schema_version": 3,
     "solution": false,
     "task": false
    }
   },
   "outputs": [
    {
     "name": "stdout",
     "output_type": "stream",
     "text": [
      "Felicidades, realizaste este ejercicio correctamente.\n"
     ]
    }
   ],
   "source": [
    "## PRUEBAS\n",
    "\n",
    "#--------------\n",
    "# INSTANCIA 1\n",
    "#--------------\n",
    "\n",
    "# Base variables\n",
    "a_buscar = 28\n",
    "\n",
    "try:\n",
    "    # Caso 1: no existe la variable.\n",
    "    try:\n",
    "        indice\n",
    "    except:\n",
    "        raise NotImplementedError(\"No declaraste una variable llamada indice.\",)\n",
    "        \n",
    "    # Caso 2: el código se ejecuta con errores\n",
    "    try:\n",
    "        exec(_i)\n",
    "    except:\n",
    "        raise RuntimeError(\"Tu código produce un error al ejecutarse.\")\n",
    "    \n",
    "    # Caso 3: el código modifica los parametros del problema\n",
    "    try:\n",
    "        assert a_buscar == 28\n",
    "    except:\n",
    "        raise AssertionError(\"Tu código no debe modificar los datos del problema.\")\n",
    "    \n",
    "    # Caso 4: no es de tipo int.\n",
    "    assert type(indice) == int, f\"Tu variable mas_rapido no es de tipo {int.__name__}.\"\n",
    "\n",
    "    # Caso 5: el código no utiliza las variables a_buscar y numeros\n",
    "    assert _i.find(\"a_buscar\") >= 0, \"Tu código no utiliza la variable a_buscar.\"\n",
    "    assert _i.find(\"numeros\") >= 0, \"Tu código no utiliza la variable numeros.\"\n",
    "\n",
    "    # Caso 6: la respuesta es correcta\n",
    "    assert indice == 18, \"Tu implementación presenta errores cuando el valor de la variable a_buscar se encuentra al menos una vez en la lista numeros. Es posible que no hayas almacenado el índice asociado a la primera vez que aparece el valor de la variable a_buscar.\"\n",
    "    \n",
    "except:\n",
    "    # Restaurar variables base originales\n",
    "    a_buscar = 89\n",
    "    raise\n",
    "    \n",
    "finally:\n",
    "    # Restaurar variables base originales\n",
    "    a_buscar = 89\n",
    "\n",
    "#--------------\n",
    "# INSTANCIA 2\n",
    "#--------------\n",
    "\n",
    "# Base variables\n",
    "a_buscar = 3\n",
    "\n",
    "try:\n",
    "    \n",
    "    # Caso 1: el código se ejecuta con errores\n",
    "    try:\n",
    "        exec(_i)\n",
    "    except:\n",
    "        raise RuntimeError(\"Tu código produce un error al ejecutarse.\")\n",
    "    \n",
    "    # Caso 2: no es de tipo int.\n",
    "    assert type(indice) == int, f\"Tu variable mas_rapido no es de tipo {int.__name__}.\"\n",
    "\n",
    "    # Caso 3: la respuesta es correcta\n",
    "    assert indice == -1, \"Tu implementación presenta errores cuando el valor de la variable a_buscar no se encuentra en la lista numeros.\"\n",
    "        \n",
    "except:\n",
    "    # Restaurar variables base originales\n",
    "    a_buscar = 89\n",
    "    raise\n",
    "    \n",
    "finally:\n",
    "    # Restaurar variables base originales\n",
    "    a_buscar = 89\n",
    "\n",
    "# Mensaje de felicitaciones\n",
    "print(\"Felicidades, realizaste este ejercicio correctamente.\")"
   ]
  },
  {
   "cell_type": "markdown",
   "metadata": {
    "deletable": false,
    "editable": false,
    "nbgrader": {
     "cell_type": "markdown",
     "checksum": "f89eb7347cb3878f3b32808244feebba",
     "grade": false,
     "grade_id": "ej10-enun",
     "locked": true,
     "schema_version": 3,
     "solution": false,
     "task": false
    }
   },
   "source": [
    "### Ejercicio 10\n",
    "\n",
    "En la siguiente celda encuentras declarada una variable que almacena una cadena de caracteres."
   ]
  },
  {
   "cell_type": "code",
   "execution_count": 102,
   "metadata": {
    "deletable": false,
    "editable": false,
    "nbgrader": {
     "cell_type": "code",
     "checksum": "f0ed11eb5a68c2b90a86d486505f18c5",
     "grade": false,
     "grade_id": "ej10-data",
     "locked": true,
     "schema_version": 3,
     "solution": false,
     "task": false
    }
   },
   "outputs": [],
   "source": [
    "# No modifiques esta celda\n",
    "\n",
    "cadena = \"Me encanta programar, Python es mi pasión.\""
   ]
  },
  {
   "cell_type": "markdown",
   "metadata": {
    "deletable": false,
    "editable": false,
    "nbgrader": {
     "cell_type": "markdown",
     "checksum": "0cf29ba51087b9f272e22e2827191414",
     "grade": false,
     "grade_id": "ej10-task",
     "locked": true,
     "schema_version": 3,
     "solution": false,
     "task": false
    }
   },
   "source": [
    "Almacena en un diccionario, con nombre `num_vocales`, la cantidad veces que aparece cada vocal en la cadena de caracteres `cadena`. Las llaves del diccionario deben ser las vocales, y los valores deben ser el número de veces que aparece cada vocal.\n",
    "\n",
    "**Nota:** no tengas en cuenta vocales en mayúscula, ni con tíldes, ni con diéresis. Por ejemplo, el diccionario asociado a la cadena \"El pingüino lingüístico.\" es: `{'a': 0, 'e': 0, 'i': 4, 'o': 2, 'u': 0}`."
   ]
  },
  {
   "cell_type": "code",
   "execution_count": 108,
   "metadata": {
    "deletable": false,
    "nbgrader": {
     "cell_type": "code",
     "checksum": "cbfc0777b5c4c678feaea92121cf95be",
     "grade": false,
     "grade_id": "ej10-sol",
     "locked": false,
     "schema_version": 3,
     "solution": true,
     "task": false
    }
   },
   "outputs": [
    {
     "name": "stdout",
     "output_type": "stream",
     "text": [
      "occurrence of letter a: 5\n",
      "occurrence of letter a: 3\n",
      "occurrence of letter a: 2\n",
      "occurrence of letter a: 2\n",
      "occurrence of letter a: 0\n"
     ]
    }
   ],
   "source": [
    "# YOUR CODE HERE\n",
    "\n",
    "\n",
    "\n",
    "a=cadena.count('a')\n",
    "print('occurrence of letter a:', a)\n",
    "\n",
    "e=cadena.count('e')\n",
    "print('occurrence of letter a:', e)\n",
    "\n",
    "i=cadena.count('i')\n",
    "print('occurrence of letter a:', i)\n",
    "\n",
    "o=cadena.count('o')\n",
    "print('occurrence of letter a:', o)\n",
    "\n",
    "u=cadena.count('u')\n",
    "print('occurrence of letter a:', u)\n",
    "num_vocales={}\n",
    "num_vocales['a']=a\n",
    "num_vocales['e']=e\n",
    "num_vocales['i']=i\n",
    "num_vocales['o']=o\n",
    "num_vocales['u']=u\n",
    "\n",
    "\n",
    "\n"
   ]
  },
  {
   "cell_type": "code",
   "execution_count": 109,
   "metadata": {
    "deletable": false,
    "editable": false,
    "nbgrader": {
     "cell_type": "code",
     "checksum": "99190407759cb94784779cd6a05b0c45",
     "grade": true,
     "grade_id": "ej10-test",
     "locked": true,
     "points": 1,
     "schema_version": 3,
     "solution": false,
     "task": false
    }
   },
   "outputs": [
    {
     "name": "stdout",
     "output_type": "stream",
     "text": [
      "occurrence of letter a: 4\n",
      "occurrence of letter a: 5\n",
      "occurrence of letter a: 2\n",
      "occurrence of letter a: 6\n",
      "occurrence of letter a: 3\n",
      "Felicidades, realizaste este ejercicio correctamente.\n"
     ]
    }
   ],
   "source": [
    "## PRUEBAS\n",
    "\n",
    "#--------------\n",
    "# INSTANCIA 1\n",
    "#--------------\n",
    "\n",
    "# Base variables\n",
    "cadena = \"The world's most valuable resource is no longer oil, but data.\"\n",
    "\n",
    "try:\n",
    "    # Caso 1: no existe el diccionario.\n",
    "    try:\n",
    "        num_vocales\n",
    "    except:\n",
    "        raise NotImplementedError(\"No existe una variable llamada num_vocales.\",)\n",
    "\n",
    "    # Caso 2: el código se ejecuta con errores\n",
    "    try:\n",
    "        exec(_i)\n",
    "    except:\n",
    "        raise RuntimeError(\"Tu código produce un error al ejecutarse.\")\n",
    "    \n",
    "    # Caso 3: el código modifica los parametros del problema\n",
    "    try:\n",
    "        assert cadena == \"The world's most valuable resource is no longer oil, but data.\"\n",
    "    except:\n",
    "        raise AssertionError(\"Tu código no debe modificar los datos del problema.\")\n",
    "\n",
    "    # Caso 4: no es un diccionario.\n",
    "    assert type(num_vocales) == dict, f\"Tu variable num_vocales no es de tipo {dict.__name__}.\"\n",
    "\n",
    "    # Caso 5: el código no utiliza la variable candena\n",
    "    assert _i.find(\"cadena\") >= 0, \"Tu código no utilizala variable cadena.\"\n",
    "\n",
    "    # Caso 6: el diccionario contiene valores de tipo incorrecto\n",
    "    for i in num_vocales.keys():\n",
    "        assert type(i) == str, f\"Tu diccionario contiene llaves que no son de tipo {str.__name__}.\"\n",
    "\n",
    "    for j in num_vocales.values():\n",
    "        assert type(j) == int, f\"Tu diccionario contiene valores que no son de tipo {int.__name__}.\"\n",
    "\n",
    "    # Caso 7: el diccionario tiene el tamaño incorrecto\n",
    "    assert len(num_vocales) == 5, \"Tu diccionario no tiene el tamaño correcto.\"\n",
    "\n",
    "    # Caso 8: el diccionario no contiene los valores/llaves correctos/as\n",
    "    assert set(num_vocales.keys()) == {'a', 'e', 'i', 'o', 'u'}, \"Las llaves de tu diccionario no son correctas.\"\n",
    "    assert set(num_vocales.values()) == {4, 2, 3, 5, 6}, \"Los valores de tu diccionario no son correctos.\"\n",
    "\n",
    "    # Caso 9: el diccionario es correcto \n",
    "    try:\n",
    "        assert num_vocales['a'] == 4\n",
    "        assert num_vocales['e'] == 5\n",
    "        assert num_vocales['i'] == 2\n",
    "        assert num_vocales['o'] == 6\n",
    "        assert num_vocales['u'] == 3\n",
    "    except AssertionError as e:\n",
    "        e.args += (\"Tu respuesta es incorrecta.\",)\n",
    "        raise e      \n",
    "    \n",
    "except:\n",
    "    # Restaurar variables base originales\n",
    "    cadena = \"Me encanta programar, Python es mi pasión.\"\n",
    "    raise\n",
    "\n",
    "finally:\n",
    "    # Restaurar variables base originales\n",
    "    cadena = \"Me encanta programar, Python es mi pasión.\"\n",
    "            \n",
    "# Mensaje de felicitaciones\n",
    "print(\"Felicidades, realizaste este ejercicio correctamente.\")"
   ]
  },
  {
   "cell_type": "markdown",
   "metadata": {
    "deletable": false,
    "editable": false,
    "nbgrader": {
     "cell_type": "markdown",
     "checksum": "9263324274a5c8474982f622e7883c6f",
     "grade": false,
     "grade_id": "ej11-enun",
     "locked": true,
     "schema_version": 3,
     "solution": false,
     "task": false
    }
   },
   "source": [
    "### Ejercicio 11\n",
    "\n",
    "Jorge tiene un refugio de perros y realizará un evento de adopción en los próximos días. En estos eventos, las  personas están interesadas en perros con cierto rango de edad. Por lo tanto, es de interés presentar únicamente los perros que se encuentren en ese rango; en la siguiente celda se almacena el límite inferior del rango en la variable `lb` y el límite superior del rango en la variable `ub`. El diccionario `perros_refugio`, presentado en la siguiente celda, contiene los perros que pertenecen al refugio, donde las llaves son los nombres de los perros y los valores sus respectivas edades."
   ]
  },
  {
   "cell_type": "code",
   "execution_count": 110,
   "metadata": {
    "deletable": false,
    "editable": false,
    "nbgrader": {
     "cell_type": "code",
     "checksum": "a02f6e52a4bae058ff446bebd877c4d6",
     "grade": false,
     "grade_id": "ej11-data",
     "locked": true,
     "schema_version": 3,
     "solution": false,
     "task": false
    }
   },
   "outputs": [],
   "source": [
    "# No modifiques esta celda\n",
    "\n",
    "lb = 2\n",
    "ub = 5\n",
    "\n",
    "perros_refugio = {\n",
    "                  \"Bruno\": 5,\n",
    "                  \"Alex\": 2,\n",
    "                  \"Fiona\": 3,\n",
    "                  \"Salvador\": 7,\n",
    "                  \"Max\": 1,\n",
    "                  \"Copito\": 5,\n",
    "                  \"Joe\": 1,\n",
    "                  \"Maya\": 2\n",
    "                  }"
   ]
  },
  {
   "cell_type": "markdown",
   "metadata": {
    "deletable": false,
    "editable": false,
    "nbgrader": {
     "cell_type": "markdown",
     "checksum": "5808ae01dc3259b6ccf50188d9b3ac00",
     "grade": false,
     "grade_id": "ej11-task",
     "locked": true,
     "schema_version": 3,
     "solution": false,
     "task": false
    }
   },
   "source": [
    "A partir de las variables declaradas en la celda anterior, crea una lista, con nombre `perros_evento`, que contenga los nombres de los animales que se encuentren dentro del rango de edad. \n",
    "\n",
    "**Nota:** los perros que tienen la edad especificada por los límites también deben ser incluidos en la lista `perros_evento`."
   ]
  },
  {
   "cell_type": "code",
   "execution_count": 111,
   "metadata": {
    "deletable": false,
    "nbgrader": {
     "cell_type": "code",
     "checksum": "50669a8febcfb58ea6347ff64d415e0a",
     "grade": false,
     "grade_id": "ej11-sol",
     "locked": false,
     "schema_version": 3,
     "solution": true,
     "task": false
    }
   },
   "outputs": [
    {
     "data": {
      "text/plain": [
       "['Bruno', 'Alex', 'Fiona', 'Copito', 'Maya']"
      ]
     },
     "execution_count": 111,
     "metadata": {},
     "output_type": "execute_result"
    }
   ],
   "source": [
    "# YOUR CODE HERE\n",
    "perros_evento=[]\n",
    "if perros_refugio['Bruno'] >= lb and perros_refugio['Bruno'] <= ub:\n",
    "    perros_evento.append('Bruno')\n",
    "if perros_refugio['Alex'] >= lb and perros_refugio['Alex'] <= ub:\n",
    "    perros_evento.append('Alex')\n",
    "if perros_refugio['Fiona'] >= lb and perros_refugio['Fiona'] <= ub:\n",
    "    perros_evento.append('Fiona')\n",
    "if perros_refugio['Salvador'] >= lb and perros_refugio['Salvador'] <= ub:\n",
    "    perros_evento.append('Salvador')\n",
    "if perros_refugio['Max'] >= lb and perros_refugio['Max'] <= ub:\n",
    "    perros_evento.append('Max')\n",
    "if perros_refugio['Copito'] >= lb and perros_refugio['Copito'] <= ub:\n",
    "    perros_evento.append('Copito')\n",
    "if perros_refugio['Joe'] >= lb and perros_refugio['Joe'] <= ub:\n",
    "    perros_evento.append('Joe')\n",
    "if perros_refugio['Maya'] >= lb and perros_refugio['Maya'] <= ub:\n",
    "    perros_evento.append('Maya')\n",
    "\n",
    "perros_evento\n",
    "\n",
    "\n",
    "\n",
    "#raise NotImplementedError()"
   ]
  },
  {
   "cell_type": "code",
   "execution_count": 112,
   "metadata": {
    "deletable": false,
    "editable": false,
    "nbgrader": {
     "cell_type": "code",
     "checksum": "065f15031bb2c1ea6a1b64b175295340",
     "grade": true,
     "grade_id": "ej11-test",
     "locked": true,
     "points": 1,
     "schema_version": 3,
     "solution": false,
     "task": false
    }
   },
   "outputs": [
    {
     "name": "stdout",
     "output_type": "stream",
     "text": [
      "Felicidades, realizaste este ejercicio correctamente.\n"
     ]
    }
   ],
   "source": [
    "## PRUEBAS\n",
    "\n",
    "#--------------\n",
    "# INSTANCIA 1\n",
    "#--------------\n",
    "\n",
    "# Base variables\n",
    "lb = 1\n",
    "ub = 2\n",
    "\n",
    "try:\n",
    "    # Caso 1: no existe la variable.\n",
    "    try:\n",
    "        perros_evento\n",
    "    except:\n",
    "        raise NotImplementedError(\"No declaraste una variable llamada perros_evento.\",)\n",
    "    \n",
    "    # Caso 2: el código se ejecuta con errores\n",
    "    try:\n",
    "        exec(_i)\n",
    "    except:\n",
    "        raise RuntimeError(\"Tu código produce un error al ejecutarse.\")\n",
    "    \n",
    "    # Caso 3: el código modifica los parametros del problema\n",
    "    try:\n",
    "        assert lb == 1\n",
    "        assert ub == 2\n",
    "    except:\n",
    "        raise AssertionError(\"Tu código no debe modificar los datos del problema.\")\n",
    "    \n",
    "    # Caso 4: no es una lista.\n",
    "    assert type(perros_evento) == list, f\"Tu variable perros_evento no es de tipo {list.__name__}.\"\n",
    "    \n",
    "    # Caso 5: la lista contiene valores de tipo incorrecto\n",
    "    for i in perros_evento:\n",
    "        assert type(i) == str, f\"Tu lista contiene valores que no son de tipo {str.__name__}.\"\n",
    "    \n",
    "    # Caso 6: el código no utiliza las variables lb, ub y perros_refugio\n",
    "    assert _i.find(\"lb\") >= 0, \"Tu código no utiliza la variable lb.\"\n",
    "    assert _i.find(\"ub\") >= 0, \"Tu código no utiliza la variable ub.\"\n",
    "    assert _i.find(\"perros_refugio\") >= 0, \"Tu código no utiliza la variable perros_refugio.\"\n",
    "    \n",
    "    # Caso 7: la lista tiene el tamaño incorrecto\n",
    "    assert len(perros_evento) == 4, \"Tu lista no tiene el tamaño correcto. Es posible que tengas problemas utilizando los límites del rango.\"\n",
    "        \n",
    "    # Caso 8: el diccionario es correcto \n",
    "    assert set(perros_evento) == {'Alex', 'Maya', 'Joe', 'Max'}, \"Tu respuesta es incorrecta.\"\n",
    "\n",
    "except:\n",
    "    # Restaurar variables base originales\n",
    "    lb = 2\n",
    "    ub = 5\n",
    "    raise\n",
    "\n",
    "finally:\n",
    "    # Restaurar variables base originales\n",
    "    lb = 2\n",
    "    ub = 5\n",
    "\n",
    "# Mensaje de felicitaciones\n",
    "print(\"Felicidades, realizaste este ejercicio correctamente.\")"
   ]
  },
  {
   "cell_type": "markdown",
   "metadata": {
    "deletable": false,
    "editable": false,
    "nbgrader": {
     "cell_type": "markdown",
     "checksum": "cd26a07e1ba5282a055349cf0b704464",
     "grade": false,
     "grade_id": "ej12-enun",
     "locked": true,
     "schema_version": 3,
     "solution": false,
     "task": false
    }
   },
   "source": [
    "### Ejercicio 12\n",
    "\n",
    "Se dice que uno de los primeros ejemplos de cifrado en la historia fue inventado por Julio César, quien necesitaba enviar instrucciones escritas a sus generales, pero tenía que evitar que sus enemigos se enteraran de sus planes en caso de que los mensajes cayeran en sus manos. Para esto, desarrolló lo que ahora se conoce como el Cifrado César basándose en una idea muy simple: se define un corrimiento `corr` y luego, cada letra dentro del mensaje original se remplaza por la letra que esté `corr` posiciones más adelante en el alfabeto. Por ejemplo, con un `corr` igual a 3, la A se convierte en D, la B en E, y así sucesivamente. Las últimas tres letras en el alfabeto se vuelven las tres primeras: X se vuelve A, Y se vuelve B y Z se vuelve C. Para simplificar el ejercicio, el cifrado únicamente afectará caracteres que correspondan a letras minúsculas sin tíldes ni diéresis.\n",
    "\n",
    "En la siguiente celda encuentras la cadena de caracteres `cifrada` que contiene una frase para descifrar y se especifica el valor de la variable `corr`. Adicionalmente, encuentras una tupla con el alfabeto.  "
   ]
  },
  {
   "cell_type": "code",
   "execution_count": 114,
   "metadata": {
    "deletable": false,
    "editable": false,
    "nbgrader": {
     "cell_type": "code",
     "checksum": "b6ff4891fec73881102d3e6ec7692129",
     "grade": false,
     "grade_id": "ej12-data",
     "locked": true,
     "schema_version": 3,
     "solution": false,
     "task": false
    }
   },
   "outputs": [],
   "source": [
    "# No modifiques esta celda\n",
    "\n",
    "cifrada = \"Aqxzxobjmp nmo bi kmoqb x ixp 5 ab ix qxoab\"\n",
    "corr = 3\n",
    "\n",
    "alfabeto = ('a', 'b', 'c', 'd', 'e', 'f', 'g', 'h', 'i', 'j', 'k', 'l', 'm', 'n', 'ñ', 'o', 'p',\n",
    "            'q', 'r', 's', 't', 'u', 'v', 'w', 'x', 'y', 'z')"
   ]
  },
  {
   "cell_type": "markdown",
   "metadata": {
    "deletable": false,
    "editable": false,
    "nbgrader": {
     "cell_type": "markdown",
     "checksum": "b4bb8fc18e4846486774cd1a92630d3a",
     "grade": false,
     "grade_id": "ej12-task",
     "locked": true,
     "schema_version": 3,
     "solution": false,
     "task": false
    }
   },
   "source": [
    "Obtén el mensaje descifrado y almacénalo en una variable llamada `descifrada`."
   ]
  },
  {
   "cell_type": "code",
   "execution_count": 115,
   "metadata": {
    "deletable": false,
    "nbgrader": {
     "cell_type": "code",
     "checksum": "9c0ab8277d829d2324aba8697e720444",
     "grade": false,
     "grade_id": "ej12-sol",
     "locked": false,
     "schema_version": 3,
     "solution": true,
     "task": false
    }
   },
   "outputs": [
    {
     "data": {
      "text/plain": [
       "'Atacaremos por el norte a las 5 de la tarde'"
      ]
     },
     "execution_count": 115,
     "metadata": {},
     "output_type": "execute_result"
    }
   ],
   "source": [
    "# YOUR CODE HERE\n",
    "alfabeto=list(alfabeto)\n",
    "descifrada=[]\n",
    "for i in range(len(cifrada)):\n",
    "    if cifrada[i] in alfabeto:\n",
    "      indice_cifrada=alfabeto.index(cifrada[i])+corr\n",
    "      indice_cifrada_modulo=indice_cifrada%len(alfabeto)\n",
    "      descifrada.append(alfabeto[indice_cifrada_modulo])\n",
    "    else:\n",
    "        descifrada.append(cifrada[i])\n",
    "descifrada=\"\".join(descifrada)\n",
    "descifrada\n",
    "#raise NotImplementedError()"
   ]
  },
  {
   "cell_type": "code",
   "execution_count": 50,
   "metadata": {
    "deletable": false,
    "editable": false,
    "nbgrader": {
     "cell_type": "code",
     "checksum": "f1d8c7eec80d8ed7aa6c2ed7ce09b1f0",
     "grade": true,
     "grade_id": "ej12-test",
     "locked": true,
     "points": 1,
     "schema_version": 3,
     "solution": false,
     "task": false
    }
   },
   "outputs": [
    {
     "name": "stdout",
     "output_type": "stream",
     "text": [
      "Felicidades, realizaste este ejercicio correctamente.\n"
     ]
    }
   ],
   "source": [
    "## PRUEBAS\n",
    "\n",
    "#--------------\n",
    "# INSTANCIA 1\n",
    "#--------------\n",
    "\n",
    "# Base variables\n",
    "cifrada = \"Eg ikhwnz yzg zñlív zñ Pvwgk\"\n",
    "corr = 5\n",
    "\n",
    "try:\n",
    "    # Caso 1: no existe la variable.\n",
    "    try:\n",
    "        descifrada\n",
    "    except:\n",
    "        raise NotImplementedError(\"No declaraste una variable llamada descifrada.\",)\n",
    "    \n",
    "    # Caso 2: el código se ejecuta con errores\n",
    "    try:\n",
    "        exec(_i)\n",
    "    except:\n",
    "        raise RuntimeError(\"Tu código produce un error al ejecutarse.\")\n",
    "    \n",
    "    # Caso 3: el código modifica los parametros del problema\n",
    "    try:\n",
    "        assert cifrada == \"Eg ikhwnz yzg zñlív zñ Pvwgk\"\n",
    "        assert corr == 5\n",
    "    except:\n",
    "        raise AssertionError(\"Tu código no debe modificar los datos del problema.\")\n",
    "    \n",
    "    # Caso 4: no es de tipo str.\n",
    "    assert type(descifrada) == str, f\"Tu variable descifrada no es de tipo {str.__name__}.\"\n",
    "\n",
    "    # Caso 5: el código no utiliza las variables cifrada y corr\n",
    "    assert _i.find(\"cifrada\") >= 0, \"Tu código no utiliza la variable cifrada.\"\n",
    "    assert _i.find(\"corr\") >= 0, \"Tu código no utiliza la variable corr.\"\n",
    "\n",
    "    # Caso 6: la respuesta es correcta\n",
    "    assert descifrada == 'El nombre del espía es Pablo', \"Tu respuesta es incorrecta.\"\n",
    "    \n",
    "except:\n",
    "    # Restaurar variables base originales\n",
    "    cifrada = \"Aqxzxobjmp nmo bi kmoqb x ixp 5 ab ix qxoab\"\n",
    "    corr = 3\n",
    "    raise\n",
    "    \n",
    "finally:\n",
    "    # Restaurar variables base originales\n",
    "    cifrada = \"Aqxzxobjmp nmo bi kmoqb x ixp 5 ab ix qxoab\"\n",
    "    corr = 3\n",
    "\n",
    "# Mensaje de felicitaciones\n",
    "print(\"Felicidades, realizaste este ejercicio correctamente.\")"
   ]
  },
  {
   "cell_type": "markdown",
   "metadata": {
    "deletable": false,
    "editable": false,
    "nbgrader": {
     "cell_type": "markdown",
     "checksum": "bbf53a78bf9b597f4f337b2dfe7da770",
     "grade": false,
     "grade_id": "ej13-enun",
     "locked": true,
     "schema_version": 3,
     "solution": false,
     "task": false
    }
   },
   "source": [
    "### Ejercicio 13\n",
    "\n",
    "Santiago ha pedido un catálogo de artículos con el fin de escoger un regalo de cumpleaños para su amiga Mariana. A Santiago se le olvido guardar dinero para el regalo y por consiguiente necesita escoger el artículo más barato disponible. El diccionario `catalogo` presentado en la siguiente celda tiene varias llaves que corresponden al nombre de los artículos. El valor asociado a cada llave es el precio del artículo (en COP)."
   ]
  },
  {
   "cell_type": "code",
   "execution_count": 116,
   "metadata": {
    "deletable": false,
    "editable": false,
    "nbgrader": {
     "cell_type": "code",
     "checksum": "9ff66284c21fc7ec58e3083cf5fb1f09",
     "grade": false,
     "grade_id": "ej13-data",
     "locked": true,
     "schema_version": 3,
     "solution": false,
     "task": false
    }
   },
   "outputs": [],
   "source": [
    "# No modifiques esta celda\n",
    "\n",
    "catalogo = {\n",
    "            \"Oso de peluche\" : 50000,\n",
    "            \"Perfume\" : 9800,\n",
    "            \"Aretes\" : 5000,\n",
    "            \"Dulces\" : 5000,\n",
    "            \"Blusa\" : 15000,\n",
    "            \"Bono de peluqueria\" : 10000,\n",
    "            \"Libros\" : 60000\n",
    "            }"
   ]
  },
  {
   "cell_type": "markdown",
   "metadata": {
    "deletable": false,
    "editable": false,
    "nbgrader": {
     "cell_type": "markdown",
     "checksum": "ca4e7c3522869876f57eecb074f910ec",
     "grade": false,
     "grade_id": "ej13-task",
     "locked": true,
     "schema_version": 3,
     "solution": false,
     "task": false
    }
   },
   "source": [
    "Almacena el nombre del artículo más barato en una variable llamada `regalo`. Si Santiago encuentra un empate entre dos o más artículos, escribirá sus nombres en orden alfabético y eligirá el primero. Asimismo, si el artículo más barato vale más de COP 10000, Santiago no comprará nada y le escribirá una carta a su amiga. Si este es el caso, deberás almacenar la cadena de caracteres `\"Carta\"` en la variable `regalo`."
   ]
  },
  {
   "cell_type": "code",
   "execution_count": 117,
   "metadata": {
    "deletable": false,
    "nbgrader": {
     "cell_type": "code",
     "checksum": "8d00d6a5eede3c849c53d3c9e8c4afb2",
     "grade": false,
     "grade_id": "ej13-sol",
     "locked": false,
     "schema_version": 3,
     "solution": true,
     "task": false
    }
   },
   "outputs": [
    {
     "data": {
      "text/plain": [
       "'Dulces'"
      ]
     },
     "execution_count": 117,
     "metadata": {},
     "output_type": "execute_result"
    }
   ],
   "source": [
    "# YOUR CODE HERE\n",
    "mas_economico=min(catalogo.values())\n",
    "mas_economico\n",
    "\n",
    "for tipo_regalo,precio in catalogo.items():\n",
    "    if mas_economico>=10000:\n",
    "        regalo='Carta'\n",
    "    elif precio==mas_economico:\n",
    "        regalo=tipo_regalo\n",
    "        \n",
    "    \n",
    "regalo\n",
    "\n",
    "#raise NotImplementedError()"
   ]
  },
  {
   "cell_type": "code",
   "execution_count": 11,
   "metadata": {
    "deletable": false,
    "editable": false,
    "nbgrader": {
     "cell_type": "code",
     "checksum": "5e89ddc7f1bbbfd3965b91da3d95cdd2",
     "grade": true,
     "grade_id": "ej13-test",
     "locked": true,
     "points": 1,
     "schema_version": 3,
     "solution": false,
     "task": false
    }
   },
   "outputs": [
    {
     "name": "stdout",
     "output_type": "stream",
     "text": [
      "Felicidades, realizaste este ejercicio correctamente.\n"
     ]
    }
   ],
   "source": [
    "## PRUEBAS\n",
    "\n",
    "#--------------\n",
    "# INSTANCIA 1\n",
    "#--------------\n",
    "\n",
    "# Base variables\n",
    "catalogo = {\"Peluche\" : 5000, \"Perfume\" : 9800, \"Cadena\" : 20000, \"Chocolates\" : 5000, \n",
    "            \"Zapatos\" : 100000, \"Flores\" : 10000, \"Libro\" : 10000}\n",
    "\n",
    "try:\n",
    "    # Caso 1: no existe la variable.\n",
    "    try:\n",
    "        regalo\n",
    "    except:\n",
    "        raise NotImplementedError(\"No declaraste una variable llamada regalo.\",)\n",
    "        \n",
    "    # Caso 2: el código se ejecuta con errores\n",
    "    try:\n",
    "        exec(_i)\n",
    "    except:\n",
    "        raise RuntimeError(\"Tu código produce un error al ejecutarse.\")\n",
    "    \n",
    "    # Caso 3: el código modifica los parametros del problema\n",
    "    try:\n",
    "        assert catalogo == {\"Peluche\" : 5000, \"Perfume\" : 9800, \"Cadena\" : 20000, \"Chocolates\" : 5000, \"Zapatos\" : 100000, \"Flores\" : 10000, \"Libro\" : 10000}\n",
    "    except:\n",
    "        raise AssertionError(\"Tu código no debe modificar los datos del problema.\")\n",
    "    \n",
    "    # Caso 4: no es de tipo str.\n",
    "    assert type(regalo) == str, f\"Tu variable regalo no es de tipo {str.__name__}.\"\n",
    "\n",
    "    # Caso 5: el código no utiliza la variable catalogo \n",
    "    assert _i.find(\"catalogo\") >= 0, \"Tu código no utiliza la variable catalogo.\"\n",
    "\n",
    "    # Caso 6: la respuesta es correcta\n",
    "    assert regalo == 'Chocolates', \"Tu implementación presenta errores cuando el artículo más barato tiene un valor menor o igual a COP 10000. Es posible que no hayas manejado correctamente la regla de desempate.\"\n",
    "        \n",
    "except:\n",
    "    # Restaurar variables base originales\n",
    "    catalogo = {\"Oso de peluche\" : 50000, \"Perfume\" : 9800,\"Aretes\" : 5000, \"Dulces\" : 5000,\n",
    "                \"Blusa\" : 15000, \"Bono de peluqueria\" : 10000, \"Libros\" : 60000}\n",
    "    raise\n",
    "\n",
    "finally:\n",
    "    # Restaurar variables base originales\n",
    "    catalogo = {\"Oso de peluche\" : 50000, \"Perfume\" : 9800,\"Aretes\" : 5000, \"Dulces\" : 5000,\n",
    "                \"Blusa\" : 15000, \"Bono de peluqueria\" : 10000, \"Libros\" : 60000}\n",
    "\n",
    "#--------------\n",
    "# INSTANCIA 2\n",
    "#--------------\n",
    "\n",
    "# Base variables\n",
    "catalogo = {\"Peluche\" : 50000, \"Perfume\" : 98000, \"Cadena\" : 200000, \"Chocolates\" : 50000, \n",
    "            \"Zapatos\" : 1000000, \"Flores\" : 100000, \"Libro\" : 100000}\n",
    "try:\n",
    "    \n",
    "    # Caso 1: el código se ejecuta con errores\n",
    "    try:\n",
    "        exec(_i)\n",
    "    except:\n",
    "        raise RuntimeError(\"Tu código produce un error al ejecutarse.\")\n",
    "    \n",
    "    # Caso 2: no es de tipo str.\n",
    "    assert type(regalo) == str, f\"Tu variable regalo no es de tipo {str.__name__}.\"\n",
    "\n",
    "    # Caso 3: la respuesta es correcta\n",
    "    assert regalo == 'Carta', \"Tu implementación presenta errores cuando el artículo más barato vale más de COP 10000.\"\n",
    "        \n",
    "except:\n",
    "    # Restaurar variables base originales\n",
    "    catalogo = {\"Oso de peluche\" : 50000, \"Perfume\" : 9800,\"Aretes\" : 5000, \"Dulces\" : 5000,\n",
    "                \"Blusa\" : 15000, \"Bono de peluqueria\" : 10000, \"Libros\" : 60000}\n",
    "    raise\n",
    "\n",
    "finally:\n",
    "    # Restaurar variables base originales\n",
    "    catalogo = {\"Oso de peluche\" : 50000, \"Perfume\" : 9800,\"Aretes\" : 5000, \"Dulces\" : 5000,\n",
    "                \"Blusa\" : 15000, \"Bono de peluqueria\" : 10000, \"Libros\" : 60000}\n",
    "\n",
    "# Mensaje de felicitaciones\n",
    "print(\"Felicidades, realizaste este ejercicio correctamente.\")"
   ]
  },
  {
   "cell_type": "markdown",
   "metadata": {
    "deletable": false,
    "editable": false,
    "nbgrader": {
     "cell_type": "markdown",
     "checksum": "c1d9041ad4ed9d2459ef1a69994bc50b",
     "grade": false,
     "grade_id": "refs",
     "locked": true,
     "schema_version": 3,
     "solution": false,
     "task": false
    }
   },
   "source": [
    "## Referencias\n",
    "\n",
    "Senecode. (2019). Problemas. 25 Noviembre 2020, de Uniandes Sitio web: https://senecode.virtual.uniandes.edu.co/problemas/buscar\n",
    "\n",
    "BootCamp Uniandes. (2016). Notas de clase. 25 Noviembre 2020, de GitHub Sitio web: https://github.com/PythonBootcampUniandes/notas-de-clase"
   ]
  },
  {
   "cell_type": "markdown",
   "metadata": {
    "deletable": false,
    "editable": false,
    "nbgrader": {
     "cell_type": "markdown",
     "checksum": "ac0c823a27aaeabce9db13d173f4fd11",
     "grade": false,
     "grade_id": "creds",
     "locked": true,
     "schema_version": 3,
     "solution": false,
     "task": false
    }
   },
   "source": [
    "## Créditos\n",
    "\n",
    "__Autor(es)__: Camilo Falla Moreno, Juan Felipe Rengifo Méndez, Ariadna Sofía de Ávila Bula, Alejandro Mantilla Redondo, Diego Alejandro Cely Gómez\n",
    "\n",
    "__Fecha última actualización:__ 06/08/2021"
   ]
  }
 ],
 "metadata": {
  "kernelspec": {
   "display_name": "Python 3",
   "language": "python",
   "name": "python3"
  },
  "language_info": {
   "codemirror_mode": {
    "name": "ipython",
    "version": 3
   },
   "file_extension": ".py",
   "mimetype": "text/x-python",
   "name": "python",
   "nbconvert_exporter": "python",
   "pygments_lexer": "ipython3",
   "version": "3.8.8"
  }
 },
 "nbformat": 4,
 "nbformat_minor": 2
}
